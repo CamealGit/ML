{
 "cells": [
  {
   "cell_type": "code",
   "id": "initial_id",
   "metadata": {
    "collapsed": true,
    "ExecuteTime": {
     "end_time": "2024-08-20T11:52:18.390463Z",
     "start_time": "2024-08-20T11:52:18.076671Z"
    }
   },
   "source": [
    "import pandas as pd\n",
    "import seaborn as sns\n",
    "import matplotlib.pyplot as plt\n",
    "from sklearn.metrics import accuracy_score\n",
    "from sklearn.model_selection import train_test_split\n",
    "from sklearn.preprocessing import StandardScaler\n",
    "from sklearn.linear_model import LogisticRegression\n",
    "from sklearn.tree import DecisionTreeClassifier\n",
    "from sklearn.metrics import accuracy_score, classification_report, confusion_matrix"
   ],
   "outputs": [],
   "execution_count": 37
  },
  {
   "metadata": {
    "ExecuteTime": {
     "end_time": "2024-08-20T12:01:36.200089Z",
     "start_time": "2024-08-20T12:01:36.177074Z"
    }
   },
   "cell_type": "code",
   "source": [
    "#Loading data\n",
    "train = pd.read_csv('train.csv')\n",
    "test = pd.read_csv('test.csv')\n",
    "gend = pd.read_csv('gender_submission.csv')\n",
    "\n",
    "print(train.isnull().sum())"
   ],
   "id": "b56eca1525f13bfd",
   "outputs": [
    {
     "name": "stdout",
     "output_type": "stream",
     "text": [
      "PassengerId      0\n",
      "Survived         0\n",
      "Pclass           0\n",
      "Name             0\n",
      "Sex              0\n",
      "Age            177\n",
      "SibSp            0\n",
      "Parch            0\n",
      "Ticket           0\n",
      "Fare             0\n",
      "Cabin          687\n",
      "Embarked         2\n",
      "dtype: int64\n"
     ]
    }
   ],
   "execution_count": 60
  },
  {
   "metadata": {
    "ExecuteTime": {
     "end_time": "2024-08-20T11:41:18.832469Z",
     "start_time": "2024-08-20T11:41:18.816784Z"
    }
   },
   "cell_type": "code",
   "source": [
    "median_age = train[\"Age\"].median()\n",
    "train['Age'] = train['Age'].fillna(median_age)"
   ],
   "id": "24ae841770846d34",
   "outputs": [],
   "execution_count": 3
  },
  {
   "metadata": {
    "ExecuteTime": {
     "end_time": "2024-08-20T11:41:18.848107Z",
     "start_time": "2024-08-20T11:41:18.832469Z"
    }
   },
   "cell_type": "code",
   "source": [
    "train = train.drop(columns = [\"Cabin\"])\n",
    "test = test.drop(columns = [\"Cabin\"])"
   ],
   "id": "e74dd8df5d66272",
   "outputs": [],
   "execution_count": 4
  },
  {
   "metadata": {
    "ExecuteTime": {
     "end_time": "2024-08-20T11:41:18.864099Z",
     "start_time": "2024-08-20T11:41:18.848107Z"
    }
   },
   "cell_type": "code",
   "source": [
    "print(train['Embarked'].isnull().sum())\n",
    "print(train['Embarked'].value_counts())"
   ],
   "id": "6cd30ca0ff87ec75",
   "outputs": [
    {
     "name": "stdout",
     "output_type": "stream",
     "text": [
      "2\n",
      "Embarked\n",
      "S    644\n",
      "C    168\n",
      "Q     77\n",
      "Name: count, dtype: int64\n"
     ]
    }
   ],
   "execution_count": 5
  },
  {
   "metadata": {
    "ExecuteTime": {
     "end_time": "2024-08-20T11:41:18.888804Z",
     "start_time": "2024-08-20T11:41:18.864099Z"
    }
   },
   "cell_type": "code",
   "source": [
    "train['Embarked'] = train['Embarked'].fillna('S')\n",
    "print(train['Embarked'].value_counts())"
   ],
   "id": "42c35ff7f9d25474",
   "outputs": [
    {
     "name": "stdout",
     "output_type": "stream",
     "text": [
      "Embarked\n",
      "S    646\n",
      "C    168\n",
      "Q     77\n",
      "Name: count, dtype: int64\n"
     ]
    }
   ],
   "execution_count": 6
  },
  {
   "metadata": {
    "ExecuteTime": {
     "end_time": "2024-08-20T11:41:18.904524Z",
     "start_time": "2024-08-20T11:41:18.892633Z"
    }
   },
   "cell_type": "code",
   "source": [
    "test.isnull().sum()\n",
    "test['Age'] = test['Age'].fillna(median_age)\n"
   ],
   "id": "a023a0bbb203c316",
   "outputs": [],
   "execution_count": 7
  },
  {
   "metadata": {
    "ExecuteTime": {
     "end_time": "2024-08-20T11:41:18.920236Z",
     "start_time": "2024-08-20T11:41:18.908225Z"
    }
   },
   "cell_type": "code",
   "source": [
    "mean_fare = train['Fare'].mean()\n",
    "test['Fare'] = test['Fare'].fillna(mean_fare)\n",
    "\n"
   ],
   "id": "52fa51e3d4a0a093",
   "outputs": [],
   "execution_count": 8
  },
  {
   "metadata": {
    "ExecuteTime": {
     "end_time": "2024-08-20T11:41:18.951722Z",
     "start_time": "2024-08-20T11:41:18.923327Z"
    }
   },
   "cell_type": "code",
   "source": [
    "train_encoded = pd.get_dummies(train, columns=['Sex'], drop_first=True, dtype=int)\n",
    "test_encoded = pd.get_dummies(test, columns=['Sex'], drop_first=True, dtype=int)"
   ],
   "id": "1611f61c8cd00718",
   "outputs": [],
   "execution_count": 9
  },
  {
   "metadata": {
    "ExecuteTime": {
     "end_time": "2024-08-20T11:41:18.967440Z",
     "start_time": "2024-08-20T11:41:18.954427Z"
    }
   },
   "cell_type": "code",
   "source": [
    "print(train_encoded['Embarked'].unique())\n",
    "print(test_encoded['Embarked'].unique())"
   ],
   "id": "2ab999c1bf1f2b9c",
   "outputs": [
    {
     "name": "stdout",
     "output_type": "stream",
     "text": [
      "['S' 'C' 'Q']\n",
      "['Q' 'S' 'C']\n"
     ]
    }
   ],
   "execution_count": 10
  },
  {
   "metadata": {
    "ExecuteTime": {
     "end_time": "2024-08-20T11:41:18.998775Z",
     "start_time": "2024-08-20T11:41:18.967440Z"
    }
   },
   "cell_type": "code",
   "source": [
    "train_encoded1 = pd.get_dummies(train_encoded, columns=['Embarked'] ,drop_first=True, dtype=int)\n",
    "test_encoded1 = pd.get_dummies(test_encoded, columns=['Embarked'] ,drop_first=True, dtype=int)\n",
    "train_encoded1 = train_encoded1.drop(columns=[\"Ticket\"])\n",
    "test_encoded1 = test_encoded1.drop(columns=[\"Ticket\"])"
   ],
   "id": "54d43fedf5ffa134",
   "outputs": [],
   "execution_count": 11
  },
  {
   "metadata": {
    "ExecuteTime": {
     "end_time": "2024-08-20T11:41:19.014515Z",
     "start_time": "2024-08-20T11:41:18.998775Z"
    }
   },
   "cell_type": "code",
   "source": "scaler = StandardScaler()",
   "id": "f989ef080437af7c",
   "outputs": [],
   "execution_count": 12
  },
  {
   "metadata": {
    "ExecuteTime": {
     "end_time": "2024-08-20T11:41:19.061684Z",
     "start_time": "2024-08-20T11:41:19.014515Z"
    }
   },
   "cell_type": "code",
   "source": [
    "print(train_encoded1.describe())\n",
    "# print(test_encoded1.describe())"
   ],
   "id": "3eda4edb7c59e1f6",
   "outputs": [
    {
     "name": "stdout",
     "output_type": "stream",
     "text": [
      "       PassengerId    Survived      Pclass         Age       SibSp  \\\n",
      "count   891.000000  891.000000  891.000000  891.000000  891.000000   \n",
      "mean    446.000000    0.383838    2.308642   29.361582    0.523008   \n",
      "std     257.353842    0.486592    0.836071   13.019697    1.102743   \n",
      "min       1.000000    0.000000    1.000000    0.420000    0.000000   \n",
      "25%     223.500000    0.000000    2.000000   22.000000    0.000000   \n",
      "50%     446.000000    0.000000    3.000000   28.000000    0.000000   \n",
      "75%     668.500000    1.000000    3.000000   35.000000    1.000000   \n",
      "max     891.000000    1.000000    3.000000   80.000000    8.000000   \n",
      "\n",
      "            Parch        Fare    Sex_male  Embarked_Q  Embarked_S  \n",
      "count  891.000000  891.000000  891.000000  891.000000  891.000000  \n",
      "mean     0.381594   32.204208    0.647587    0.086420    0.725028  \n",
      "std      0.806057   49.693429    0.477990    0.281141    0.446751  \n",
      "min      0.000000    0.000000    0.000000    0.000000    0.000000  \n",
      "25%      0.000000    7.910400    0.000000    0.000000    0.000000  \n",
      "50%      0.000000   14.454200    1.000000    0.000000    1.000000  \n",
      "75%      0.000000   31.000000    1.000000    0.000000    1.000000  \n",
      "max      6.000000  512.329200    1.000000    1.000000    1.000000  \n"
     ]
    }
   ],
   "execution_count": 13
  },
  {
   "metadata": {
    "ExecuteTime": {
     "end_time": "2024-08-20T11:41:19.077701Z",
     "start_time": "2024-08-20T11:41:19.064861Z"
    }
   },
   "cell_type": "code",
   "source": [
    "train_age = train_encoded1[['Age']]\n",
    "test_age = test_encoded1[['Age']]"
   ],
   "id": "547b6fb25a0f3568",
   "outputs": [],
   "execution_count": 14
  },
  {
   "metadata": {
    "ExecuteTime": {
     "end_time": "2024-08-20T11:41:19.109604Z",
     "start_time": "2024-08-20T11:41:19.079014Z"
    }
   },
   "cell_type": "code",
   "source": [
    "agetrain_encoded = scaler.fit_transform(train_age)\n",
    "agetest_encoded = scaler.transform(test_age)"
   ],
   "id": "1e607693057e581d",
   "outputs": [],
   "execution_count": 15
  },
  {
   "metadata": {
    "ExecuteTime": {
     "end_time": "2024-08-20T11:41:19.125599Z",
     "start_time": "2024-08-20T11:41:19.116086Z"
    }
   },
   "cell_type": "code",
   "source": [
    "train_age_scaled = pd.DataFrame(agetrain_encoded, columns=[\"Age\"], index=train_encoded1.index)\n",
    "test_age_scaled = pd.DataFrame(agetest_encoded, columns=[\"Age\"], index=test_encoded1.index)"
   ],
   "id": "dd15a44d833ec2c9",
   "outputs": [],
   "execution_count": 16
  },
  {
   "metadata": {
    "ExecuteTime": {
     "end_time": "2024-08-20T11:41:19.156972Z",
     "start_time": "2024-08-20T11:41:19.129294Z"
    }
   },
   "cell_type": "code",
   "source": [
    "train_encoded1['Age'] = train_age_scaled\n",
    "test_encoded1['Age'] = test_age_scaled"
   ],
   "id": "2afade918b2e5fd8",
   "outputs": [],
   "execution_count": 17
  },
  {
   "metadata": {
    "ExecuteTime": {
     "end_time": "2024-08-20T11:41:19.179768Z",
     "start_time": "2024-08-20T11:41:19.156972Z"
    }
   },
   "cell_type": "code",
   "source": [
    "train_encoded1[['Fare']] = scaler.fit_transform(train_encoded1[['Fare']])\n",
    "test_encoded1[['Fare']] = scaler.transform(test_encoded1[['Fare']])"
   ],
   "id": "600812e4f5da7066",
   "outputs": [],
   "execution_count": 18
  },
  {
   "metadata": {},
   "cell_type": "code",
   "source": [
    "train_encoded1 = train_encoded1.drop(columns='Name')\n",
    "test_encoded1 = test_encoded1.drop(columns='Name')"
   ],
   "id": "492ba297c57df264",
   "outputs": [],
   "execution_count": null
  },
  {
   "metadata": {
    "ExecuteTime": {
     "end_time": "2024-08-20T11:43:26.443079Z",
     "start_time": "2024-08-20T11:43:26.427357Z"
    }
   },
   "cell_type": "code",
   "source": [
    "X = train_encoded1.drop(columns=['Survived'])\n",
    "y = train_encoded1['Survived']"
   ],
   "id": "d10a7721f0df2f52",
   "outputs": [],
   "execution_count": 28
  },
  {
   "metadata": {
    "ExecuteTime": {
     "end_time": "2024-08-20T11:43:46.843090Z",
     "start_time": "2024-08-20T11:43:46.827460Z"
    }
   },
   "cell_type": "code",
   "source": "X_train, X_test, y_train, y_test = train_test_split(X, y, test_size=0.2, random_state=0)",
   "id": "aaa997e315316f99",
   "outputs": [],
   "execution_count": 29
  },
  {
   "metadata": {
    "ExecuteTime": {
     "end_time": "2024-08-20T11:43:49.848626Z",
     "start_time": "2024-08-20T11:43:49.683395Z"
    }
   },
   "cell_type": "code",
   "source": [
    "model = LogisticRegression(max_iter=500)\n",
    "model.fit(X_train, y_train)"
   ],
   "id": "a5e822a126fb2664",
   "outputs": [
    {
     "data": {
      "text/plain": [
       "LogisticRegression(max_iter=500)"
      ],
      "text/html": [
       "<style>#sk-container-id-1 {color: black;}#sk-container-id-1 pre{padding: 0;}#sk-container-id-1 div.sk-toggleable {background-color: white;}#sk-container-id-1 label.sk-toggleable__label {cursor: pointer;display: block;width: 100%;margin-bottom: 0;padding: 0.3em;box-sizing: border-box;text-align: center;}#sk-container-id-1 label.sk-toggleable__label-arrow:before {content: \"▸\";float: left;margin-right: 0.25em;color: #696969;}#sk-container-id-1 label.sk-toggleable__label-arrow:hover:before {color: black;}#sk-container-id-1 div.sk-estimator:hover label.sk-toggleable__label-arrow:before {color: black;}#sk-container-id-1 div.sk-toggleable__content {max-height: 0;max-width: 0;overflow: hidden;text-align: left;background-color: #f0f8ff;}#sk-container-id-1 div.sk-toggleable__content pre {margin: 0.2em;color: black;border-radius: 0.25em;background-color: #f0f8ff;}#sk-container-id-1 input.sk-toggleable__control:checked~div.sk-toggleable__content {max-height: 200px;max-width: 100%;overflow: auto;}#sk-container-id-1 input.sk-toggleable__control:checked~label.sk-toggleable__label-arrow:before {content: \"▾\";}#sk-container-id-1 div.sk-estimator input.sk-toggleable__control:checked~label.sk-toggleable__label {background-color: #d4ebff;}#sk-container-id-1 div.sk-label input.sk-toggleable__control:checked~label.sk-toggleable__label {background-color: #d4ebff;}#sk-container-id-1 input.sk-hidden--visually {border: 0;clip: rect(1px 1px 1px 1px);clip: rect(1px, 1px, 1px, 1px);height: 1px;margin: -1px;overflow: hidden;padding: 0;position: absolute;width: 1px;}#sk-container-id-1 div.sk-estimator {font-family: monospace;background-color: #f0f8ff;border: 1px dotted black;border-radius: 0.25em;box-sizing: border-box;margin-bottom: 0.5em;}#sk-container-id-1 div.sk-estimator:hover {background-color: #d4ebff;}#sk-container-id-1 div.sk-parallel-item::after {content: \"\";width: 100%;border-bottom: 1px solid gray;flex-grow: 1;}#sk-container-id-1 div.sk-label:hover label.sk-toggleable__label {background-color: #d4ebff;}#sk-container-id-1 div.sk-serial::before {content: \"\";position: absolute;border-left: 1px solid gray;box-sizing: border-box;top: 0;bottom: 0;left: 50%;z-index: 0;}#sk-container-id-1 div.sk-serial {display: flex;flex-direction: column;align-items: center;background-color: white;padding-right: 0.2em;padding-left: 0.2em;position: relative;}#sk-container-id-1 div.sk-item {position: relative;z-index: 1;}#sk-container-id-1 div.sk-parallel {display: flex;align-items: stretch;justify-content: center;background-color: white;position: relative;}#sk-container-id-1 div.sk-item::before, #sk-container-id-1 div.sk-parallel-item::before {content: \"\";position: absolute;border-left: 1px solid gray;box-sizing: border-box;top: 0;bottom: 0;left: 50%;z-index: -1;}#sk-container-id-1 div.sk-parallel-item {display: flex;flex-direction: column;z-index: 1;position: relative;background-color: white;}#sk-container-id-1 div.sk-parallel-item:first-child::after {align-self: flex-end;width: 50%;}#sk-container-id-1 div.sk-parallel-item:last-child::after {align-self: flex-start;width: 50%;}#sk-container-id-1 div.sk-parallel-item:only-child::after {width: 0;}#sk-container-id-1 div.sk-dashed-wrapped {border: 1px dashed gray;margin: 0 0.4em 0.5em 0.4em;box-sizing: border-box;padding-bottom: 0.4em;background-color: white;}#sk-container-id-1 div.sk-label label {font-family: monospace;font-weight: bold;display: inline-block;line-height: 1.2em;}#sk-container-id-1 div.sk-label-container {text-align: center;}#sk-container-id-1 div.sk-container {/* jupyter's `normalize.less` sets `[hidden] { display: none; }` but bootstrap.min.css set `[hidden] { display: none !important; }` so we also need the `!important` here to be able to override the default hidden behavior on the sphinx rendered scikit-learn.org. See: https://github.com/scikit-learn/scikit-learn/issues/21755 */display: inline-block !important;position: relative;}#sk-container-id-1 div.sk-text-repr-fallback {display: none;}</style><div id=\"sk-container-id-1\" class=\"sk-top-container\"><div class=\"sk-text-repr-fallback\"><pre>LogisticRegression(max_iter=500)</pre><b>In a Jupyter environment, please rerun this cell to show the HTML representation or trust the notebook. <br />On GitHub, the HTML representation is unable to render, please try loading this page with nbviewer.org.</b></div><div class=\"sk-container\" hidden><div class=\"sk-item\"><div class=\"sk-estimator sk-toggleable\"><input class=\"sk-toggleable__control sk-hidden--visually\" id=\"sk-estimator-id-1\" type=\"checkbox\" checked><label for=\"sk-estimator-id-1\" class=\"sk-toggleable__label sk-toggleable__label-arrow\">LogisticRegression</label><div class=\"sk-toggleable__content\"><pre>LogisticRegression(max_iter=500)</pre></div></div></div></div></div>"
      ]
     },
     "execution_count": 30,
     "metadata": {},
     "output_type": "execute_result"
    }
   ],
   "execution_count": 30
  },
  {
   "metadata": {
    "ExecuteTime": {
     "end_time": "2024-08-20T11:58:13.670866Z",
     "start_time": "2024-08-20T11:58:13.639096Z"
    }
   },
   "cell_type": "code",
   "source": [
    "model_tree = DecisionTreeClassifier(random_state=2)\n",
    "model_tree.fit(X_train, y_train)"
   ],
   "id": "be830596eb0d891c",
   "outputs": [
    {
     "data": {
      "text/plain": [
       "DecisionTreeClassifier(random_state=2)"
      ],
      "text/html": [
       "<style>#sk-container-id-4 {color: black;}#sk-container-id-4 pre{padding: 0;}#sk-container-id-4 div.sk-toggleable {background-color: white;}#sk-container-id-4 label.sk-toggleable__label {cursor: pointer;display: block;width: 100%;margin-bottom: 0;padding: 0.3em;box-sizing: border-box;text-align: center;}#sk-container-id-4 label.sk-toggleable__label-arrow:before {content: \"▸\";float: left;margin-right: 0.25em;color: #696969;}#sk-container-id-4 label.sk-toggleable__label-arrow:hover:before {color: black;}#sk-container-id-4 div.sk-estimator:hover label.sk-toggleable__label-arrow:before {color: black;}#sk-container-id-4 div.sk-toggleable__content {max-height: 0;max-width: 0;overflow: hidden;text-align: left;background-color: #f0f8ff;}#sk-container-id-4 div.sk-toggleable__content pre {margin: 0.2em;color: black;border-radius: 0.25em;background-color: #f0f8ff;}#sk-container-id-4 input.sk-toggleable__control:checked~div.sk-toggleable__content {max-height: 200px;max-width: 100%;overflow: auto;}#sk-container-id-4 input.sk-toggleable__control:checked~label.sk-toggleable__label-arrow:before {content: \"▾\";}#sk-container-id-4 div.sk-estimator input.sk-toggleable__control:checked~label.sk-toggleable__label {background-color: #d4ebff;}#sk-container-id-4 div.sk-label input.sk-toggleable__control:checked~label.sk-toggleable__label {background-color: #d4ebff;}#sk-container-id-4 input.sk-hidden--visually {border: 0;clip: rect(1px 1px 1px 1px);clip: rect(1px, 1px, 1px, 1px);height: 1px;margin: -1px;overflow: hidden;padding: 0;position: absolute;width: 1px;}#sk-container-id-4 div.sk-estimator {font-family: monospace;background-color: #f0f8ff;border: 1px dotted black;border-radius: 0.25em;box-sizing: border-box;margin-bottom: 0.5em;}#sk-container-id-4 div.sk-estimator:hover {background-color: #d4ebff;}#sk-container-id-4 div.sk-parallel-item::after {content: \"\";width: 100%;border-bottom: 1px solid gray;flex-grow: 1;}#sk-container-id-4 div.sk-label:hover label.sk-toggleable__label {background-color: #d4ebff;}#sk-container-id-4 div.sk-serial::before {content: \"\";position: absolute;border-left: 1px solid gray;box-sizing: border-box;top: 0;bottom: 0;left: 50%;z-index: 0;}#sk-container-id-4 div.sk-serial {display: flex;flex-direction: column;align-items: center;background-color: white;padding-right: 0.2em;padding-left: 0.2em;position: relative;}#sk-container-id-4 div.sk-item {position: relative;z-index: 1;}#sk-container-id-4 div.sk-parallel {display: flex;align-items: stretch;justify-content: center;background-color: white;position: relative;}#sk-container-id-4 div.sk-item::before, #sk-container-id-4 div.sk-parallel-item::before {content: \"\";position: absolute;border-left: 1px solid gray;box-sizing: border-box;top: 0;bottom: 0;left: 50%;z-index: -1;}#sk-container-id-4 div.sk-parallel-item {display: flex;flex-direction: column;z-index: 1;position: relative;background-color: white;}#sk-container-id-4 div.sk-parallel-item:first-child::after {align-self: flex-end;width: 50%;}#sk-container-id-4 div.sk-parallel-item:last-child::after {align-self: flex-start;width: 50%;}#sk-container-id-4 div.sk-parallel-item:only-child::after {width: 0;}#sk-container-id-4 div.sk-dashed-wrapped {border: 1px dashed gray;margin: 0 0.4em 0.5em 0.4em;box-sizing: border-box;padding-bottom: 0.4em;background-color: white;}#sk-container-id-4 div.sk-label label {font-family: monospace;font-weight: bold;display: inline-block;line-height: 1.2em;}#sk-container-id-4 div.sk-label-container {text-align: center;}#sk-container-id-4 div.sk-container {/* jupyter's `normalize.less` sets `[hidden] { display: none; }` but bootstrap.min.css set `[hidden] { display: none !important; }` so we also need the `!important` here to be able to override the default hidden behavior on the sphinx rendered scikit-learn.org. See: https://github.com/scikit-learn/scikit-learn/issues/21755 */display: inline-block !important;position: relative;}#sk-container-id-4 div.sk-text-repr-fallback {display: none;}</style><div id=\"sk-container-id-4\" class=\"sk-top-container\"><div class=\"sk-text-repr-fallback\"><pre>DecisionTreeClassifier(random_state=2)</pre><b>In a Jupyter environment, please rerun this cell to show the HTML representation or trust the notebook. <br />On GitHub, the HTML representation is unable to render, please try loading this page with nbviewer.org.</b></div><div class=\"sk-container\" hidden><div class=\"sk-item\"><div class=\"sk-estimator sk-toggleable\"><input class=\"sk-toggleable__control sk-hidden--visually\" id=\"sk-estimator-id-4\" type=\"checkbox\" checked><label for=\"sk-estimator-id-4\" class=\"sk-toggleable__label sk-toggleable__label-arrow\">DecisionTreeClassifier</label><div class=\"sk-toggleable__content\"><pre>DecisionTreeClassifier(random_state=2)</pre></div></div></div></div></div>"
      ]
     },
     "execution_count": 46,
     "metadata": {},
     "output_type": "execute_result"
    }
   ],
   "execution_count": 46
  },
  {
   "metadata": {
    "ExecuteTime": {
     "end_time": "2024-08-20T11:58:21.142617Z",
     "start_time": "2024-08-20T11:58:21.118189Z"
    }
   },
   "cell_type": "code",
   "source": [
    "#Prediction\n",
    "y_pred_tree = model_tree.predict(X_test)\n",
    "y_val_prediction = model.predict(X_test) "
   ],
   "id": "50e4f3f4e5b07358",
   "outputs": [],
   "execution_count": 49
  },
  {
   "metadata": {
    "ExecuteTime": {
     "end_time": "2024-08-20T12:00:27.620718Z",
     "start_time": "2024-08-20T12:00:27.597084Z"
    }
   },
   "cell_type": "code",
   "source": [
    "accuracy = accuracy_score(y_test, y_val_prediction)\n",
    "accuracy_tre = accuracy_score(y_test, y_pred_tree)\n",
    "print(f\"{accuracy:.4f} Logistic Regression\")\n",
    "print(f\"{accuracy_tre:.4f} Decision Tree\")"
   ],
   "id": "d9baefce3b947566",
   "outputs": [
    {
     "name": "stdout",
     "output_type": "stream",
     "text": [
      "0.8045 Logistic Regression\n",
      "0.7989 Decision Tree\n"
     ]
    }
   ],
   "execution_count": 58
  },
  {
   "metadata": {},
   "cell_type": "code",
   "outputs": [],
   "execution_count": null,
   "source": "",
   "id": "7ac518cecc8e6ecc"
  }
 ],
 "metadata": {
  "kernelspec": {
   "display_name": "Python 3",
   "language": "python",
   "name": "python3"
  },
  "language_info": {
   "codemirror_mode": {
    "name": "ipython",
    "version": 2
   },
   "file_extension": ".py",
   "mimetype": "text/x-python",
   "name": "python",
   "nbconvert_exporter": "python",
   "pygments_lexer": "ipython2",
   "version": "2.7.6"
  }
 },
 "nbformat": 4,
 "nbformat_minor": 5
}
