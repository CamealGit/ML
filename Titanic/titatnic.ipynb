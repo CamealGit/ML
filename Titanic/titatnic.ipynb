{
 "cells": [
  {
   "cell_type": "code",
   "id": "initial_id",
   "metadata": {
    "collapsed": true,
    "ExecuteTime": {
     "end_time": "2024-08-20T11:52:18.390463Z",
     "start_time": "2024-08-20T11:52:18.076671Z"
    }
   },
   "source": [
    "import pandas as pd\n",
    "import seaborn as sns\n",
    "import matplotlib.pyplot as plt\n",
    "from sklearn.metrics import accuracy_score\n",
    "from sklearn.model_selection import train_test_split\n",
    "from sklearn.preprocessing import StandardScaler\n",
    "from sklearn.linear_model import LogisticRegression\n",
    "from sklearn.tree import DecisionTreeClassifier\n",
    "from sklearn.metrics import accuracy_score, classification_report, confusion_matrix"
   ],
   "execution_count": 37,
   "outputs": []
  },
  {
   "metadata": {
    "ExecuteTime": {
     "end_time": "2024-08-20T12:01:36.200089Z",
     "start_time": "2024-08-20T12:01:36.177074Z"
    }
   },
   "cell_type": "code",
   "source": [
    "#Loading data\n",
    "train = pd.read_csv('train.csv')\n",
    "test = pd.read_csv('test.csv')\n",
    "gend = pd.read_csv('gender_submission.csv')\n",
    "\n",
    "print(train.isnull().sum())"
   ],
   "id": "b56eca1525f13bfd",
   "execution_count": 60,
   "outputs": []
  },
  {
   "metadata": {
    "ExecuteTime": {
     "end_time": "2024-08-20T11:41:18.832469Z",
     "start_time": "2024-08-20T11:41:18.816784Z"
    }
   },
   "cell_type": "code",
   "source": [
    "median_age = train[\"Age\"].median()\n",
    "train['Age'] = train['Age'].fillna(median_age)"
   ],
   "id": "24ae841770846d34",
   "execution_count": 3,
   "outputs": []
  },
  {
   "metadata": {
    "ExecuteTime": {
     "end_time": "2024-08-20T11:41:18.848107Z",
     "start_time": "2024-08-20T11:41:18.832469Z"
    }
   },
   "cell_type": "code",
   "source": [
    "train = train.drop(columns = [\"Cabin\"])\n",
    "test = test.drop(columns = [\"Cabin\"])"
   ],
   "id": "e74dd8df5d66272",
   "execution_count": 4,
   "outputs": []
  },
  {
   "metadata": {
    "ExecuteTime": {
     "end_time": "2024-08-20T11:41:18.864099Z",
     "start_time": "2024-08-20T11:41:18.848107Z"
    }
   },
   "cell_type": "code",
   "source": [
    "print(train['Embarked'].isnull().sum())\n",
    "print(train['Embarked'].value_counts())"
   ],
   "id": "6cd30ca0ff87ec75",
   "execution_count": 5,
   "outputs": []
  },
  {
   "metadata": {
    "ExecuteTime": {
     "end_time": "2024-08-20T11:41:18.888804Z",
     "start_time": "2024-08-20T11:41:18.864099Z"
    }
   },
   "cell_type": "code",
   "source": [
    "train['Embarked'] = train['Embarked'].fillna('S')\n",
    "print(train['Embarked'].value_counts())"
   ],
   "id": "42c35ff7f9d25474",
   "execution_count": 6,
   "outputs": []
  },
  {
   "metadata": {
    "ExecuteTime": {
     "end_time": "2024-08-20T11:41:18.904524Z",
     "start_time": "2024-08-20T11:41:18.892633Z"
    }
   },
   "cell_type": "code",
   "source": [
    "test.isnull().sum()\n",
    "test['Age'] = test['Age'].fillna(median_age)\n"
   ],
   "id": "a023a0bbb203c316",
   "execution_count": 7,
   "outputs": []
  },
  {
   "metadata": {
    "ExecuteTime": {
     "end_time": "2024-08-20T11:41:18.920236Z",
     "start_time": "2024-08-20T11:41:18.908225Z"
    }
   },
   "cell_type": "code",
   "source": [
    "mean_fare = train['Fare'].mean()\n",
    "test['Fare'] = test['Fare'].fillna(mean_fare)\n",
    "\n"
   ],
   "id": "52fa51e3d4a0a093",
   "execution_count": 8,
   "outputs": []
  },
  {
   "metadata": {
    "ExecuteTime": {
     "end_time": "2024-08-20T11:41:18.951722Z",
     "start_time": "2024-08-20T11:41:18.923327Z"
    }
   },
   "cell_type": "code",
   "source": [
    "train_encoded = pd.get_dummies(train, columns=['Sex'], drop_first=True, dtype=int)\n",
    "test_encoded = pd.get_dummies(test, columns=['Sex'], drop_first=True, dtype=int)"
   ],
   "id": "1611f61c8cd00718",
   "execution_count": 9,
   "outputs": []
  },
  {
   "metadata": {
    "ExecuteTime": {
     "end_time": "2024-08-20T11:41:18.967440Z",
     "start_time": "2024-08-20T11:41:18.954427Z"
    }
   },
   "cell_type": "code",
   "source": [
    "print(train_encoded['Embarked'].unique())\n",
    "print(test_encoded['Embarked'].unique())"
   ],
   "id": "2ab999c1bf1f2b9c",
   "execution_count": 10,
   "outputs": []
  },
  {
   "metadata": {
    "ExecuteTime": {
     "end_time": "2024-08-20T11:41:18.998775Z",
     "start_time": "2024-08-20T11:41:18.967440Z"
    }
   },
   "cell_type": "code",
   "source": [
    "train_encoded1 = pd.get_dummies(train_encoded, columns=['Embarked'] ,drop_first=True, dtype=int)\n",
    "test_encoded1 = pd.get_dummies(test_encoded, columns=['Embarked'] ,drop_first=True, dtype=int)\n",
    "train_encoded1 = train_encoded1.drop(columns=[\"Ticket\"])\n",
    "test_encoded1 = test_encoded1.drop(columns=[\"Ticket\"])"
   ],
   "id": "54d43fedf5ffa134",
   "execution_count": 11,
   "outputs": []
  },
  {
   "metadata": {
    "ExecuteTime": {
     "end_time": "2024-08-20T11:41:19.014515Z",
     "start_time": "2024-08-20T11:41:18.998775Z"
    }
   },
   "cell_type": "code",
   "source": "scaler = StandardScaler()",
   "id": "f989ef080437af7c",
   "execution_count": 12,
   "outputs": []
  },
  {
   "metadata": {
    "ExecuteTime": {
     "end_time": "2024-08-20T11:41:19.061684Z",
     "start_time": "2024-08-20T11:41:19.014515Z"
    }
   },
   "cell_type": "code",
   "source": [
    "print(train_encoded1.describe())\n",
    "# print(test_encoded1.describe())"
   ],
   "id": "3eda4edb7c59e1f6",
   "execution_count": 13,
   "outputs": []
  },
  {
   "metadata": {
    "ExecuteTime": {
     "end_time": "2024-08-20T11:41:19.077701Z",
     "start_time": "2024-08-20T11:41:19.064861Z"
    }
   },
   "cell_type": "code",
   "source": [
    "train_age = train_encoded1[['Age']]\n",
    "test_age = test_encoded1[['Age']]"
   ],
   "id": "547b6fb25a0f3568",
   "execution_count": 14,
   "outputs": []
  },
  {
   "metadata": {
    "ExecuteTime": {
     "end_time": "2024-08-20T11:41:19.109604Z",
     "start_time": "2024-08-20T11:41:19.079014Z"
    }
   },
   "cell_type": "code",
   "source": [
    "agetrain_encoded = scaler.fit_transform(train_age)\n",
    "agetest_encoded = scaler.transform(test_age)"
   ],
   "id": "1e607693057e581d",
   "execution_count": 15,
   "outputs": []
  },
  {
   "metadata": {
    "ExecuteTime": {
     "end_time": "2024-08-20T11:41:19.125599Z",
     "start_time": "2024-08-20T11:41:19.116086Z"
    }
   },
   "cell_type": "code",
   "source": [
    "train_age_scaled = pd.DataFrame(agetrain_encoded, columns=[\"Age\"], index=train_encoded1.index)\n",
    "test_age_scaled = pd.DataFrame(agetest_encoded, columns=[\"Age\"], index=test_encoded1.index)"
   ],
   "id": "dd15a44d833ec2c9",
   "execution_count": 16,
   "outputs": []
  },
  {
   "metadata": {
    "ExecuteTime": {
     "end_time": "2024-08-20T11:41:19.156972Z",
     "start_time": "2024-08-20T11:41:19.129294Z"
    }
   },
   "cell_type": "code",
   "source": [
    "train_encoded1['Age'] = train_age_scaled\n",
    "test_encoded1['Age'] = test_age_scaled"
   ],
   "id": "2afade918b2e5fd8",
   "execution_count": 17,
   "outputs": []
  },
  {
   "metadata": {
    "ExecuteTime": {
     "end_time": "2024-08-20T11:41:19.179768Z",
     "start_time": "2024-08-20T11:41:19.156972Z"
    }
   },
   "cell_type": "code",
   "source": [
    "train_encoded1[['Fare']] = scaler.fit_transform(train_encoded1[['Fare']])\n",
    "test_encoded1[['Fare']] = scaler.transform(test_encoded1[['Fare']])"
   ],
   "id": "600812e4f5da7066",
   "execution_count": 18,
   "outputs": []
  },
  {
   "metadata": {},
   "cell_type": "code",
   "source": [
    "train_encoded1 = train_encoded1.drop(columns='Name')\n",
    "test_encoded1 = test_encoded1.drop(columns='Name')"
   ],
   "id": "492ba297c57df264",
   "execution_count": null,
   "outputs": []
  },
  {
   "metadata": {
    "ExecuteTime": {
     "end_time": "2024-08-20T11:43:26.443079Z",
     "start_time": "2024-08-20T11:43:26.427357Z"
    }
   },
   "cell_type": "code",
   "source": [
    "X = train_encoded1.drop(columns=['Survived'])\n",
    "y = train_encoded1['Survived']"
   ],
   "id": "d10a7721f0df2f52",
   "execution_count": 28,
   "outputs": []
  },
  {
   "metadata": {
    "ExecuteTime": {
     "end_time": "2024-08-20T11:43:46.843090Z",
     "start_time": "2024-08-20T11:43:46.827460Z"
    }
   },
   "cell_type": "code",
   "source": "X_train, X_test, y_train, y_test = train_test_split(X, y, test_size=0.2, random_state=0)",
   "id": "aaa997e315316f99",
   "execution_count": 29,
   "outputs": []
  },
  {
   "metadata": {
    "ExecuteTime": {
     "end_time": "2024-08-20T11:43:49.848626Z",
     "start_time": "2024-08-20T11:43:49.683395Z"
    }
   },
   "cell_type": "code",
   "source": [
    "model = LogisticRegression(max_iter=500)\n",
    "model.fit(X_train, y_train)"
   ],
   "id": "a5e822a126fb2664",
   "execution_count": 30,
   "outputs": []
  },
  {
   "metadata": {
    "ExecuteTime": {
     "end_time": "2024-08-20T11:58:13.670866Z",
     "start_time": "2024-08-20T11:58:13.639096Z"
    }
   },
   "cell_type": "code",
   "source": [
    "model_tree = DecisionTreeClassifier(random_state=2)\n",
    "model_tree.fit(X_train, y_train)"
   ],
   "id": "be830596eb0d891c",
   "execution_count": 46,
   "outputs": []
  },
  {
   "metadata": {
    "ExecuteTime": {
     "end_time": "2024-08-20T11:58:21.142617Z",
     "start_time": "2024-08-20T11:58:21.118189Z"
    }
   },
   "cell_type": "code",
   "source": [
    "#Prediction\n",
    "y_pred_tree = model_tree.predict(X_test)\n",
    "y_val_prediction = model.predict(X_test) "
   ],
   "id": "50e4f3f4e5b07358",
   "execution_count": 49,
   "outputs": []
  },
  {
   "metadata": {
    "ExecuteTime": {
     "end_time": "2024-08-20T12:00:27.620718Z",
     "start_time": "2024-08-20T12:00:27.597084Z"
    }
   },
   "cell_type": "code",
   "source": [
    "accuracy = accuracy_score(y_test, y_val_prediction)\n",
    "accuracy_tre = accuracy_score(y_test, y_pred_tree)\n",
    "print(f\"{accuracy:.4f} Logistic Regression\")\n",
    "print(f\"{accuracy_tre:.4f} Decision Tree\")"
   ],
   "id": "d9baefce3b947566",
   "execution_count": 58,
   "outputs": []
  },
  {
   "metadata": {},
   "cell_type": "code",
   "execution_count": null,
   "source": "",
   "id": "7ac518cecc8e6ecc",
   "outputs": []
  }
 ],
 "metadata": {
  "kernelspec": {
   "display_name": "Python 3",
   "language": "python",
   "name": "python3"
  },
  "language_info": {
   "codemirror_mode": {
    "name": "ipython",
    "version": 2
   },
   "file_extension": ".py",
   "mimetype": "text/x-python",
   "name": "python",
   "nbconvert_exporter": "python",
   "pygments_lexer": "ipython2",
   "version": "2.7.6"
  }
 },
 "nbformat": 4,
 "nbformat_minor": 5
}
