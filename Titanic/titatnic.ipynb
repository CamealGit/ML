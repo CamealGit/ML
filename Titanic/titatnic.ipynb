{
 "cells": [
  {
   "cell_type": "code",
   "id": "initial_id",
   "metadata": {
    "collapsed": true,
    "ExecuteTime": {
     "end_time": "2024-08-18T14:45:01.955841Z",
     "start_time": "2024-08-18T14:45:01.947845Z"
    }
   },
   "source": [
    "import pandas as pd\n",
    "import seaborn as sns\n",
    "import matplotlib.pyplot as plt"
   ],
   "outputs": [],
   "execution_count": 102
  },
  {
   "metadata": {
    "ExecuteTime": {
     "end_time": "2024-08-18T14:38:55.125769Z",
     "start_time": "2024-08-18T14:38:55.095767Z"
    }
   },
   "cell_type": "code",
   "source": [
    "train = pd.read_csv('Titanic/train.csv')\n",
    "test = pd.read_csv('Titanic/test.csv')\n",
    "gend = pd.read_csv('Titanic/gender_submission.csv')\n",
    "# print(gend.head())\n",
    "# print(test.head())\n",
    "\n",
    "dftest = test.copy()\n",
    "\n",
    "print(test.describe())\n",
    "print(test.isnull().sum())\n",
    "\n"
   ],
   "id": "b56eca1525f13bfd",
   "outputs": [
    {
     "name": "stdout",
     "output_type": "stream",
     "text": [
      "       PassengerId      Pclass         Age       SibSp       Parch        Fare\n",
      "count   418.000000  418.000000  332.000000  418.000000  418.000000  417.000000\n",
      "mean   1100.500000    2.265550   30.272590    0.447368    0.392344   35.627188\n",
      "std     120.810458    0.841838   14.181209    0.896760    0.981429   55.907576\n",
      "min     892.000000    1.000000    0.170000    0.000000    0.000000    0.000000\n",
      "25%     996.250000    1.000000   21.000000    0.000000    0.000000    7.895800\n",
      "50%    1100.500000    3.000000   27.000000    0.000000    0.000000   14.454200\n",
      "75%    1204.750000    3.000000   39.000000    1.000000    0.000000   31.500000\n",
      "max    1309.000000    3.000000   76.000000    8.000000    9.000000  512.329200\n",
      "PassengerId      0\n",
      "Pclass           0\n",
      "Name             0\n",
      "Sex              0\n",
      "Age             86\n",
      "SibSp            0\n",
      "Parch            0\n",
      "Ticket           0\n",
      "Fare             1\n",
      "Cabin          327\n",
      "Embarked         0\n",
      "dtype: int64\n"
     ]
    }
   ],
   "execution_count": 73
  },
  {
   "metadata": {
    "ExecuteTime": {
     "end_time": "2024-08-18T14:42:20.432747Z",
     "start_time": "2024-08-18T14:42:20.412228Z"
    }
   },
   "cell_type": "code",
   "source": [
    "median_age = train['Age'].median()\n",
    "dftest['Age'] = test['Age'].fillna(median_age)\n",
    "print(dftest.isnull().sum())"
   ],
   "id": "e78852073ce0b42d",
   "outputs": [
    {
     "name": "stdout",
     "output_type": "stream",
     "text": [
      "PassengerId      0\n",
      "Pclass           0\n",
      "Name             0\n",
      "Sex              0\n",
      "Age              0\n",
      "SibSp            0\n",
      "Parch            0\n",
      "Ticket           0\n",
      "Fare             1\n",
      "Cabin          327\n",
      "Embarked         0\n",
      "dtype: int64\n"
     ]
    }
   ],
   "execution_count": 91
  },
  {
   "metadata": {
    "ExecuteTime": {
     "end_time": "2024-08-18T14:45:51.969199Z",
     "start_time": "2024-08-18T14:45:51.963204Z"
    }
   },
   "cell_type": "code",
   "source": "",
   "id": "cb90bfa01b2c1f24",
   "outputs": [],
   "execution_count": 105
  }
 ],
 "metadata": {
  "kernelspec": {
   "display_name": "Python 3",
   "language": "python",
   "name": "python3"
  },
  "language_info": {
   "codemirror_mode": {
    "name": "ipython",
    "version": 2
   },
   "file_extension": ".py",
   "mimetype": "text/x-python",
   "name": "python",
   "nbconvert_exporter": "python",
   "pygments_lexer": "ipython2",
   "version": "2.7.6"
  }
 },
 "nbformat": 4,
 "nbformat_minor": 5
}
