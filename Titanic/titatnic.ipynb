{
 "cells": [
  {
   "cell_type": "code",
   "id": "initial_id",
   "metadata": {
    "collapsed": true,
    "ExecuteTime": {
     "end_time": "2024-09-10T09:32:47.258870Z",
     "start_time": "2024-09-10T09:32:47.014865Z"
    }
   },
   "source": [
    "import pandas as pd\n",
    "import seaborn as sns\n",
    "import matplotlib.pyplot as plt\n",
    "from sklearn.metrics import accuracy_score\n",
    "from sklearn.model_selection import train_test_split\n",
    "from sklearn.preprocessing import StandardScaler\n",
    "from sklearn.linear_model import LogisticRegression\n",
    "from sklearn.tree import DecisionTreeClassifier\n",
    "from sklearn.metrics import accuracy_score, classification_report, confusion_matrix"
   ],
   "execution_count": 1,
   "outputs": []
  },
  {
   "metadata": {
    "ExecuteTime": {
     "end_time": "2024-09-10T09:32:47.273865Z",
     "start_time": "2024-09-10T09:32:47.259865Z"
    }
   },
   "cell_type": "code",
   "source": [
    "#Loading data\n",
    "train = pd.read_csv('train.csv')\n",
    "test = pd.read_csv('test.csv')\n",
    "gend = pd.read_csv('gender_submission.csv')\n",
    "\n",
    "print(train.isnull().sum())"
   ],
   "id": "b56eca1525f13bfd",
   "execution_count": 2,
   "outputs": []
  },
  {
   "metadata": {
    "ExecuteTime": {
     "end_time": "2024-09-10T09:32:47.288870Z",
     "start_time": "2024-09-10T09:32:47.274865Z"
    }
   },
   "cell_type": "code",
   "source": [
    "median_age = train[\"Age\"].median()\n",
    "train['Age'] = train['Age'].fillna(median_age)"
   ],
   "id": "24ae841770846d34",
   "execution_count": 3,
   "outputs": []
  },
  {
   "metadata": {
    "ExecuteTime": {
     "end_time": "2024-09-10T09:32:47.304864Z",
     "start_time": "2024-09-10T09:32:47.290866Z"
    }
   },
   "cell_type": "code",
   "source": [
    "train = train.drop(columns = [\"Cabin\"])\n",
    "test = test.drop(columns = [\"Cabin\"])"
   ],
   "id": "e74dd8df5d66272",
   "execution_count": 4,
   "outputs": []
  },
  {
   "metadata": {
    "ExecuteTime": {
     "end_time": "2024-09-10T09:32:47.319864Z",
     "start_time": "2024-09-10T09:32:47.305865Z"
    }
   },
   "cell_type": "code",
   "source": [
    "print(train['Embarked'].isnull().sum())\n",
    "print(train['Embarked'].value_counts())"
   ],
   "id": "6cd30ca0ff87ec75",
   "execution_count": 5,
   "outputs": []
  },
  {
   "metadata": {
    "ExecuteTime": {
     "end_time": "2024-09-10T09:32:47.334865Z",
     "start_time": "2024-09-10T09:32:47.320865Z"
    }
   },
   "cell_type": "code",
   "source": [
    "train['Embarked'] = train['Embarked'].fillna('S')\n",
    "print(train['Embarked'].value_counts())"
   ],
   "id": "42c35ff7f9d25474",
   "execution_count": 6,
   "outputs": []
  },
  {
   "metadata": {
    "ExecuteTime": {
     "end_time": "2024-09-10T09:32:47.349864Z",
     "start_time": "2024-09-10T09:32:47.335865Z"
    }
   },
   "cell_type": "code",
   "source": [
    "test.isnull().sum()\n",
    "test['Age'] = test['Age'].fillna(median_age)\n"
   ],
   "id": "a023a0bbb203c316",
   "execution_count": 7,
   "outputs": []
  },
  {
   "metadata": {
    "ExecuteTime": {
     "end_time": "2024-09-10T09:32:47.364867Z",
     "start_time": "2024-09-10T09:32:47.350865Z"
    }
   },
   "cell_type": "code",
   "source": [
    "mean_fare = train['Fare'].mean()\n",
    "test['Fare'] = test['Fare'].fillna(mean_fare)\n",
    "\n"
   ],
   "id": "52fa51e3d4a0a093",
   "execution_count": 8,
   "outputs": []
  },
  {
   "metadata": {
    "ExecuteTime": {
     "end_time": "2024-09-10T09:32:47.380864Z",
     "start_time": "2024-09-10T09:32:47.366867Z"
    }
   },
   "cell_type": "code",
   "source": [
    "train_encoded = pd.get_dummies(train, columns=['Sex'], drop_first=True, dtype=int)\n",
    "test_encoded = pd.get_dummies(test, columns=['Sex'], drop_first=True, dtype=int)"
   ],
   "id": "1611f61c8cd00718",
   "execution_count": 9,
   "outputs": []
  },
  {
   "metadata": {
    "ExecuteTime": {
     "end_time": "2024-09-10T09:32:47.396864Z",
     "start_time": "2024-09-10T09:32:47.381864Z"
    }
   },
   "cell_type": "code",
   "source": [
    "print(train_encoded['Embarked'].unique())\n",
    "print(test_encoded['Embarked'].unique())"
   ],
   "id": "2ab999c1bf1f2b9c",
   "execution_count": 10,
   "outputs": []
  },
  {
   "metadata": {
    "ExecuteTime": {
     "end_time": "2024-09-10T09:32:47.412865Z",
     "start_time": "2024-09-10T09:32:47.398865Z"
    }
   },
   "cell_type": "code",
   "source": [
    "train_encoded1 = pd.get_dummies(train_encoded, columns=['Embarked'] ,drop_first=True, dtype=int)\n",
    "test_encoded1 = pd.get_dummies(test_encoded, columns=['Embarked'] ,drop_first=True, dtype=int)\n",
    "train_encoded1 = train_encoded1.drop(columns=[\"Ticket\"])\n",
    "test_encoded1 = test_encoded1.drop(columns=[\"Ticket\"])"
   ],
   "id": "54d43fedf5ffa134",
   "execution_count": 11,
   "outputs": []
  },
  {
   "metadata": {
    "ExecuteTime": {
     "end_time": "2024-09-10T09:32:47.427865Z",
     "start_time": "2024-09-10T09:32:47.414865Z"
    }
   },
   "cell_type": "code",
   "source": "scaler = StandardScaler()",
   "id": "f989ef080437af7c",
   "execution_count": 12,
   "outputs": []
  },
  {
   "metadata": {
    "ExecuteTime": {
     "end_time": "2024-09-10T09:32:47.457864Z",
     "start_time": "2024-09-10T09:32:47.428866Z"
    }
   },
   "cell_type": "code",
   "source": [
    "print(train_encoded1.describe())\n",
    "# print(test_encoded1.describe())"
   ],
   "id": "3eda4edb7c59e1f6",
   "execution_count": 13,
   "outputs": []
  },
  {
   "metadata": {
    "ExecuteTime": {
     "end_time": "2024-09-10T09:32:47.472871Z",
     "start_time": "2024-09-10T09:32:47.458865Z"
    }
   },
   "cell_type": "code",
   "source": [
    "train_age = train_encoded1[['Age']]\n",
    "test_age = test_encoded1[['Age']]"
   ],
   "id": "547b6fb25a0f3568",
   "execution_count": 14,
   "outputs": []
  },
  {
   "metadata": {
    "ExecuteTime": {
     "end_time": "2024-09-10T09:32:47.487871Z",
     "start_time": "2024-09-10T09:32:47.473866Z"
    }
   },
   "cell_type": "code",
   "source": [
    "agetrain_encoded = scaler.fit_transform(train_age)\n",
    "agetest_encoded = scaler.transform(test_age)"
   ],
   "id": "1e607693057e581d",
   "execution_count": 15,
   "outputs": []
  },
  {
   "metadata": {
    "ExecuteTime": {
     "end_time": "2024-09-10T09:32:47.502864Z",
     "start_time": "2024-09-10T09:32:47.490865Z"
    }
   },
   "cell_type": "code",
   "source": [
    "train_age_scaled = pd.DataFrame(agetrain_encoded, columns=[\"Age\"], index=train_encoded1.index)\n",
    "test_age_scaled = pd.DataFrame(agetest_encoded, columns=[\"Age\"], index=test_encoded1.index)"
   ],
   "id": "dd15a44d833ec2c9",
   "execution_count": 16,
   "outputs": []
  },
  {
   "metadata": {
    "ExecuteTime": {
     "end_time": "2024-09-10T09:32:47.518864Z",
     "start_time": "2024-09-10T09:32:47.503865Z"
    }
   },
   "cell_type": "code",
   "source": [
    "train_encoded1['Age'] = train_age_scaled\n",
    "test_encoded1['Age'] = test_age_scaled"
   ],
   "id": "2afade918b2e5fd8",
   "execution_count": 17,
   "outputs": []
  },
  {
   "metadata": {
    "ExecuteTime": {
     "end_time": "2024-09-10T09:32:47.533871Z",
     "start_time": "2024-09-10T09:32:47.519864Z"
    }
   },
   "cell_type": "code",
   "source": [
    "train_encoded1[['Fare']] = scaler.fit_transform(train_encoded1[['Fare']])\n",
    "test_encoded1[['Fare']] = scaler.transform(test_encoded1[['Fare']])"
   ],
   "id": "600812e4f5da7066",
   "execution_count": 18,
   "outputs": []
  },
  {
   "metadata": {
    "ExecuteTime": {
     "end_time": "2024-09-10T09:32:47.548864Z",
     "start_time": "2024-09-10T09:32:47.534865Z"
    }
   },
   "cell_type": "code",
   "source": [
    "train_encoded1 = train_encoded1.drop(columns='Name')\n",
    "test_encoded1 = test_encoded1.drop(columns='Name')"
   ],
   "id": "492ba297c57df264",
   "execution_count": 19,
   "outputs": []
  },
  {
   "metadata": {
    "ExecuteTime": {
     "end_time": "2024-09-10T09:32:47.564864Z",
     "start_time": "2024-09-10T09:32:47.549865Z"
    }
   },
   "cell_type": "code",
   "source": [
    "X = train_encoded1.drop(columns=['Survived'])\n",
    "y = train_encoded1['Survived']"
   ],
   "id": "d10a7721f0df2f52",
   "execution_count": 20,
   "outputs": []
  },
  {
   "metadata": {
    "ExecuteTime": {
     "end_time": "2024-09-10T09:32:47.579864Z",
     "start_time": "2024-09-10T09:32:47.565864Z"
    }
   },
   "cell_type": "code",
   "source": "X_train, X_test, y_train, y_test = train_test_split(X, y, test_size=0.2, random_state=0)",
   "id": "aaa997e315316f99",
   "execution_count": 21,
   "outputs": []
  },
  {
   "metadata": {
    "ExecuteTime": {
     "end_time": "2024-09-10T09:32:47.640864Z",
     "start_time": "2024-09-10T09:32:47.580865Z"
    }
   },
   "cell_type": "code",
   "source": [
    "model = LogisticRegression(max_iter=500)\n",
    "model.fit(X_train, y_train)"
   ],
   "id": "a5e822a126fb2664",
   "execution_count": 22,
   "outputs": []
  },
  {
   "metadata": {
    "ExecuteTime": {
     "end_time": "2024-09-10T09:32:47.656864Z",
     "start_time": "2024-09-10T09:32:47.641864Z"
    }
   },
   "cell_type": "code",
   "source": [
    "model_tree = DecisionTreeClassifier(random_state=2)\n",
    "model_tree.fit(X_train, y_train)"
   ],
   "id": "be830596eb0d891c",
   "execution_count": 23,
   "outputs": []
  },
  {
   "metadata": {
    "ExecuteTime": {
     "end_time": "2024-09-10T09:32:47.672864Z",
     "start_time": "2024-09-10T09:32:47.657864Z"
    }
   },
   "cell_type": "code",
   "source": [
    "#Prediction\n",
    "y_pred_tree = model_tree.predict(X_test)\n",
    "y_val_prediction = model.predict(X_test) "
   ],
   "id": "50e4f3f4e5b07358",
   "execution_count": 24,
   "outputs": []
  },
  {
   "metadata": {
    "ExecuteTime": {
     "end_time": "2024-09-10T09:33:15.505185Z",
     "start_time": "2024-09-10T09:33:15.485875Z"
    }
   },
   "cell_type": "code",
   "source": [
    "accuracy = accuracy_score(y_test, y_val_prediction)\n",
    "accuracy_tre = accuracy_score(y_test, y_pred_tree)\n",
    "print(f\"{accuracy:.3f} Logistic Regression\")\n",
    "print(f\"{accuracy_tre:.3f} Decision Tree\")"
   ],
   "id": "d9baefce3b947566",
   "execution_count": 27,
   "outputs": []
  },
  {
   "metadata": {
    "ExecuteTime": {
     "end_time": "2024-09-10T09:32:47.702864Z",
     "start_time": "2024-09-10T09:32:47.690864Z"
    }
   },
   "cell_type": "code",
   "source": "",
   "id": "7ac518cecc8e6ecc",
   "execution_count": 25,
   "outputs": []
  }
 ],
 "metadata": {
  "kernelspec": {
   "display_name": "Python 3",
   "language": "python",
   "name": "python3"
  },
  "language_info": {
   "codemirror_mode": {
    "name": "ipython",
    "version": 2
   },
   "file_extension": ".py",
   "mimetype": "text/x-python",
   "name": "python",
   "nbconvert_exporter": "python",
   "pygments_lexer": "ipython2",
   "version": "2.7.6"
  }
 },
 "nbformat": 4,
 "nbformat_minor": 5
}
