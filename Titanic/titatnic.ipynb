{
 "cells": [
  {
   "cell_type": "code",
   "id": "initial_id",
   "metadata": {
    "collapsed": true,
    "ExecuteTime": {
     "end_time": "2024-08-18T16:24:23.612479Z",
     "start_time": "2024-08-18T16:24:23.594709Z"
    }
   },
   "source": [
    "import pandas as pd\n",
    "import seaborn as sns\n",
    "import matplotlib.pyplot as plt\n",
    "from sklearn.metrics import accuracy_score"
   ],
   "outputs": [],
   "execution_count": 6
  },
  {
   "metadata": {
    "ExecuteTime": {
     "end_time": "2024-08-18T16:52:04.948607Z",
     "start_time": "2024-08-18T16:52:04.919464Z"
    }
   },
   "cell_type": "code",
   "source": [
    "train = pd.read_csv('train.csv')\n",
    "test = pd.read_csv('test.csv')\n",
    "gend = pd.read_csv('gender_submission.csv')\n",
    "\n",
    "\n",
    "print(train.isnull().sum())\n"
   ],
   "id": "b56eca1525f13bfd",
   "outputs": [
    {
     "name": "stdout",
     "output_type": "stream",
     "text": [
      "PassengerId      0\n",
      "Survived         0\n",
      "Pclass           0\n",
      "Name             0\n",
      "Sex              0\n",
      "Age            177\n",
      "SibSp            0\n",
      "Parch            0\n",
      "Ticket           0\n",
      "Fare             0\n",
      "Cabin          687\n",
      "Embarked         2\n",
      "dtype: int64\n"
     ]
    }
   ],
   "execution_count": 44
  },
  {
   "metadata": {
    "ExecuteTime": {
     "end_time": "2024-08-18T16:54:48.765208Z",
     "start_time": "2024-08-18T16:54:48.749218Z"
    }
   },
   "cell_type": "code",
   "source": [
    "median_age = train[\"Age\"].median()\n",
    "train['Age'] = train['Age'].fillna(median_age)"
   ],
   "id": "24ae841770846d34",
   "outputs": [],
   "execution_count": 53
  },
  {
   "metadata": {
    "ExecuteTime": {
     "end_time": "2024-08-18T17:08:27.992715Z",
     "start_time": "2024-08-18T17:08:27.957108Z"
    }
   },
   "cell_type": "code",
   "source": [
    "train = train.drop(columns = [\"Cabin\"])\n",
    "test = test.drop(columns = [\"Cabin\"])"
   ],
   "id": "e74dd8df5d66272",
   "outputs": [],
   "execution_count": 76
  },
  {
   "metadata": {
    "ExecuteTime": {
     "end_time": "2024-08-18T17:12:14.810943Z",
     "start_time": "2024-08-18T17:12:14.795714Z"
    }
   },
   "cell_type": "code",
   "source": [
    "print(train['Embarked'].isnull().sum())\n",
    "print(train['Embarked'].value_counts())"
   ],
   "id": "6cd30ca0ff87ec75",
   "outputs": [
    {
     "name": "stdout",
     "output_type": "stream",
     "text": [
      "2\n",
      "Embarked\n",
      "S    644\n",
      "C    168\n",
      "Q     77\n",
      "Name: count, dtype: int64\n"
     ]
    }
   ],
   "execution_count": 82
  },
  {
   "metadata": {
    "ExecuteTime": {
     "end_time": "2024-08-18T17:13:22.539342Z",
     "start_time": "2024-08-18T17:13:22.523525Z"
    }
   },
   "cell_type": "code",
   "source": [
    "train['Embarked'] = train['Embarked'].fillna('S')\n",
    "print(train['Embarked'].value_counts())"
   ],
   "id": "42c35ff7f9d25474",
   "outputs": [
    {
     "name": "stdout",
     "output_type": "stream",
     "text": [
      "Embarked\n",
      "S    646\n",
      "C    168\n",
      "Q     77\n",
      "Name: count, dtype: int64\n"
     ]
    }
   ],
   "execution_count": 88
  },
  {
   "metadata": {
    "ExecuteTime": {
     "end_time": "2024-08-18T17:18:05.120981Z",
     "start_time": "2024-08-18T17:18:05.095788Z"
    }
   },
   "cell_type": "code",
   "source": [
    "test.isnull().sum()\n",
    "test['Age'] = test['Age'].fillna(median_age)\n"
   ],
   "id": "a023a0bbb203c316",
   "outputs": [],
   "execution_count": 93
  },
  {
   "metadata": {
    "ExecuteTime": {
     "end_time": "2024-08-18T17:22:12.856147Z",
     "start_time": "2024-08-18T17:22:12.845454Z"
    }
   },
   "cell_type": "code",
   "source": [
    "mean_fare = train['Fare'].mean()\n",
    "test['Fare'] = test['Fare'].fillna(mean_fare)\n",
    "\n"
   ],
   "id": "52fa51e3d4a0a093",
   "outputs": [],
   "execution_count": 102
  }
 ],
 "metadata": {
  "kernelspec": {
   "display_name": "Python 3",
   "language": "python",
   "name": "python3"
  },
  "language_info": {
   "codemirror_mode": {
    "name": "ipython",
    "version": 2
   },
   "file_extension": ".py",
   "mimetype": "text/x-python",
   "name": "python",
   "nbconvert_exporter": "python",
   "pygments_lexer": "ipython2",
   "version": "2.7.6"
  }
 },
 "nbformat": 4,
 "nbformat_minor": 5
}
