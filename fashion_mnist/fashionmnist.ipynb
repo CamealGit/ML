{
 "cells": [
  {
   "cell_type": "code",
   "id": "initial_id",
   "metadata": {
    "collapsed": true,
    "ExecuteTime": {
     "end_time": "2024-09-06T08:14:19.970707Z",
     "start_time": "2024-09-06T08:14:17.854708Z"
    }
   },
   "source": [
    "import tensorflow as tf\n",
    "from tensorflow.keras.datasets import fashion_mnist\n",
    "from tensorflow import keras\n",
    "import pandas as pd\n",
    "import numpy as np\n",
    "import matplotlib\n",
    "matplotlib.use('TkAgg')\n",
    "import matplotlib.pyplot as plt\n",
    "import seaborn as sns"
   ],
   "outputs": [],
   "execution_count": 1
  },
  {
   "metadata": {
    "ExecuteTime": {
     "end_time": "2024-09-06T08:14:20.849712Z",
     "start_time": "2024-09-06T08:14:20.600711Z"
    }
   },
   "cell_type": "code",
   "source": "(train_images, train_labels), (test_images, test_labels) = fashion_mnist.load_data()",
   "id": "f4e5f8bcc637cfd9",
   "outputs": [],
   "execution_count": 2
  },
  {
   "metadata": {
    "ExecuteTime": {
     "end_time": "2024-09-06T08:14:21.774710Z",
     "start_time": "2024-09-06T08:14:21.637709Z"
    }
   },
   "cell_type": "code",
   "source": [
    "train_images = train_images / 255.0\n",
    "test_images = test_images / 255.0"
   ],
   "id": "d39fae5b375c0ae3",
   "outputs": [],
   "execution_count": 3
  },
  {
   "metadata": {
    "ExecuteTime": {
     "end_time": "2024-09-06T08:14:22.819713Z",
     "start_time": "2024-09-06T08:14:22.742712Z"
    }
   },
   "cell_type": "code",
   "source": [
    "model = keras.Sequential([\n",
    "    keras.layers.Flatten(input_shape=(28, 28)),\n",
    "    keras.layers.Dense(128, activation='relu'),\n",
    "    keras.layers.Dense(10, activation='softmax')\n",
    "])"
   ],
   "id": "b472e76fdc858113",
   "outputs": [],
   "execution_count": 4
  },
  {
   "metadata": {
    "ExecuteTime": {
     "end_time": "2024-09-06T08:14:24.372714Z",
     "start_time": "2024-09-06T08:14:24.356711Z"
    }
   },
   "cell_type": "code",
   "source": "model.compile(optimizer='adam', loss='sparse_categorical_crossentropy', metrics=['accuracy'])",
   "id": "fd4c806b5e3dc3ed",
   "outputs": [],
   "execution_count": 5
  },
  {
   "metadata": {
    "ExecuteTime": {
     "end_time": "2024-09-06T08:14:44.195707Z",
     "start_time": "2024-09-06T08:14:25.844707Z"
    }
   },
   "cell_type": "code",
   "source": "history = model.fit(train_images, train_labels, epochs=10, validation_split=0.2)",
   "id": "9edfe24233452da6",
   "outputs": [
    {
     "name": "stdout",
     "output_type": "stream",
     "text": [
      "Epoch 1/10\n",
      "1500/1500 [==============================] - 2s 1ms/step - loss: 0.5173 - accuracy: 0.8180 - val_loss: 0.4622 - val_accuracy: 0.8276\n",
      "Epoch 2/10\n",
      "1500/1500 [==============================] - 2s 1ms/step - loss: 0.3884 - accuracy: 0.8604 - val_loss: 0.3853 - val_accuracy: 0.8576\n",
      "Epoch 3/10\n",
      "1500/1500 [==============================] - 2s 1ms/step - loss: 0.3468 - accuracy: 0.8727 - val_loss: 0.3414 - val_accuracy: 0.8773\n",
      "Epoch 4/10\n",
      "1500/1500 [==============================] - 2s 1ms/step - loss: 0.3194 - accuracy: 0.8840 - val_loss: 0.3505 - val_accuracy: 0.8709\n",
      "Epoch 5/10\n",
      "1500/1500 [==============================] - 2s 1ms/step - loss: 0.3027 - accuracy: 0.8881 - val_loss: 0.3346 - val_accuracy: 0.8758\n",
      "Epoch 6/10\n",
      "1500/1500 [==============================] - 2s 1ms/step - loss: 0.2863 - accuracy: 0.8935 - val_loss: 0.3197 - val_accuracy: 0.8840\n",
      "Epoch 7/10\n",
      "1500/1500 [==============================] - 2s 1ms/step - loss: 0.2724 - accuracy: 0.8993 - val_loss: 0.3374 - val_accuracy: 0.8834\n",
      "Epoch 8/10\n",
      "1500/1500 [==============================] - 2s 1ms/step - loss: 0.2625 - accuracy: 0.9010 - val_loss: 0.3251 - val_accuracy: 0.8859\n",
      "Epoch 9/10\n",
      "1500/1500 [==============================] - 2s 1ms/step - loss: 0.2514 - accuracy: 0.9075 - val_loss: 0.3153 - val_accuracy: 0.8891\n",
      "Epoch 10/10\n",
      "1500/1500 [==============================] - 2s 1ms/step - loss: 0.2439 - accuracy: 0.9073 - val_loss: 0.3289 - val_accuracy: 0.8866\n"
     ]
    }
   ],
   "execution_count": 6
  },
  {
   "metadata": {
    "ExecuteTime": {
     "end_time": "2024-09-06T08:14:47.713340Z",
     "start_time": "2024-09-06T08:14:47.202343Z"
    }
   },
   "cell_type": "code",
   "source": [
    "test_loss, test_acc = model.evaluate(test_images, test_labels, verbose=2)\n",
    "print(f'Test accuracy:, {test_acc:.2f}')\n",
    "print(f'Test loss:, {test_loss:.2f}')"
   ],
   "id": "961715902dc553fd",
   "outputs": [
    {
     "name": "stdout",
     "output_type": "stream",
     "text": [
      "313/313 - 0s - loss: 0.3526 - accuracy: 0.8789 - 455ms/epoch - 1ms/step\n",
      "Test accuracy:, 0.88\n",
      "Test loss:, 0.35\n"
     ]
    }
   ],
   "execution_count": 7
  }
 ],
 "metadata": {
  "kernelspec": {
   "display_name": "Python 3",
   "language": "python",
   "name": "python3"
  },
  "language_info": {
   "codemirror_mode": {
    "name": "ipython",
    "version": 2
   },
   "file_extension": ".py",
   "mimetype": "text/x-python",
   "name": "python",
   "nbconvert_exporter": "python",
   "pygments_lexer": "ipython2",
   "version": "2.7.6"
  }
 },
 "nbformat": 4,
 "nbformat_minor": 5
}
