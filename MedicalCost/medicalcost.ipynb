{
 "cells": [
  {
   "cell_type": "code",
   "id": "initial_id",
   "metadata": {
    "collapsed": true,
    "ExecuteTime": {
     "end_time": "2024-09-18T17:29:48.258196Z",
     "start_time": "2024-09-18T17:29:48.243680Z"
    }
   },
   "source": [
    "import pandas as pd\n",
    "import numpy as np\n",
    "import matplotlib.pyplot as plt\n",
    "import seaborn as sns\n",
    "from xgboost import XGBRegressor"
   ],
   "execution_count": 141,
   "outputs": []
  },
  {
   "metadata": {
    "ExecuteTime": {
     "end_time": "2024-09-18T17:29:48.274032Z",
     "start_time": "2024-09-18T17:29:48.260196Z"
    }
   },
   "cell_type": "code",
   "source": "data = pd.read_csv('insurance.csv')",
   "id": "df80d5640b6722f",
   "execution_count": 142,
   "outputs": []
  },
  {
   "metadata": {
    "ExecuteTime": {
     "end_time": "2024-09-18T17:29:48.289040Z",
     "start_time": "2024-09-18T17:29:48.275040Z"
    }
   },
   "cell_type": "code",
   "source": "data",
   "id": "5ccc4985a3d8ee2b",
   "execution_count": 143,
   "outputs": []
  },
  {
   "metadata": {
    "ExecuteTime": {
     "end_time": "2024-09-18T17:29:48.304040Z",
     "start_time": "2024-09-18T17:29:48.290039Z"
    }
   },
   "cell_type": "code",
   "source": [
    "# One-Hot encoding object columns\n",
    "data = pd.get_dummies(data, columns=['sex', 'smoker', 'region'], dtype=int, drop_first=True)"
   ],
   "id": "7084f07461a6e033",
   "execution_count": 144,
   "outputs": []
  },
  {
   "metadata": {
    "ExecuteTime": {
     "end_time": "2024-09-18T17:29:48.319040Z",
     "start_time": "2024-09-18T17:29:48.306042Z"
    }
   },
   "cell_type": "code",
   "source": [
    "# Correlation between features and label\n",
    "corr_matrix = data.corr()"
   ],
   "id": "2339d646cf4b949d",
   "execution_count": 145,
   "outputs": []
  },
  {
   "metadata": {
    "ExecuteTime": {
     "end_time": "2024-09-18T17:29:48.553559Z",
     "start_time": "2024-09-18T17:29:48.321040Z"
    }
   },
   "cell_type": "code",
   "source": [
    "plt.figure(figsize=(7,7))\n",
    "sns.heatmap(corr_matrix, annot=True, fmt='.2f')\n",
    "plt.show()"
   ],
   "id": "23e8426d9cbd3080",
   "execution_count": 146,
   "outputs": []
  },
  {
   "metadata": {
    "ExecuteTime": {
     "end_time": "2024-09-18T17:29:48.568821Z",
     "start_time": "2024-09-18T17:29:48.554832Z"
    }
   },
   "cell_type": "code",
   "source": [
    "# Separating target from data\n",
    "X = data.drop(columns=['charges'])\n",
    "y = data['charges']"
   ],
   "id": "47431e3c4565afa7",
   "execution_count": 147,
   "outputs": []
  },
  {
   "metadata": {
    "ExecuteTime": {
     "end_time": "2024-09-18T17:29:48.584821Z",
     "start_time": "2024-09-18T17:29:48.569822Z"
    }
   },
   "cell_type": "code",
   "source": [
    "# Import libraries\n",
    "from sklearn.preprocessing import StandardScaler\n",
    "from sklearn.model_selection import train_test_split\n",
    "from sklearn.ensemble import RandomForestRegressor\n",
    "from sklearn.metrics import mean_squared_error, r2_score\n",
    "from sklearn.model_selection import GridSearchCV"
   ],
   "id": "5f91ff0f99975f34",
   "execution_count": 148,
   "outputs": []
  },
  {
   "metadata": {
    "ExecuteTime": {
     "end_time": "2024-09-18T17:29:48.600819Z",
     "start_time": "2024-09-18T17:29:48.585820Z"
    }
   },
   "cell_type": "code",
   "source": [
    "# Scaler for preprocessing data\n",
    "scaler = StandardScaler()\n",
    "X_columns = X.columns\n",
    "X = scaler.fit_transform(X)\n",
    "X = pd.DataFrame(X, columns=X_columns)"
   ],
   "id": "ef270529644b6bae",
   "execution_count": 149,
   "outputs": []
  },
  {
   "metadata": {
    "ExecuteTime": {
     "end_time": "2024-09-18T17:29:48.616821Z",
     "start_time": "2024-09-18T17:29:48.601820Z"
    }
   },
   "cell_type": "code",
   "source": [
    "# Split into test and train data\n",
    "X_train, X_test, y_train, y_test = train_test_split(X, y, test_size=0.2, random_state=2)"
   ],
   "id": "aa98015be7cc9cc0",
   "execution_count": 150,
   "outputs": []
  },
  {
   "metadata": {
    "ExecuteTime": {
     "end_time": "2024-09-18T17:29:48.632823Z",
     "start_time": "2024-09-18T17:29:48.617822Z"
    }
   },
   "cell_type": "code",
   "source": [
    "# # Initialize the model\n",
    "model = GradientBoostingRegressor()"
   ],
   "id": "5d18931f2831b387",
   "execution_count": 151,
   "outputs": []
  },
  {
   "metadata": {
    "ExecuteTime": {
     "end_time": "2024-09-18T17:29:48.726770Z",
     "start_time": "2024-09-18T17:29:48.634820Z"
    }
   },
   "cell_type": "code",
   "source": [
    "# # Fit data with model\n",
    "model.fit(X_train, y_train)"
   ],
   "id": "2ff134dc6a90ab1e",
   "execution_count": 152,
   "outputs": []
  },
  {
   "metadata": {
    "ExecuteTime": {
     "end_time": "2024-09-18T17:29:48.742782Z",
     "start_time": "2024-09-18T17:29:48.727770Z"
    }
   },
   "cell_type": "code",
   "source": [
    "# # Model prediction\n",
    "y_pred = model.predict(X_test)"
   ],
   "id": "da29bce4405b0015",
   "execution_count": 153,
   "outputs": []
  },
  {
   "metadata": {
    "ExecuteTime": {
     "end_time": "2024-09-18T17:29:48.757970Z",
     "start_time": "2024-09-18T17:29:48.744782Z"
    }
   },
   "cell_type": "code",
   "source": [
    "# Evaluate the model\n",
    "mse = mean_squared_error(y_test, y_pred)\n",
    "rmse = np.sqrt(mse)\n",
    "r2 = r2_score(y_test, y_pred)"
   ],
   "id": "b1229acd53cd1ff4",
   "execution_count": 154,
   "outputs": []
  },
  {
   "metadata": {
    "ExecuteTime": {
     "end_time": "2024-09-18T17:29:48.772648Z",
     "start_time": "2024-09-18T17:29:48.759658Z"
    }
   },
   "cell_type": "code",
   "source": [
    "print(f'{mse:.2f}')\n",
    "print(f'{rmse:.2f}')\n",
    "print(f'{r2:.2f}')"
   ],
   "id": "c2a3abc21ea416da",
   "execution_count": 155,
   "outputs": []
  }
 ],
 "metadata": {
  "kernelspec": {
   "display_name": "Python 3",
   "language": "python",
   "name": "python3"
  },
  "language_info": {
   "codemirror_mode": {
    "name": "ipython",
    "version": 2
   },
   "file_extension": ".py",
   "mimetype": "text/x-python",
   "name": "python",
   "nbconvert_exporter": "python",
   "pygments_lexer": "ipython2",
   "version": "2.7.6"
  }
 },
 "nbformat": 4,
 "nbformat_minor": 5
}
