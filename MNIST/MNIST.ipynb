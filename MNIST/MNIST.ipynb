{
 "cells": [
  {
   "cell_type": "code",
   "id": "initial_id",
   "metadata": {
    "collapsed": true,
    "ExecuteTime": {
     "end_time": "2024-09-11T10:25:08.537782Z",
     "start_time": "2024-09-11T10:25:08.526952Z"
    }
   },
   "source": [
    "import tensorflow as tf\n",
    "import pandas as pd\n",
    "import numpy as np\n",
    "import matplotlib.pyplot as plt\n",
    "from sklearn.model_selection import train_test_split"
   ],
   "execution_count": 37,
   "outputs": []
  },
  {
   "metadata": {
    "ExecuteTime": {
     "end_time": "2024-09-11T10:25:10.265781Z",
     "start_time": "2024-09-11T10:25:08.539785Z"
    }
   },
   "cell_type": "code",
   "source": [
    "train_data = pd.read_csv('train.csv')\n",
    "test_data = pd.read_csv('test.csv')"
   ],
   "id": "1781d3af8a78d49",
   "execution_count": 38,
   "outputs": []
  },
  {
   "metadata": {
    "ExecuteTime": {
     "end_time": "2024-09-11T10:25:10.281782Z",
     "start_time": "2024-09-11T10:25:10.266782Z"
    }
   },
   "cell_type": "code",
   "source": "train_data.shape , test_data.shape",
   "id": "96c1d41c5ee13578",
   "execution_count": 39,
   "outputs": []
  },
  {
   "metadata": {
    "ExecuteTime": {
     "end_time": "2024-09-11T10:25:10.404788Z",
     "start_time": "2024-09-11T10:25:10.282783Z"
    }
   },
   "cell_type": "code",
   "source": [
    "X = train_data.drop(columns=['label'], axis=1)\n",
    "y = train_data['label']"
   ],
   "id": "818e865744713a47",
   "execution_count": 40,
   "outputs": []
  },
  {
   "metadata": {
    "ExecuteTime": {
     "end_time": "2024-09-11T10:25:10.576782Z",
     "start_time": "2024-09-11T10:25:10.407782Z"
    }
   },
   "cell_type": "code",
   "source": [
    "X = X.astype('float32') / 255.0\n",
    "\n",
    "test_data = test_data.astype('float32') / 255.0"
   ],
   "id": "d2a6c80cc28b3174",
   "execution_count": 41,
   "outputs": []
  },
  {
   "metadata": {
    "ExecuteTime": {
     "end_time": "2024-09-11T10:25:10.714788Z",
     "start_time": "2024-09-11T10:25:10.577783Z"
    }
   },
   "cell_type": "code",
   "source": "X_train, X_test, y_train, y_test = train_test_split(X, y, test_size=0.2, random_state=2)",
   "id": "5cce364a7a09f6be",
   "execution_count": 42,
   "outputs": []
  },
  {
   "metadata": {
    "ExecuteTime": {
     "end_time": "2024-09-11T10:25:10.729788Z",
     "start_time": "2024-09-11T10:25:10.715782Z"
    }
   },
   "cell_type": "code",
   "source": [
    "X_train = X_train.values\n",
    "X_test = X_test.values\n",
    "y_train = y_train.values\n",
    "y_test = y_test.values\n",
    "test_data = test_data.values"
   ],
   "id": "b096e8bf12462fff",
   "execution_count": 43,
   "outputs": []
  },
  {
   "metadata": {
    "ExecuteTime": {
     "end_time": "2024-09-11T10:25:10.745789Z",
     "start_time": "2024-09-11T10:25:10.730783Z"
    }
   },
   "cell_type": "code",
   "source": [
    "# Reshape numpy arrays for 2D format 28x28\n",
    "\n",
    "X_train = X_train.reshape(-1, 28, 28, 1)\n",
    "X_test = X_test.reshape(-1, 28, 28, 1)\n",
    "\n",
    "test_data = test_data.reshape(-1, 28, 28, 1)"
   ],
   "id": "afd83f52e8a793a",
   "execution_count": 44,
   "outputs": []
  },
  {
   "metadata": {
    "ExecuteTime": {
     "end_time": "2024-09-11T10:25:10.805782Z",
     "start_time": "2024-09-11T10:25:10.747783Z"
    }
   },
   "cell_type": "code",
   "source": [
    "# Visualising data and labels\n",
    "plt.imshow(X_train[3], cmap='gray')\n",
    "plt.title(y_train[3])\n",
    "plt.axis('off')\n",
    "plt.show()"
   ],
   "id": "3bad67caf463b6b0",
   "execution_count": 45,
   "outputs": []
  },
  {
   "metadata": {
    "ExecuteTime": {
     "end_time": "2024-09-11T10:25:10.821783Z",
     "start_time": "2024-09-11T10:25:10.806783Z"
    }
   },
   "cell_type": "code",
   "source": [
    "from tensorflow.keras.models import Sequential\n",
    "from tensorflow.keras.layers import Dense, Flatten, Conv2D, MaxPooling2D, Dropout, BatchNormalization\n",
    "from tensorflow.keras.utils import to_categorical\n",
    "from sklearn.metrics import accuracy_score"
   ],
   "id": "59e209b80af8eba8",
   "execution_count": 46,
   "outputs": []
  },
  {
   "metadata": {
    "ExecuteTime": {
     "end_time": "2024-09-11T10:25:10.837782Z",
     "start_time": "2024-09-11T10:25:10.823784Z"
    }
   },
   "cell_type": "code",
   "source": [
    "Y_train_cat = to_categorical(y_train)\n",
    "Y_test_cat = to_categorical(y_test)"
   ],
   "id": "691974a2f2467d8c",
   "execution_count": 47,
   "outputs": []
  },
  {
   "metadata": {
    "ExecuteTime": {
     "end_time": "2024-09-11T10:25:10.914782Z",
     "start_time": "2024-09-11T10:25:10.838783Z"
    }
   },
   "cell_type": "code",
   "source": [
    "model = Sequential([\n",
    "    Conv2D(32, (3, 3), activation='relu', input_shape=(28, 28, 1)),\n",
    "    BatchNormalization(),\n",
    "    MaxPooling2D(pool_size=(2, 2)),\n",
    "    \n",
    "    Conv2D(64, (3, 3), activation='relu'),\n",
    "    BatchNormalization(),\n",
    "    MaxPooling2D(pool_size=(2, 2)),\n",
    "    \n",
    "    Conv2D(64, (3, 3), activation='relu'),\n",
    "    BatchNormalization(),\n",
    "    \n",
    "    Flatten(),\n",
    "    \n",
    "    Dense(64, activation='relu'),\n",
    "    Dropout(0.5),\n",
    "    Dense(10, activation='softmax')\n",
    "])\n"
   ],
   "id": "409f03caaddff7f9",
   "execution_count": 48,
   "outputs": []
  },
  {
   "metadata": {
    "ExecuteTime": {
     "end_time": "2024-09-11T10:25:10.929782Z",
     "start_time": "2024-09-11T10:25:10.915783Z"
    }
   },
   "cell_type": "code",
   "source": "model.compile(optimizer='adam', loss='categorical_crossentropy', metrics=['accuracy'])",
   "id": "730c620e378526ee",
   "execution_count": 49,
   "outputs": []
  },
  {
   "metadata": {
    "ExecuteTime": {
     "end_time": "2024-09-11T10:26:07.782056Z",
     "start_time": "2024-09-11T10:25:10.931784Z"
    }
   },
   "cell_type": "code",
   "source": [
    "history = model.fit(\n",
    "    X_train, Y_train_cat,\n",
    "    epochs=10,\n",
    "    batch_size=32,\n",
    "    validation_split=0.2,\n",
    "    verbose = 1,\n",
    ")"
   ],
   "id": "39b019e63b57fe85",
   "execution_count": 50,
   "outputs": []
  },
  {
   "metadata": {
    "ExecuteTime": {
     "end_time": "2024-09-11T10:26:08.530057Z",
     "start_time": "2024-09-11T10:26:07.784057Z"
    }
   },
   "cell_type": "code",
   "source": [
    "test_loss, test_accuracy = model.evaluate(X_test, Y_test_cat, verbose=2)\n",
    "print(f'Test accuracy:, {test_accuracy:.3f}')"
   ],
   "id": "2b4cc6531639604f",
   "execution_count": 51,
   "outputs": []
  },
  {
   "metadata": {
    "ExecuteTime": {
     "end_time": "2024-09-11T10:26:10.685058Z",
     "start_time": "2024-09-11T10:26:08.531058Z"
    }
   },
   "cell_type": "code",
   "source": [
    "# Predictions for test_data\n",
    "\n",
    "predictions = model.predict(test_data)\n",
    "predicted_labels = np.argmax(predictions, axis=1)"
   ],
   "id": "dd8b54427745c480",
   "execution_count": 52,
   "outputs": []
  },
  {
   "metadata": {
    "ExecuteTime": {
     "end_time": "2024-09-11T10:26:10.826058Z",
     "start_time": "2024-09-11T10:26:10.686057Z"
    }
   },
   "cell_type": "code",
   "source": [
    "plt.plot(history.history['accuracy'], label='accuracy')\n",
    "plt.plot(history.history['val_accuracy'], label='val_accuracy')\n",
    "plt.xlabel('Epoch')\n",
    "plt.ylabel('Accuracy')\n",
    "plt.legend()\n",
    "plt.show()"
   ],
   "id": "cc48966d9415b358",
   "execution_count": 53,
   "outputs": []
  },
  {
   "metadata": {
    "ExecuteTime": {
     "end_time": "2024-09-11T10:41:53.403089Z",
     "start_time": "2024-09-11T10:41:53.389089Z"
    }
   },
   "cell_type": "code",
   "source": "",
   "id": "b13ef6bcbe13178c",
   "execution_count": 55,
   "outputs": []
  }
 ],
 "metadata": {
  "kernelspec": {
   "display_name": "Python 3",
   "language": "python",
   "name": "python3"
  },
  "language_info": {
   "codemirror_mode": {
    "name": "ipython",
    "version": 2
   },
   "file_extension": ".py",
   "mimetype": "text/x-python",
   "name": "python",
   "nbconvert_exporter": "python",
   "pygments_lexer": "ipython2",
   "version": "2.7.6"
  }
 },
 "nbformat": 4,
 "nbformat_minor": 5
}
