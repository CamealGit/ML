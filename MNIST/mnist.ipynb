{
 "cells": [
  {
   "cell_type": "code",
   "id": "initial_id",
   "metadata": {
    "collapsed": true,
    "ExecuteTime": {
     "end_time": "2024-08-27T11:55:14.886056Z",
     "start_time": "2024-08-27T11:55:14.873393Z"
    }
   },
   "source": [
    "import pandas as pd\n",
    "import numpy as np\n",
    "import matplotlib.pyplot as plt\n",
    "from tensorflow.keras.datasets import mnist\n",
    "from tensorflow.keras.utils import to_categorical\n",
    "import tensorflow as tf\n",
    "from tensorflow.keras import layers, models"
   ],
   "execution_count": 26,
   "outputs": []
  },
  {
   "metadata": {
    "ExecuteTime": {
     "end_time": "2024-08-27T11:44:31.096141Z",
     "start_time": "2024-08-27T11:44:27.303580Z"
    }
   },
   "cell_type": "code",
   "source": "(x_train, y_train), (x_test, y_test) = mnist.load_data()",
   "id": "316ffe0e0a52bf52",
   "execution_count": 3,
   "outputs": []
  },
  {
   "metadata": {
    "ExecuteTime": {
     "end_time": "2024-08-27T11:51:28.348915Z",
     "start_time": "2024-08-27T11:51:28.168778Z"
    }
   },
   "cell_type": "code",
   "source": [
    "x_train = x_train / 255.0\n",
    "x_test = x_test / 255.0\n",
    "\n",
    "y_train = to_categorical(y_train, 10)\n",
    "y_test = to_categorical(y_test, 10)"
   ],
   "id": "7b46268ddcff23dc",
   "execution_count": 10,
   "outputs": []
  },
  {
   "metadata": {
    "ExecuteTime": {
     "end_time": "2024-08-27T12:02:08.822289Z",
     "start_time": "2024-08-27T12:02:08.610866Z"
    }
   },
   "cell_type": "code",
   "source": [
    "model = models.Sequential([\n",
    "    layers.Flatten(input_shape=(28, 28)),\n",
    "    layers.Dense(128, activation='relu'),\n",
    "    layers.Dense(10, activation='softmax')\n",
    "])"
   ],
   "id": "2ec0103c86514bf6",
   "execution_count": 27,
   "outputs": []
  },
  {
   "metadata": {
    "ExecuteTime": {
     "end_time": "2024-08-27T12:04:24.780389Z",
     "start_time": "2024-08-27T12:04:24.763037Z"
    }
   },
   "cell_type": "code",
   "source": [
    "model.compile(optimizer='adam',\n",
    "              loss = 'categorical_crossentropy',\n",
    "              metrics=['accuracy'])"
   ],
   "id": "296cb6653db3887e",
   "execution_count": 30,
   "outputs": []
  },
  {
   "metadata": {
    "ExecuteTime": {
     "end_time": "2024-08-27T12:05:00.103843Z",
     "start_time": "2024-08-27T12:04:26.652779Z"
    }
   },
   "cell_type": "code",
   "source": [
    "# Training model\n",
    "\n",
    "model.fit(x_train, y_train, epochs=5)"
   ],
   "id": "e4fe33e40465338b",
   "execution_count": 31,
   "outputs": []
  },
  {
   "metadata": {
    "ExecuteTime": {
     "end_time": "2024-08-27T12:06:51.606520Z",
     "start_time": "2024-08-27T12:06:50.662725Z"
    }
   },
   "cell_type": "code",
   "source": [
    "test_loss, test_accuracy = model.evaluate(x_test, y_test, verbose=2)\n",
    "print(f'Test accuracy: {test_accuracy:.3f}')"
   ],
   "id": "d56628d2b1900095",
   "execution_count": 33,
   "outputs": []
  },
  {
   "metadata": {
    "ExecuteTime": {
     "end_time": "2024-08-27T12:11:04.435732Z",
     "start_time": "2024-08-27T12:11:03.382825Z"
    }
   },
   "cell_type": "code",
   "source": "predictions = model.predict(x_test)",
   "id": "216ed7a59d12b17e",
   "execution_count": 34,
   "outputs": []
  },
  {
   "metadata": {
    "ExecuteTime": {
     "end_time": "2024-08-27T12:22:34.707321Z",
     "start_time": "2024-08-27T12:22:34.493288Z"
    }
   },
   "cell_type": "code",
   "source": [
    "index = 123\n",
    "prediction = np.argmax(predictions[index])\n",
    "image = x_test[index]\n",
    "\n",
    "plt.imshow(image, cmap='gray')\n",
    "plt.title(f'Prediction: {prediction}')\n",
    "plt.show()\n"
   ],
   "id": "44c2d39f99973f9",
   "execution_count": 56,
   "outputs": []
  }
 ],
 "metadata": {
  "kernelspec": {
   "display_name": "Python 3",
   "language": "python",
   "name": "python3"
  },
  "language_info": {
   "codemirror_mode": {
    "name": "ipython",
    "version": 2
   },
   "file_extension": ".py",
   "mimetype": "text/x-python",
   "name": "python",
   "nbconvert_exporter": "python",
   "pygments_lexer": "ipython2",
   "version": "2.7.6"
  }
 },
 "nbformat": 4,
 "nbformat_minor": 5
}
