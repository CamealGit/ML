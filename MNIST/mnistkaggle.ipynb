{
 "cells": [
  {
   "cell_type": "code",
   "id": "initial_id",
   "metadata": {
    "collapsed": true,
    "ExecuteTime": {
     "end_time": "2024-09-11T10:25:08.537782Z",
     "start_time": "2024-09-11T10:25:08.526952Z"
    }
   },
   "source": [
    "import tensorflow as tf\n",
    "import pandas as pd\n",
    "import numpy as np\n",
    "import matplotlib.pyplot as plt\n",
    "from sklearn.model_selection import train_test_split"
   ],
   "outputs": [],
   "execution_count": 37
  },
  {
   "metadata": {
    "ExecuteTime": {
     "end_time": "2024-09-11T10:25:10.265781Z",
     "start_time": "2024-09-11T10:25:08.539785Z"
    }
   },
   "cell_type": "code",
   "source": [
    "train_data = pd.read_csv('train.csv')\n",
    "test_data = pd.read_csv('test.csv')"
   ],
   "id": "1781d3af8a78d49",
   "outputs": [],
   "execution_count": 38
  },
  {
   "metadata": {
    "ExecuteTime": {
     "end_time": "2024-09-11T10:25:10.281782Z",
     "start_time": "2024-09-11T10:25:10.266782Z"
    }
   },
   "cell_type": "code",
   "source": "train_data.shape , test_data.shape",
   "id": "96c1d41c5ee13578",
   "outputs": [
    {
     "data": {
      "text/plain": [
       "((42000, 785), (28000, 784))"
      ]
     },
     "execution_count": 39,
     "metadata": {},
     "output_type": "execute_result"
    }
   ],
   "execution_count": 39
  },
  {
   "metadata": {
    "ExecuteTime": {
     "end_time": "2024-09-11T10:25:10.404788Z",
     "start_time": "2024-09-11T10:25:10.282783Z"
    }
   },
   "cell_type": "code",
   "source": [
    "X = train_data.drop(columns=['label'], axis=1)\n",
    "y = train_data['label']"
   ],
   "id": "818e865744713a47",
   "outputs": [],
   "execution_count": 40
  },
  {
   "metadata": {
    "ExecuteTime": {
     "end_time": "2024-09-11T10:25:10.576782Z",
     "start_time": "2024-09-11T10:25:10.407782Z"
    }
   },
   "cell_type": "code",
   "source": [
    "X = X.astype('float32') / 255.0\n",
    "\n",
    "test_data = test_data.astype('float32') / 255.0"
   ],
   "id": "d2a6c80cc28b3174",
   "outputs": [],
   "execution_count": 41
  },
  {
   "metadata": {
    "ExecuteTime": {
     "end_time": "2024-09-11T10:25:10.714788Z",
     "start_time": "2024-09-11T10:25:10.577783Z"
    }
   },
   "cell_type": "code",
   "source": "X_train, X_test, y_train, y_test = train_test_split(X, y, test_size=0.2, random_state=2)",
   "id": "5cce364a7a09f6be",
   "outputs": [],
   "execution_count": 42
  },
  {
   "metadata": {
    "ExecuteTime": {
     "end_time": "2024-09-11T10:25:10.729788Z",
     "start_time": "2024-09-11T10:25:10.715782Z"
    }
   },
   "cell_type": "code",
   "source": [
    "X_train = X_train.values\n",
    "X_test = X_test.values\n",
    "y_train = y_train.values\n",
    "y_test = y_test.values\n",
    "test_data = test_data.values"
   ],
   "id": "b096e8bf12462fff",
   "outputs": [],
   "execution_count": 43
  },
  {
   "metadata": {
    "ExecuteTime": {
     "end_time": "2024-09-11T10:25:10.745789Z",
     "start_time": "2024-09-11T10:25:10.730783Z"
    }
   },
   "cell_type": "code",
   "source": [
    "# Reshape numpy arrays for 2D format 28x28\n",
    "\n",
    "X_train = X_train.reshape(-1, 28, 28, 1)\n",
    "X_test = X_test.reshape(-1, 28, 28, 1)\n",
    "\n",
    "test_data = test_data.reshape(-1, 28, 28, 1)"
   ],
   "id": "afd83f52e8a793a",
   "outputs": [],
   "execution_count": 44
  },
  {
   "metadata": {
    "ExecuteTime": {
     "end_time": "2024-09-11T10:25:10.805782Z",
     "start_time": "2024-09-11T10:25:10.747783Z"
    }
   },
   "cell_type": "code",
   "source": [
    "# Visualising data and labels\n",
    "plt.imshow(X_train[3], cmap='gray')\n",
    "plt.title(y_train[3])\n",
    "plt.axis('off')\n",
    "plt.show()"
   ],
   "id": "3bad67caf463b6b0",
   "outputs": [
    {
     "data": {
      "text/plain": [
       "<Figure size 640x480 with 1 Axes>"
      ],
      "image/png": "[encoded data removed]"
     },
     "metadata": {},
     "output_type": "display_data"
    }
   ],
   "execution_count": 45
  },
  {
   "metadata": {
    "ExecuteTime": {
     "end_time": "2024-09-11T10:25:10.821783Z",
     "start_time": "2024-09-11T10:25:10.806783Z"
    }
   },
   "cell_type": "code",
   "source": [
    "from tensorflow.keras.models import Sequential\n",
    "from tensorflow.keras.layers import Dense, Flatten, Conv2D, MaxPooling2D, Dropout, BatchNormalization\n",
    "from tensorflow.keras.utils import to_categorical\n",
    "from sklearn.metrics import accuracy_score"
   ],
   "id": "59e209b80af8eba8",
   "outputs": [],
   "execution_count": 46
  },
  {
   "metadata": {
    "ExecuteTime": {
     "end_time": "2024-09-11T10:25:10.837782Z",
     "start_time": "2024-09-11T10:25:10.823784Z"
    }
   },
   "cell_type": "code",
   "source": [
    "Y_train_cat = to_categorical(y_train)\n",
    "Y_test_cat = to_categorical(y_test)"
   ],
   "id": "691974a2f2467d8c",
   "outputs": [],
   "execution_count": 47
  },
  {
   "metadata": {
    "ExecuteTime": {
     "end_time": "2024-09-11T10:25:10.914782Z",
     "start_time": "2024-09-11T10:25:10.838783Z"
    }
   },
   "cell_type": "code",
   "source": [
    "model = Sequential([\n",
    "    Conv2D(32, (3, 3), activation='relu', input_shape=(28, 28, 1)),\n",
    "    BatchNormalization(),\n",
    "    MaxPooling2D(pool_size=(2, 2)),\n",
    "    \n",
    "    Conv2D(64, (3, 3), activation='relu'),\n",
    "    BatchNormalization(),\n",
    "    MaxPooling2D(pool_size=(2, 2)),\n",
    "    \n",
    "    Conv2D(64, (3, 3), activation='relu'),\n",
    "    BatchNormalization(),\n",
    "    \n",
    "    Flatten(),\n",
    "    \n",
    "    Dense(64, activation='relu'),\n",
    "    Dropout(0.5),\n",
    "    Dense(10, activation='softmax')\n",
    "])\n"
   ],
   "id": "409f03caaddff7f9",
   "outputs": [],
   "execution_count": 48
  },
  {
   "metadata": {
    "ExecuteTime": {
     "end_time": "2024-09-11T10:25:10.929782Z",
     "start_time": "2024-09-11T10:25:10.915783Z"
    }
   },
   "cell_type": "code",
   "source": "model.compile(optimizer='adam', loss='categorical_crossentropy', metrics=['accuracy'])",
   "id": "730c620e378526ee",
   "outputs": [],
   "execution_count": 49
  },
  {
   "metadata": {
    "ExecuteTime": {
     "end_time": "2024-09-11T10:26:07.782056Z",
     "start_time": "2024-09-11T10:25:10.931784Z"
    }
   },
   "cell_type": "code",
   "source": [
    "history = model.fit(\n",
    "    X_train, Y_train_cat,\n",
    "    epochs=10,\n",
    "    batch_size=32,\n",
    "    validation_split=0.2,\n",
    "    verbose = 1,\n",
    ")"
   ],
   "id": "39b019e63b57fe85",
   "outputs": [
    {
     "name": "stdout",
     "output_type": "stream",
     "text": [
      "Epoch 1/10\n",
      "840/840 [==============================] - 6s 7ms/step - loss: 0.2873 - accuracy: 0.9113 - val_loss: 0.0664 - val_accuracy: 0.9817\n",
      "Epoch 2/10\n",
      "840/840 [==============================] - 5s 6ms/step - loss: 0.1022 - accuracy: 0.9707 - val_loss: 0.0571 - val_accuracy: 0.9839\n",
      "Epoch 3/10\n",
      "840/840 [==============================] - 6s 8ms/step - loss: 0.0743 - accuracy: 0.9786 - val_loss: 0.0567 - val_accuracy: 0.9845\n",
      "Epoch 4/10\n",
      "840/840 [==============================] - 6s 7ms/step - loss: 0.0638 - accuracy: 0.9822 - val_loss: 0.0533 - val_accuracy: 0.9835\n",
      "Epoch 5/10\n",
      "840/840 [==============================] - 6s 7ms/step - loss: 0.0460 - accuracy: 0.9862 - val_loss: 0.0410 - val_accuracy: 0.9879\n",
      "Epoch 6/10\n",
      "840/840 [==============================] - 5s 7ms/step - loss: 0.0437 - accuracy: 0.9861 - val_loss: 0.0444 - val_accuracy: 0.9890\n",
      "Epoch 7/10\n",
      "840/840 [==============================] - 5s 6ms/step - loss: 0.0432 - accuracy: 0.9865 - val_loss: 0.0514 - val_accuracy: 0.9884\n",
      "Epoch 8/10\n",
      "840/840 [==============================] - 5s 6ms/step - loss: 0.0345 - accuracy: 0.9896 - val_loss: 0.0518 - val_accuracy: 0.9897\n",
      "Epoch 9/10\n",
      "840/840 [==============================] - 5s 6ms/step - loss: 0.0334 - accuracy: 0.9901 - val_loss: 0.0496 - val_accuracy: 0.9887\n",
      "Epoch 10/10\n",
      "840/840 [==============================] - 6s 7ms/step - loss: 0.0315 - accuracy: 0.9910 - val_loss: 0.0550 - val_accuracy: 0.9887\n"
     ]
    }
   ],
   "execution_count": 50
  },
  {
   "metadata": {
    "ExecuteTime": {
     "end_time": "2024-09-11T10:26:08.530057Z",
     "start_time": "2024-09-11T10:26:07.784057Z"
    }
   },
   "cell_type": "code",
   "source": [
    "test_loss, test_accuracy = model.evaluate(X_test, Y_test_cat, verbose=2)\n",
    "print(f'Test accuracy:, {test_accuracy:.3f}')"
   ],
   "id": "2b4cc6531639604f",
   "outputs": [
    {
     "name": "stdout",
     "output_type": "stream",
     "text": [
      "263/263 - 1s - loss: 0.0540 - accuracy: 0.9880 - 680ms/epoch - 3ms/step\n",
      "Test accuracy:, 0.988\n"
     ]
    }
   ],
   "execution_count": 51
  },
  {
   "metadata": {
    "ExecuteTime": {
     "end_time": "2024-09-11T10:26:10.685058Z",
     "start_time": "2024-09-11T10:26:08.531058Z"
    }
   },
   "cell_type": "code",
   "source": [
    "# Predictions for test_data\n",
    "\n",
    "predictions = model.predict(test_data)\n",
    "predicted_labels = np.argmax(predictions, axis=1)"
   ],
   "id": "dd8b54427745c480",
   "outputs": [
    {
     "name": "stdout",
     "output_type": "stream",
     "text": [
      "875/875 [==============================] - 2s 2ms/step\n"
     ]
    }
   ],
   "execution_count": 52
  },
  {
   "metadata": {
    "ExecuteTime": {
     "end_time": "2024-09-11T10:26:10.826058Z",
     "start_time": "2024-09-11T10:26:10.686057Z"
    }
   },
   "cell_type": "code",
   "source": [
    "plt.plot(history.history['accuracy'], label='accuracy')\n",
    "plt.plot(history.history['val_accuracy'], label='val_accuracy')\n",
    "plt.xlabel('Epoch')\n",
    "plt.ylabel('Accuracy')\n",
    "plt.legend()\n",
    "plt.show()"
   ],
   "id": "cc48966d9415b358",
   "outputs": [
    {
     "data": {
      "text/plain": [
       "<Figure size 640x480 with 1 Axes>"
      ],
      "image/png": "[encoded data removed]"
     },
     "metadata": {},
     "output_type": "display_data"
    }
   ],
   "execution_count": 53
  },
  {
   "metadata": {
    "ExecuteTime": {
     "end_time": "2024-09-11T10:41:53.403089Z",
     "start_time": "2024-09-11T10:41:53.389089Z"
    }
   },
   "cell_type": "code",
   "source": "",
   "id": "b13ef6bcbe13178c",
   "outputs": [],
   "execution_count": 55
  }
 ],
 "metadata": {
  "kernelspec": {
   "display_name": "Python 3",
   "language": "python",
   "name": "python3"
  },
  "language_info": {
   "codemirror_mode": {
    "name": "ipython",
    "version": 2
   },
   "file_extension": ".py",
   "mimetype": "text/x-python",
   "name": "python",
   "nbconvert_exporter": "python",
   "pygments_lexer": "ipython2",
   "version": "2.7.6"
  }
 },
 "nbformat": 4,
 "nbformat_minor": 5
}
