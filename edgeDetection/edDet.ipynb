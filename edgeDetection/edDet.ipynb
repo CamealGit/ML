{
 "cells": [
  {
   "cell_type": "code",
   "id": "initial_id",
   "metadata": {
    "collapsed": true,
    "ExecuteTime": {
     "end_time": "2024-08-27T07:25:31.261388Z",
     "start_time": "2024-08-27T07:25:31.253390Z"
    }
   },
   "source": [
    "    import cv2\n",
    "\n"
   ],
   "outputs": [],
   "execution_count": 4
  },
  {
   "metadata": {
    "ExecuteTime": {
     "end_time": "2024-08-27T07:25:44.557528Z",
     "start_time": "2024-08-27T07:25:31.262390Z"
    }
   },
   "cell_type": "code",
   "source": [
    "image = cv2.imread('landscape.jpg')\n",
    "\n",
    "cv2.imshow('Original Image', image)\n",
    "cv2.waitKey(0)\n",
    "cv2.destroyAllWindows()"
   ],
   "id": "b0acdfeab07888f6",
   "outputs": [],
   "execution_count": 5
  },
  {
   "metadata": {
    "ExecuteTime": {
     "end_time": "2024-08-27T07:25:44.573528Z",
     "start_time": "2024-08-27T07:25:44.558528Z"
    }
   },
   "cell_type": "code",
   "source": "gray_image = cv2.cvtColor(image, cv2.COLOR_BGR2GRAY)",
   "id": "897553011e0aed8",
   "outputs": [],
   "execution_count": 6
  },
  {
   "metadata": {
    "ExecuteTime": {
     "end_time": "2024-08-27T07:25:46.639492Z",
     "start_time": "2024-08-27T07:25:44.574529Z"
    }
   },
   "cell_type": "code",
   "source": [
    "cv2.imshow('Gray image', gray_image)\n",
    "cv2.waitKey(0)\n",
    "cv2.destroyAllWindows()"
   ],
   "id": "7ac65387ad870d24",
   "outputs": [],
   "execution_count": 7
  },
  {
   "metadata": {
    "ExecuteTime": {
     "end_time": "2024-08-27T07:25:46.655486Z",
     "start_time": "2024-08-27T07:25:46.641488Z"
    }
   },
   "cell_type": "code",
   "source": [
    "blurred_image = cv2.GaussianBlur(gray_image, (5, 5), 0)\n",
    "edges = cv2.Canny(gray_image, threshold1=50, threshold2=150)"
   ],
   "id": "cc65d1fd0edcd9c4",
   "outputs": [],
   "execution_count": 8
  },
  {
   "metadata": {
    "ExecuteTime": {
     "end_time": "2024-08-27T07:25:47.873340Z",
     "start_time": "2024-08-27T07:25:46.656487Z"
    }
   },
   "cell_type": "code",
   "source": [
    "cv2.imshow('Edges', edges)\n",
    "cv2.waitKey(0)\n",
    "cv2.destroyAllWindows()"
   ],
   "id": "ce953a24f4d85cb8",
   "outputs": [],
   "execution_count": 9
  },
  {
   "metadata": {
    "ExecuteTime": {
     "end_time": "2024-08-27T07:25:55.953278Z",
     "start_time": "2024-08-27T07:25:51.681862Z"
    }
   },
   "cell_type": "code",
   "source": [
    "cv2.imshow('Blurred Image', blurred_image)\n",
    "cv2.waitKey(0)\n",
    "cv2.destroyAllWindows()"
   ],
   "id": "91579f0d2ae4a375",
   "outputs": [],
   "execution_count": 11
  }
 ],
 "metadata": {
  "kernelspec": {
   "display_name": "Python 3",
   "language": "python",
   "name": "python3"
  },
  "language_info": {
   "codemirror_mode": {
    "name": "ipython",
    "version": 2
   },
   "file_extension": ".py",
   "mimetype": "text/x-python",
   "name": "python",
   "nbconvert_exporter": "python",
   "pygments_lexer": "ipython2",
   "version": "2.7.6"
  }
 },
 "nbformat": 4,
 "nbformat_minor": 5
}
