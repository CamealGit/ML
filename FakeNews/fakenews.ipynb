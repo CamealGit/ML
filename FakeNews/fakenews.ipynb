{
 "cells": [
  {
   "cell_type": "code",
   "id": "initial_id",
   "metadata": {
    "collapsed": true,
    "ExecuteTime": {
     "end_time": "2024-08-28T14:38:41.113467Z",
     "start_time": "2024-08-28T14:38:38.398750Z"
    }
   },
   "source": [
    "import pandas as pd\n",
    "import numpy as np\n",
    "import re\n",
    "from nltk.corpus import stopwords\n",
    "from nltk.stem.porter import PorterStemmer\n",
    "from sklearn.feature_extraction.text import TfidfVectorizer\n",
    "from sklearn.model_selection import train_test_split\n",
    "from sklearn.linear_model import LogisticRegression\n",
    "from sklearn.metrics import accuracy_score"
   ],
   "execution_count": 15,
   "outputs": []
  },
  {
   "metadata": {
    "ExecuteTime": {
     "end_time": "2024-08-28T14:40:01.903109Z",
     "start_time": "2024-08-28T14:40:01.602107Z"
    }
   },
   "cell_type": "code",
   "source": [
    "import nltk\n",
    "nltk.download('stopwords')"
   ],
   "id": "fdf18bff770e9126",
   "execution_count": 16,
   "outputs": []
  },
  {
   "metadata": {
    "ExecuteTime": {
     "end_time": "2024-08-28T14:41:03.529652Z",
     "start_time": "2024-08-28T14:41:03.512651Z"
    }
   },
   "cell_type": "code",
   "source": "print(stopwords.words('english'))",
   "id": "d6be6a41a56e0b85",
   "execution_count": 20,
   "outputs": []
  },
  {
   "metadata": {
    "ExecuteTime": {
     "end_time": "2024-08-28T14:41:35.138839Z",
     "start_time": "2024-08-28T14:41:34.194838Z"
    }
   },
   "cell_type": "code",
   "source": "news_data = pd.read_csv('train.csv')",
   "id": "c33a641cc2b46d9",
   "execution_count": 21,
   "outputs": []
  },
  {
   "metadata": {
    "ExecuteTime": {
     "end_time": "2024-08-28T14:42:46.183819Z",
     "start_time": "2024-08-28T14:42:46.176816Z"
    }
   },
   "cell_type": "code",
   "source": "print(news_data.head())",
   "id": "e21deb28721ea33d",
   "execution_count": 25,
   "outputs": []
  },
  {
   "metadata": {
    "ExecuteTime": {
     "end_time": "2024-08-28T14:44:40.641406Z",
     "start_time": "2024-08-28T14:44:40.620372Z"
    }
   },
   "cell_type": "code",
   "source": "news_data.isnull().sum()",
   "id": "856e8a50298e6ab9",
   "execution_count": 28,
   "outputs": []
  },
  {
   "metadata": {
    "ExecuteTime": {
     "end_time": "2024-08-28T14:45:39.760044Z",
     "start_time": "2024-08-28T14:45:39.740044Z"
    }
   },
   "cell_type": "code",
   "source": "news_data = news_data.fillna('')",
   "id": "56ec8dac4e2fe065",
   "execution_count": 29,
   "outputs": []
  },
  {
   "metadata": {
    "ExecuteTime": {
     "end_time": "2024-08-28T14:47:53.092009Z",
     "start_time": "2024-08-28T14:47:53.073003Z"
    }
   },
   "cell_type": "code",
   "source": "news_data['content'] = news_data['author'] + ' ' + news_data['title']",
   "id": "38fea4c4912f977f",
   "execution_count": 30,
   "outputs": []
  },
  {
   "metadata": {
    "ExecuteTime": {
     "end_time": "2024-08-28T14:49:22.484117Z",
     "start_time": "2024-08-28T14:49:22.464119Z"
    }
   },
   "cell_type": "code",
   "source": [
    "X = news_data.drop(columns='label', axis=1)\n",
    "Y = news_data['label']"
   ],
   "id": "e234be6897eba74e",
   "execution_count": 36,
   "outputs": []
  },
  {
   "metadata": {
    "ExecuteTime": {
     "end_time": "2024-08-28T14:50:44.277948Z",
     "start_time": "2024-08-28T14:50:44.265952Z"
    }
   },
   "cell_type": "code",
   "source": "port_stem = PorterStemmer()",
   "id": "86e8924230dcf83b",
   "execution_count": 41,
   "outputs": []
  },
  {
   "metadata": {
    "ExecuteTime": {
     "end_time": "2024-08-28T14:58:49.492941Z",
     "start_time": "2024-08-28T14:58:49.479944Z"
    }
   },
   "cell_type": "code",
   "source": [
    "def stemming(content):\n",
    "    stemmed_content = re.sub('[^a-zA-Z]',' ', content)\n",
    "    stemmed_content = stemmed_content.lower()\n",
    "    stemmed_content = stemmed_content.split()\n",
    "    stemmed_content = [port_stem.stem(word) for word in stemmed_content if not word in stopwords.words('english')]\n",
    "    stemmed_content = ' '.join(stemmed_content)\n",
    "    return stemmed_content"
   ],
   "id": "b71e42af8f001281",
   "execution_count": 42,
   "outputs": []
  },
  {
   "metadata": {
    "ExecuteTime": {
     "end_time": "2024-08-28T14:59:55.331090Z",
     "start_time": "2024-08-28T14:59:14.452321Z"
    }
   },
   "cell_type": "code",
   "source": "news_data['content'] = news_data['content'].apply(stemming)",
   "id": "26ebd0b3284f370e",
   "execution_count": 43,
   "outputs": []
  },
  {
   "metadata": {
    "ExecuteTime": {
     "end_time": "2024-08-28T15:00:54.527723Z",
     "start_time": "2024-08-28T15:00:54.513725Z"
    }
   },
   "cell_type": "code",
   "source": "print(news_data['content'].head())",
   "id": "523f21fe83b33f9e",
   "execution_count": 46,
   "outputs": []
  },
  {
   "metadata": {
    "ExecuteTime": {
     "end_time": "2024-08-28T15:02:02.731844Z",
     "start_time": "2024-08-28T15:02:02.713843Z"
    }
   },
   "cell_type": "code",
   "source": [
    "X = news_data['content'].values\n",
    "Y = news_data['label'].values"
   ],
   "id": "2d211b0cff7133f2",
   "execution_count": 47,
   "outputs": []
  },
  {
   "metadata": {
    "ExecuteTime": {
     "end_time": "2024-08-28T15:03:01.606869Z",
     "start_time": "2024-08-28T15:03:01.595870Z"
    }
   },
   "cell_type": "code",
   "source": "print(X)",
   "id": "7b1425760e50c11a",
   "execution_count": 49,
   "outputs": []
  },
  {
   "metadata": {
    "ExecuteTime": {
     "end_time": "2024-08-28T15:03:47.749678Z",
     "start_time": "2024-08-28T15:03:47.733671Z"
    }
   },
   "cell_type": "code",
   "source": "print(Y.shape)",
   "id": "f6087277530469d9",
   "execution_count": 52,
   "outputs": []
  },
  {
   "metadata": {
    "ExecuteTime": {
     "end_time": "2024-08-28T15:05:30.436983Z",
     "start_time": "2024-08-28T15:05:30.132980Z"
    }
   },
   "cell_type": "code",
   "source": [
    "vectorizer = TfidfVectorizer()\n",
    "vectorizer.fit(X)\n",
    "\n",
    "X = vectorizer.transform(X)"
   ],
   "id": "4f840a90f44aab07",
   "execution_count": 53,
   "outputs": []
  },
  {
   "metadata": {
    "ExecuteTime": {
     "end_time": "2024-08-28T15:05:34.972966Z",
     "start_time": "2024-08-28T15:05:34.955967Z"
    }
   },
   "cell_type": "code",
   "source": "print(X)",
   "id": "462a1893ae52600a",
   "execution_count": 54,
   "outputs": []
  },
  {
   "metadata": {
    "ExecuteTime": {
     "end_time": "2024-08-28T15:07:55.590723Z",
     "start_time": "2024-08-28T15:07:55.564729Z"
    }
   },
   "cell_type": "code",
   "source": "X_train, X_test, Y_train, Y_test = train_test_split(X, Y, test_size=0.2, stratify=Y, random_state=2)",
   "id": "a71ff13156d6ade9",
   "execution_count": 55,
   "outputs": []
  },
  {
   "metadata": {
    "ExecuteTime": {
     "end_time": "2024-08-28T15:09:39.991660Z",
     "start_time": "2024-08-28T15:09:39.984662Z"
    }
   },
   "cell_type": "code",
   "source": "model = LogisticRegression()",
   "id": "72c603aaf65bd22f",
   "execution_count": 57,
   "outputs": []
  },
  {
   "metadata": {
    "ExecuteTime": {
     "end_time": "2024-08-28T15:09:51.208225Z",
     "start_time": "2024-08-28T15:09:51.100623Z"
    }
   },
   "cell_type": "code",
   "source": "model.fit(X_train, Y_train)",
   "id": "283f2a9ff6bcae65",
   "execution_count": 58,
   "outputs": []
  },
  {
   "metadata": {
    "ExecuteTime": {
     "end_time": "2024-08-28T15:10:52.995583Z",
     "start_time": "2024-08-28T15:10:52.978586Z"
    }
   },
   "cell_type": "code",
   "source": [
    "X_train_prediction = model.predict(X_train)\n",
    "training_data_accuracy = accuracy_score(X_train_prediction, Y_train)"
   ],
   "id": "da687350cfd53d1c",
   "execution_count": 59,
   "outputs": []
  },
  {
   "metadata": {
    "ExecuteTime": {
     "end_time": "2024-08-28T15:10:56.026439Z",
     "start_time": "2024-08-28T15:10:56.011441Z"
    }
   },
   "cell_type": "code",
   "source": "print(training_data_accuracy)\n",
   "id": "f896f1a1279f21ca",
   "execution_count": 60,
   "outputs": []
  },
  {
   "metadata": {
    "ExecuteTime": {
     "end_time": "2024-08-28T15:12:31.312901Z",
     "start_time": "2024-08-28T15:12:31.307901Z"
    }
   },
   "cell_type": "code",
   "source": [
    "X_test_prediction = model.predict(X_test)\n",
    "test_data_accuracy = accuracy_score(X_test_prediction, Y_test)"
   ],
   "id": "74b2a40623a48ba2",
   "execution_count": 61,
   "outputs": []
  },
  {
   "metadata": {
    "ExecuteTime": {
     "end_time": "2024-08-28T15:12:35.070300Z",
     "start_time": "2024-08-28T15:12:35.057295Z"
    }
   },
   "cell_type": "code",
   "source": "print(test_data_accuracy)",
   "id": "b712d58b10258fc9",
   "execution_count": 62,
   "outputs": []
  },
  {
   "metadata": {
    "ExecuteTime": {
     "end_time": "2024-08-28T15:16:04.779385Z",
     "start_time": "2024-08-28T15:16:04.762337Z"
    }
   },
   "cell_type": "code",
   "source": [
    "index = 414\n",
    "X_new = X_test[index]\n",
    "\n",
    "prediction = model.predict(X_new)\n",
    "print(prediction)\n",
    "\n",
    "if (prediction[0]==0):\n",
    "    print(\"The news is real\")\n",
    "else:\n",
    "    print(\"The news is fake\")"
   ],
   "id": "7b67e04ed24d7630",
   "execution_count": 75,
   "outputs": []
  }
 ],
 "metadata": {
  "kernelspec": {
   "display_name": "Python 3",
   "language": "python",
   "name": "python3"
  },
  "language_info": {
   "codemirror_mode": {
    "name": "ipython",
    "version": 2
   },
   "file_extension": ".py",
   "mimetype": "text/x-python",
   "name": "python",
   "nbconvert_exporter": "python",
   "pygments_lexer": "ipython2",
   "version": "2.7.6"
  }
 },
 "nbformat": 4,
 "nbformat_minor": 5
}
