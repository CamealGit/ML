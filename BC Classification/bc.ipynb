{
 "cells": [
  {
   "cell_type": "code",
   "id": "initial_id",
   "metadata": {
    "collapsed": true,
    "ExecuteTime": {
     "end_time": "2024-08-26T07:21:23.709463Z",
     "start_time": "2024-08-26T07:21:19.292778Z"
    }
   },
   "source": [
    "import numpy as np\n",
    "import pandas as pd \n",
    "from sklearn.model_selection import train_test_split\n",
    "from sklearn.datasets import load_breast_cancer\n",
    "import matplotlib.pyplot as plt"
   ],
   "execution_count": 1,
   "outputs": []
  },
  {
   "metadata": {
    "ExecuteTime": {
     "end_time": "2024-08-26T07:21:23.741458Z",
     "start_time": "2024-08-26T07:21:23.711459Z"
    }
   },
   "cell_type": "code",
   "source": [
    "# Loading data\n",
    "\n",
    "breast_data = load_breast_cancer()\n",
    "data_frame = pd.DataFrame(data=breast_data.data, columns=breast_data.feature_names)"
   ],
   "id": "16b6e30e9e7ac9c1",
   "execution_count": 2,
   "outputs": []
  },
  {
   "metadata": {
    "ExecuteTime": {
     "end_time": "2024-08-26T07:21:23.772459Z",
     "start_time": "2024-08-26T07:21:23.742459Z"
    }
   },
   "cell_type": "code",
   "source": "data_frame.head()",
   "id": "58235b99f0d00351",
   "execution_count": 3,
   "outputs": []
  },
  {
   "metadata": {
    "ExecuteTime": {
     "end_time": "2024-08-26T07:21:23.787459Z",
     "start_time": "2024-08-26T07:21:23.773460Z"
    }
   },
   "cell_type": "code",
   "source": "data_frame['label'] = breast_data.target",
   "id": "4d13988dd0b6119f",
   "execution_count": 4,
   "outputs": []
  },
  {
   "metadata": {
    "ExecuteTime": {
     "end_time": "2024-08-26T07:21:23.835459Z",
     "start_time": "2024-08-26T07:21:23.788460Z"
    }
   },
   "cell_type": "code",
   "source": [
    "# data_frame.info()\n",
    "data_frame.describe()"
   ],
   "id": "87354915ada76ff0",
   "execution_count": 5,
   "outputs": []
  },
  {
   "metadata": {
    "ExecuteTime": {
     "end_time": "2024-08-26T07:21:23.865459Z",
     "start_time": "2024-08-26T07:21:23.837461Z"
    }
   },
   "cell_type": "code",
   "source": "data_frame.groupby('label').mean()",
   "id": "8c2e2027833b6ec0",
   "execution_count": 6,
   "outputs": []
  },
  {
   "metadata": {
    "ExecuteTime": {
     "end_time": "2024-08-26T07:21:23.880460Z",
     "start_time": "2024-08-26T07:21:23.867461Z"
    }
   },
   "cell_type": "code",
   "source": [
    "X = data_frame.drop(columns='label', axis=1)\n",
    "Y = data_frame['label']"
   ],
   "id": "9bd283393927632b",
   "execution_count": 7,
   "outputs": []
  },
  {
   "metadata": {
    "ExecuteTime": {
     "end_time": "2024-08-26T07:21:23.941459Z",
     "start_time": "2024-08-26T07:21:23.882461Z"
    }
   },
   "cell_type": "code",
   "source": [
    "# Splitting data\n",
    "X_train, X_test, Y_train, Y_test = train_test_split(X, Y, test_size=0.2, random_state=2)"
   ],
   "id": "d6022c82ff94d6d7",
   "execution_count": 8,
   "outputs": []
  },
  {
   "metadata": {
    "ExecuteTime": {
     "end_time": "2024-08-26T07:21:23.956460Z",
     "start_time": "2024-08-26T07:21:23.942459Z"
    }
   },
   "cell_type": "code",
   "source": [
    "# Standarizing data\n",
    "from sklearn.preprocessing import StandardScaler\n",
    "\n",
    "scaler = StandardScaler()\n",
    "\n",
    "X_train_std = scaler.fit_transform(X_train)\n",
    "X_test_std = scaler.transform(X_test)"
   ],
   "id": "605c4e7cac2b3c80",
   "execution_count": 9,
   "outputs": []
  },
  {
   "metadata": {
    "ExecuteTime": {
     "end_time": "2024-08-26T07:21:30.881454Z",
     "start_time": "2024-08-26T07:21:23.958461Z"
    }
   },
   "cell_type": "code",
   "source": [
    "import tensorflow as tf\n",
    "tf.random.set_seed(3)\n",
    "from tensorflow import keras"
   ],
   "id": "eb4b347c5a9f8115",
   "execution_count": 10,
   "outputs": []
  },
  {
   "metadata": {
    "ExecuteTime": {
     "end_time": "2024-08-26T07:21:31.020455Z",
     "start_time": "2024-08-26T07:21:30.883450Z"
    }
   },
   "cell_type": "code",
   "source": [
    "# Setting up layers NN\n",
    "\n",
    "model = keras.Sequential([\n",
    "    keras.layers.Flatten(input_shape=(30, )),\n",
    "    keras.layers.Dense(20, activation='relu'),\n",
    "    keras.layers.Dense(2, activation='sigmoid')\n",
    "])"
   ],
   "id": "937e1ff666a2911c",
   "execution_count": 11,
   "outputs": []
  },
  {
   "metadata": {
    "ExecuteTime": {
     "end_time": "2024-08-26T07:21:31.051452Z",
     "start_time": "2024-08-26T07:21:31.021450Z"
    }
   },
   "cell_type": "code",
   "source": [
    "# Compiling NN\n",
    "\n",
    "model.compile(optimizer='adam', loss='sparse_categorical_crossentropy', metrics=['accuracy'])"
   ],
   "id": "19dbcb8344b85d22",
   "execution_count": 12,
   "outputs": []
  },
  {
   "metadata": {
    "ExecuteTime": {
     "end_time": "2024-08-26T07:21:32.330087Z",
     "start_time": "2024-08-26T07:21:31.053450Z"
    }
   },
   "cell_type": "code",
   "source": [
    "# Training\n",
    "\n",
    "history = model.fit(X_train_std, Y_train, validation_split=0.1, epochs=10)"
   ],
   "id": "d3eda2303dc545",
   "execution_count": 13,
   "outputs": []
  },
  {
   "metadata": {
    "ExecuteTime": {
     "end_time": "2024-08-26T07:21:32.598086Z",
     "start_time": "2024-08-26T07:21:32.332089Z"
    }
   },
   "cell_type": "code",
   "source": [
    "# Visualising\n",
    "\n",
    "plt.plot(history.history['accuracy'])\n",
    "plt.plot(history.history['val_accuracy'])\n",
    "\n",
    "plt.title('Model accuracy')\n",
    "plt.xlabel('Epoch')\n",
    "plt.ylabel('Accuracy')\n",
    "\n",
    "plt.legend(['training data', 'validation data'], loc='lower left')"
   ],
   "id": "7d4ca332d24b777e",
   "execution_count": 14,
   "outputs": []
  },
  {
   "metadata": {
    "ExecuteTime": {
     "end_time": "2024-08-26T07:26:19.033483Z",
     "start_time": "2024-08-26T07:26:18.906484Z"
    }
   },
   "cell_type": "code",
   "source": [
    "plt.plot(history.history['loss'])\n",
    "plt.plot(history.history['val_loss'])\n",
    "\n",
    "plt.title('Model accuracy')\n",
    "plt.xlabel('loss')\n",
    "plt.ylabel('epoch')\n",
    "\n",
    "plt.legend(['training data', 'validation data'], loc='upper right')"
   ],
   "id": "fab5825926dd073b",
   "execution_count": 21,
   "outputs": []
  },
  {
   "metadata": {
    "ExecuteTime": {
     "end_time": "2024-08-26T07:29:10.068702Z",
     "start_time": "2024-08-26T07:29:09.990706Z"
    }
   },
   "cell_type": "code",
   "source": [
    "# Visualizing test data\n",
    "\n",
    "loss , accuracy = model.evaluate(X_test_std, Y_test)\n",
    "print(accuracy)"
   ],
   "id": "4a8a278efebcc89c",
   "execution_count": 23,
   "outputs": []
  },
  {
   "metadata": {
    "ExecuteTime": {
     "end_time": "2024-08-26T07:30:14.407765Z",
     "start_time": "2024-08-26T07:30:14.394216Z"
    }
   },
   "cell_type": "code",
   "source": [
    "print(X_test_std.shape)\n",
    "print(X_test_std[0])"
   ],
   "id": "977eb24a12f6bab4",
   "execution_count": 27,
   "outputs": []
  },
  {
   "metadata": {
    "ExecuteTime": {
     "end_time": "2024-08-26T07:30:47.334695Z",
     "start_time": "2024-08-26T07:30:47.268703Z"
    }
   },
   "cell_type": "code",
   "source": "Y_pred = model.predict(X_test_std)",
   "id": "ba3447fe0344f28c",
   "execution_count": 29,
   "outputs": []
  },
  {
   "metadata": {
    "ExecuteTime": {
     "end_time": "2024-08-26T07:35:13.671147Z",
     "start_time": "2024-08-26T07:35:13.663149Z"
    }
   },
   "cell_type": "code",
   "source": [
    "print(Y_pred.shape)\n",
    "print(Y_pred[0])"
   ],
   "id": "32f0ad832d3da098",
   "execution_count": 32,
   "outputs": []
  },
  {
   "metadata": {
    "ExecuteTime": {
     "end_time": "2024-08-26T07:41:29.426925Z",
     "start_time": "2024-08-26T07:41:29.406930Z"
    }
   },
   "cell_type": "code",
   "source": [
    "Y_pred_labels = [np.argmax(i) for i in Y_pred]\n",
    "print(Y_pred_labels)"
   ],
   "id": "43cb55e51bd4c33",
   "execution_count": 34,
   "outputs": []
  },
  {
   "metadata": {
    "ExecuteTime": {
     "end_time": "2024-08-26T07:50:21.258902Z",
     "start_time": "2024-08-26T07:50:21.208901Z"
    }
   },
   "cell_type": "code",
   "source": [
    "input_data = (13.54,14.36,87.46,566.3,0.09779,0.08129,0.06664,0.04781,0.1885,0.05766,0.2699,0.7886,2.058,23.56,0.008462,0.0146,0.02387,0.01315,0.0198,0.0023,15.11,19.26,99.7,711.2,0.144,0.1773,0.239,0.1288,0.2977,0.07259\n",
    "\n",
    "              )\n",
    "\n",
    "input_data_as_array = np.asarray(input_data)\n",
    "\n",
    "input_data_reshaped = input_data_as_array.reshape(1, -1)\n",
    "\n",
    "input_data_std = scaler.transform(input_data_reshaped)\n",
    "\n",
    "prediction = model.predict(input_data_std)\n",
    "print(prediction)\n",
    "\n",
    "prediction_label = [np.argmax(prediction)]\n",
    "print(prediction_label)\n",
    "\n",
    "if(prediction_label[0] == 0):\n",
    "    print('The tumor is malignant')\n",
    "else:\n",
    "    print('The tumor is benign')"
   ],
   "id": "a78d497f19b8f38a",
   "execution_count": 37,
   "outputs": []
  }
 ],
 "metadata": {
  "kernelspec": {
   "display_name": "Python 3",
   "language": "python",
   "name": "python3"
  },
  "language_info": {
   "codemirror_mode": {
    "name": "ipython",
    "version": 2
   },
   "file_extension": ".py",
   "mimetype": "text/x-python",
   "name": "python",
   "nbconvert_exporter": "python",
   "pygments_lexer": "ipython2",
   "version": "2.7.6"
  }
 },
 "nbformat": 4,
 "nbformat_minor": 5
}
