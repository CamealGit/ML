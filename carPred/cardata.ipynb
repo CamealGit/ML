{
 "cells": [
  {
   "cell_type": "code",
   "id": "initial_id",
   "metadata": {
    "collapsed": true,
    "ExecuteTime": {
     "end_time": "2024-08-31T07:47:26.869058Z",
     "start_time": "2024-08-31T07:47:26.862056Z"
    }
   },
   "source": [
    "import pandas as pd\n",
    "import numpy as np\n",
    "import matplotlib.pyplot as plt\n",
    "import seaborn as sns\n",
    "from sklearn.model_selection import train_test_split\n",
    "from sklearn.preprocessing import StandardScaler\n",
    "from sklearn.metrics import mean_absolute_error, mean_squared_error, r2_score\n",
    "from sklearn.linear_model import LinearRegression "
   ],
   "execution_count": 115,
   "outputs": []
  },
  {
   "metadata": {
    "ExecuteTime": {
     "end_time": "2024-08-31T07:32:41.631287Z",
     "start_time": "2024-08-31T07:32:41.618288Z"
    }
   },
   "cell_type": "code",
   "source": [
    "car_data = pd.read_csv('car data.csv')\n",
    "\n",
    "car_data.head()"
   ],
   "id": "88b4e1fc828db9c7",
   "execution_count": 84,
   "outputs": []
  },
  {
   "metadata": {
    "ExecuteTime": {
     "end_time": "2024-08-31T07:32:41.662286Z",
     "start_time": "2024-08-31T07:32:41.632289Z"
    }
   },
   "cell_type": "code",
   "source": [
    "car_data.info()\n",
    "car_data.describe()"
   ],
   "id": "8de4c10932629c28",
   "execution_count": 85,
   "outputs": []
  },
  {
   "metadata": {
    "ExecuteTime": {
     "end_time": "2024-08-31T07:32:41.678286Z",
     "start_time": "2024-08-31T07:32:41.663290Z"
    }
   },
   "cell_type": "code",
   "source": "car_encoded = pd.get_dummies(car_data, columns=['Fuel_Type', 'Seller_Type', 'Transmission'], drop_first=True)",
   "id": "7abe17bc2828cb5f",
   "execution_count": 86,
   "outputs": []
  },
  {
   "metadata": {
    "ExecuteTime": {
     "end_time": "2024-08-31T07:32:41.694287Z",
     "start_time": "2024-08-31T07:32:41.680288Z"
    }
   },
   "cell_type": "code",
   "source": "car_encoded.head()",
   "id": "abe9424b48842fdd",
   "execution_count": 87,
   "outputs": []
  },
  {
   "metadata": {
    "ExecuteTime": {
     "end_time": "2024-08-31T07:32:41.709289Z",
     "start_time": "2024-08-31T07:32:41.695287Z"
    }
   },
   "cell_type": "code",
   "source": "car_encoded = car_encoded.replace({True: 1, False: 0})\n",
   "id": "b0d720908062769",
   "execution_count": 88,
   "outputs": []
  },
  {
   "metadata": {
    "ExecuteTime": {
     "end_time": "2024-08-31T07:32:41.725287Z",
     "start_time": "2024-08-31T07:32:41.711289Z"
    }
   },
   "cell_type": "code",
   "source": "car_encoded.describe().loc['std']",
   "id": "57a2aaa890a79bb9",
   "execution_count": 89,
   "outputs": []
  },
  {
   "metadata": {
    "ExecuteTime": {
     "end_time": "2024-08-31T07:32:41.740287Z",
     "start_time": "2024-08-31T07:32:41.726289Z"
    }
   },
   "cell_type": "code",
   "source": "car_encoded.head()",
   "id": "de8f4c1d0eda7407",
   "execution_count": 90,
   "outputs": []
  },
  {
   "metadata": {
    "ExecuteTime": {
     "end_time": "2024-08-31T07:33:21.158794Z",
     "start_time": "2024-08-31T07:33:21.151796Z"
    }
   },
   "cell_type": "code",
   "source": [
    "scaler = StandardScaler()\n",
    "features_for_standarize = ['Kms_Driven', 'Selling_Price', 'Present_Price', 'Year']\n",
    "scaled_features = scaler.fit_transform(car_encoded[features_for_standarize])"
   ],
   "id": "1dd721dbaea1e9a4",
   "execution_count": 92,
   "outputs": []
  },
  {
   "metadata": {
    "ExecuteTime": {
     "end_time": "2024-08-31T07:33:44.226238Z",
     "start_time": "2024-08-31T07:33:44.208241Z"
    }
   },
   "cell_type": "code",
   "source": "scaled_df = pd.DataFrame(scaled_features, columns=features_for_standarize)",
   "id": "17ae4cf6c6dbd848",
   "execution_count": 94,
   "outputs": []
  },
  {
   "metadata": {
    "ExecuteTime": {
     "end_time": "2024-08-31T07:34:12.087041Z",
     "start_time": "2024-08-31T07:34:12.075027Z"
    }
   },
   "cell_type": "code",
   "source": "car_encoded[features_for_standarize] = scaled_df",
   "id": "ae10a1cff99732e",
   "execution_count": 96,
   "outputs": []
  },
  {
   "metadata": {
    "ExecuteTime": {
     "end_time": "2024-08-31T07:34:27.409138Z",
     "start_time": "2024-08-31T07:34:27.390142Z"
    }
   },
   "cell_type": "code",
   "source": "car_encoded.describe().loc['std']",
   "id": "9f4afaf53ddc3d4c",
   "execution_count": 98,
   "outputs": []
  },
  {
   "metadata": {
    "ExecuteTime": {
     "end_time": "2024-08-31T07:44:10.317287Z",
     "start_time": "2024-08-31T07:44:10.311290Z"
    }
   },
   "cell_type": "code",
   "source": "car_encoded = car_encoded.drop(columns='Car_Name')",
   "id": "a27a9b831bd9d1e8",
   "execution_count": 107,
   "outputs": []
  },
  {
   "metadata": {
    "ExecuteTime": {
     "end_time": "2024-08-31T07:44:11.198125Z",
     "start_time": "2024-08-31T07:44:11.181126Z"
    }
   },
   "cell_type": "code",
   "source": [
    "X = car_encoded.drop(columns='Selling_Price')\n",
    "y = car_encoded['Selling_Price']"
   ],
   "id": "55e78af33e1bd64d",
   "execution_count": 108,
   "outputs": []
  },
  {
   "metadata": {
    "ExecuteTime": {
     "end_time": "2024-08-31T07:44:12.654931Z",
     "start_time": "2024-08-31T07:44:12.637935Z"
    }
   },
   "cell_type": "code",
   "source": "X_train, X_test, y_train, y_test = train_test_split(X, y, test_size=0.2, random_state=2)",
   "id": "6b4dc896a8dcaa3d",
   "execution_count": 109,
   "outputs": []
  },
  {
   "metadata": {
    "ExecuteTime": {
     "end_time": "2024-08-31T07:44:13.765437Z",
     "start_time": "2024-08-31T07:44:13.758439Z"
    }
   },
   "cell_type": "code",
   "source": "model = LinearRegression()\n",
   "id": "724aeeb0d901ccdb",
   "execution_count": 110,
   "outputs": []
  },
  {
   "metadata": {
    "ExecuteTime": {
     "end_time": "2024-08-31T07:44:15.072915Z",
     "start_time": "2024-08-31T07:44:15.006913Z"
    }
   },
   "cell_type": "code",
   "source": "model.fit(X_train, y_train)",
   "id": "1dee3ac08f052b26",
   "execution_count": 111,
   "outputs": []
  },
  {
   "metadata": {
    "ExecuteTime": {
     "end_time": "2024-08-31T07:44:59.927403Z",
     "start_time": "2024-08-31T07:44:59.920403Z"
    }
   },
   "cell_type": "code",
   "source": "y_pred = model.predict(X_test)",
   "id": "e0c7891391d5a1ea",
   "execution_count": 112,
   "outputs": []
  },
  {
   "metadata": {
    "ExecuteTime": {
     "end_time": "2024-08-31T07:54:24.646599Z",
     "start_time": "2024-08-31T07:54:24.637607Z"
    }
   },
   "cell_type": "code",
   "source": [
    "mae = mean_absolute_error(y_test, y_pred)\n",
    "mse = mean_squared_error(y_test, y_pred)\n",
    "rmse = np.sqrt(mse)\n",
    "r2 = r2_score(y_test, y_pred)\n",
    "\n",
    "scores = {\n",
    "    'MAE' : mae, \n",
    "    'MSE' : mse, \n",
    "    'RMSE' : rmse, \n",
    "    'R2 Score' : r2\n",
    "}"
   ],
   "id": "14c3842433d09177",
   "execution_count": 133,
   "outputs": []
  },
  {
   "metadata": {
    "ExecuteTime": {
     "end_time": "2024-08-31T07:55:13.541897Z",
     "start_time": "2024-08-31T07:55:13.530891Z"
    }
   },
   "cell_type": "code",
   "source": [
    "for metric, value in scores.items():\n",
    "    print(f'{metric}: {value:.2f}')"
   ],
   "id": "14e9cf918bb1e533",
   "execution_count": 136,
   "outputs": []
  },
  {
   "metadata": {
    "ExecuteTime": {
     "end_time": "2024-08-31T08:01:27.719840Z",
     "start_time": "2024-08-31T08:01:27.700788Z"
    }
   },
   "cell_type": "code",
   "source": "# TBC",
   "id": "d338234a1fb091e7",
   "execution_count": 142,
   "outputs": []
  }
 ],
 "metadata": {
  "kernelspec": {
   "display_name": "Python 3",
   "language": "python",
   "name": "python3"
  },
  "language_info": {
   "codemirror_mode": {
    "name": "ipython",
    "version": 2
   },
   "file_extension": ".py",
   "mimetype": "text/x-python",
   "name": "python",
   "nbconvert_exporter": "python",
   "pygments_lexer": "ipython2",
   "version": "2.7.6"
  }
 },
 "nbformat": 4,
 "nbformat_minor": 5
}
