{
 "cells": [
  {
   "cell_type": "code",
   "id": "initial_id",
   "metadata": {
    "collapsed": true,
    "ExecuteTime": {
     "end_time": "2024-08-17T08:22:57.638622Z",
     "start_time": "2024-08-17T08:22:57.626622Z"
    }
   },
   "source": [
    "from sklearn.datasets import load_iris\n",
    "import pandas as pd\n",
    "from sklearn.preprocessing import StandardScaler\n",
    "from sklearn.model_selection import train_test_split\n",
    "from tensorflow.keras.utils import to_categorical\n",
    "from tensorflow.keras.models import Sequential\n",
    "from tensorflow.keras.layers import Dense\n",
    "import numpy as np"
   ],
   "outputs": [],
   "execution_count": 37
  },
  {
   "metadata": {
    "ExecuteTime": {
     "end_time": "2024-08-17T08:02:48.093510Z",
     "start_time": "2024-08-17T08:02:48.079511Z"
    }
   },
   "cell_type": "code",
   "source": [
    "iris = load_iris()\n",
    "\n",
    "X = iris.data\n",
    "y = iris.target\n",
    "\n",
    "y = to_categorical(y)"
   ],
   "id": "b84b67fabf9bdd30",
   "outputs": [],
   "execution_count": 11
  },
  {
   "metadata": {
    "ExecuteTime": {
     "end_time": "2024-08-17T08:10:06.418980Z",
     "start_time": "2024-08-17T08:10:06.403947Z"
    }
   },
   "cell_type": "code",
   "source": "X_train, X_test, y_train, y_test = train_test_split(X, y, test_size=0.2, random_state=42)",
   "id": "e53a863217841715",
   "outputs": [],
   "execution_count": 13
  },
  {
   "metadata": {
    "ExecuteTime": {
     "end_time": "2024-08-17T08:11:06.912511Z",
     "start_time": "2024-08-17T08:11:06.904512Z"
    }
   },
   "cell_type": "code",
   "source": "scaler = StandardScaler()",
   "id": "ec077eabbb836c8d",
   "outputs": [],
   "execution_count": 15
  },
  {
   "metadata": {
    "ExecuteTime": {
     "end_time": "2024-08-17T08:11:39.700028Z",
     "start_time": "2024-08-17T08:11:39.694029Z"
    }
   },
   "cell_type": "code",
   "source": [
    "X_train = scaler.fit_transform(X_train)\n",
    "X_test = scaler.transform(X_test)"
   ],
   "id": "43344c4dde5cbce2",
   "outputs": [],
   "execution_count": 16
  },
  {
   "metadata": {
    "ExecuteTime": {
     "end_time": "2024-08-17T08:14:33.261837Z",
     "start_time": "2024-08-17T08:14:33.185832Z"
    }
   },
   "cell_type": "code",
   "source": [
    "model = Sequential()\n",
    "model.add(Dense(10, input_shape=(4,), activation='relu'))\n",
    "model.add(Dense(10, activation='relu'))\n",
    "model.add(Dense(3, activation='softmax'))"
   ],
   "id": "644d096f96999d48",
   "outputs": [],
   "execution_count": 18
  },
  {
   "metadata": {
    "ExecuteTime": {
     "end_time": "2024-08-17T08:15:17.783571Z",
     "start_time": "2024-08-17T08:15:17.767572Z"
    }
   },
   "cell_type": "code",
   "source": "model.compile(loss='categorical_crossentropy', optimizer='adam', metrics=['accuracy'])",
   "id": "76bd96a3e7191ef5",
   "outputs": [],
   "execution_count": 19
  },
  {
   "metadata": {
    "ExecuteTime": {
     "end_time": "2024-08-17T08:17:46.218780Z",
     "start_time": "2024-08-17T08:17:44.333781Z"
    }
   },
   "cell_type": "code",
   "source": "model.fit(X_train, y_train, epochs=20, batch_size=5, validation_split=0.2)",
   "id": "3e504170f671861f",
   "outputs": [
    {
     "name": "stdout",
     "output_type": "stream",
     "text": [
      "Epoch 1/20\n",
      "20/20 [==============================] - 1s 15ms/step - loss: 1.0284 - accuracy: 0.2292 - val_loss: 1.0109 - val_accuracy: 0.2083\n",
      "Epoch 2/20\n",
      "20/20 [==============================] - 0s 2ms/step - loss: 0.9828 - accuracy: 0.3125 - val_loss: 0.9488 - val_accuracy: 0.3333\n",
      "Epoch 3/20\n",
      "20/20 [==============================] - 0s 2ms/step - loss: 0.9338 - accuracy: 0.6146 - val_loss: 0.9071 - val_accuracy: 0.5833\n",
      "Epoch 4/20\n",
      "20/20 [==============================] - 0s 3ms/step - loss: 0.8861 - accuracy: 0.7708 - val_loss: 0.8632 - val_accuracy: 0.7083\n",
      "Epoch 5/20\n",
      "20/20 [==============================] - 0s 3ms/step - loss: 0.8370 - accuracy: 0.7604 - val_loss: 0.8271 - val_accuracy: 0.7500\n",
      "Epoch 6/20\n",
      "20/20 [==============================] - 0s 2ms/step - loss: 0.7858 - accuracy: 0.8229 - val_loss: 0.7734 - val_accuracy: 0.7917\n",
      "Epoch 7/20\n",
      "20/20 [==============================] - 0s 2ms/step - loss: 0.7322 - accuracy: 0.8854 - val_loss: 0.7315 - val_accuracy: 0.7917\n",
      "Epoch 8/20\n",
      "20/20 [==============================] - 0s 3ms/step - loss: 0.6793 - accuracy: 0.9062 - val_loss: 0.6940 - val_accuracy: 0.8333\n",
      "Epoch 9/20\n",
      "20/20 [==============================] - 0s 2ms/step - loss: 0.6296 - accuracy: 0.8854 - val_loss: 0.6567 - val_accuracy: 0.8333\n",
      "Epoch 10/20\n",
      "20/20 [==============================] - 0s 3ms/step - loss: 0.5803 - accuracy: 0.8854 - val_loss: 0.6150 - val_accuracy: 0.8333\n",
      "Epoch 11/20\n",
      "20/20 [==============================] - 0s 3ms/step - loss: 0.5376 - accuracy: 0.8854 - val_loss: 0.5785 - val_accuracy: 0.8333\n",
      "Epoch 12/20\n",
      "20/20 [==============================] - 0s 3ms/step - loss: 0.4999 - accuracy: 0.8542 - val_loss: 0.5568 - val_accuracy: 0.8333\n",
      "Epoch 13/20\n",
      "20/20 [==============================] - 0s 3ms/step - loss: 0.4706 - accuracy: 0.8646 - val_loss: 0.5221 - val_accuracy: 0.8750\n",
      "Epoch 14/20\n",
      "20/20 [==============================] - 0s 2ms/step - loss: 0.4447 - accuracy: 0.8333 - val_loss: 0.4973 - val_accuracy: 0.8750\n",
      "Epoch 15/20\n",
      "20/20 [==============================] - 0s 2ms/step - loss: 0.4234 - accuracy: 0.8333 - val_loss: 0.4784 - val_accuracy: 0.8750\n",
      "Epoch 16/20\n",
      "20/20 [==============================] - 0s 2ms/step - loss: 0.4072 - accuracy: 0.8542 - val_loss: 0.4569 - val_accuracy: 0.8750\n",
      "Epoch 17/20\n",
      "20/20 [==============================] - 0s 2ms/step - loss: 0.3900 - accuracy: 0.8542 - val_loss: 0.4471 - val_accuracy: 0.8750\n",
      "Epoch 18/20\n",
      "20/20 [==============================] - 0s 2ms/step - loss: 0.3782 - accuracy: 0.8438 - val_loss: 0.4344 - val_accuracy: 0.8750\n",
      "Epoch 19/20\n",
      "20/20 [==============================] - 0s 3ms/step - loss: 0.3635 - accuracy: 0.8542 - val_loss: 0.4343 - val_accuracy: 0.8750\n",
      "Epoch 20/20\n",
      "20/20 [==============================] - 0s 3ms/step - loss: 0.3534 - accuracy: 0.8542 - val_loss: 0.4335 - val_accuracy: 0.8750\n"
     ]
    },
    {
     "data": {
      "text/plain": [
       "<keras.callbacks.History at 0x1971ed8e470>"
      ]
     },
     "execution_count": 20,
     "metadata": {},
     "output_type": "execute_result"
    }
   ],
   "execution_count": 20
  },
  {
   "metadata": {
    "ExecuteTime": {
     "end_time": "2024-08-17T08:21:31.923526Z",
     "start_time": "2024-08-17T08:21:31.860528Z"
    }
   },
   "cell_type": "code",
   "source": [
    "loss, accuracy = model.evaluate(X_test, y_test)\n",
    "print(f\"Loss: , {loss:.2f}\")\n",
    "print(f\"Accuracy: , {accuracy:.2f}\")"
   ],
   "id": "a35f1687182f3011",
   "outputs": [
    {
     "name": "stdout",
     "output_type": "stream",
     "text": [
      "1/1 [==============================] - 0s 16ms/step - loss: 0.3308 - accuracy: 0.9333\n",
      "Loss: , 0.33\n",
      "Accuracy: , 0.93\n"
     ]
    }
   ],
   "execution_count": 32
  },
  {
   "metadata": {
    "ExecuteTime": {
     "end_time": "2024-08-17T08:27:32.705709Z",
     "start_time": "2024-08-17T08:27:32.652712Z"
    }
   },
   "cell_type": "code",
   "source": [
    "predictions = model.predict(X_test)\n",
    "print(np.round(predictions[:5], 3))"
   ],
   "id": "773496a7bccc4a0e",
   "outputs": [
    {
     "name": "stdout",
     "output_type": "stream",
     "text": [
      "1/1 [==============================] - 0s 15ms/step\n",
      "[[0.035 0.547 0.418]\n",
      " [0.975 0.002 0.023]\n",
      " [0.    0.21  0.789]\n",
      " [0.048 0.518 0.434]\n",
      " [0.008 0.466 0.526]]\n"
     ]
    }
   ],
   "execution_count": 62
  }
 ],
 "metadata": {
  "kernelspec": {
   "display_name": "Python 3",
   "language": "python",
   "name": "python3"
  },
  "language_info": {
   "codemirror_mode": {
    "name": "ipython",
    "version": 2
   },
   "file_extension": ".py",
   "mimetype": "text/x-python",
   "name": "python",
   "nbconvert_exporter": "python",
   "pygments_lexer": "ipython2",
   "version": "2.7.6"
  }
 },
 "nbformat": 4,
 "nbformat_minor": 5
}
