{
 "cells": [
  {
   "cell_type": "code",
   "id": "initial_id",
   "metadata": {
    "collapsed": true,
    "ExecuteTime": {
     "end_time": "2024-09-17T09:05:13.813195Z",
     "start_time": "2024-09-17T09:05:11.706079Z"
    }
   },
   "source": [
    "# Import required libraries\n",
    "import tensorflow as tf\n",
    "from tensorflow.keras.datasets import fashion_mnist\n",
    "from tensorflow import keras\n",
    "import pandas as pd\n",
    "import numpy as np \n",
    "import matplotlib\n",
    "from tensorflow.keras.preprocessing.image import ImageDataGenerator\n",
    "from tensorflow.keras.callbacks import EarlyStopping"
   ],
   "outputs": [],
   "execution_count": 1
  },
  {
   "metadata": {
    "ExecuteTime": {
     "end_time": "2024-09-17T08:55:54.193191Z",
     "start_time": "2024-09-17T08:55:54.180147Z"
    }
   },
   "cell_type": "code",
   "source": [
    "import os\n",
    "os.environ['KMP_DUPLICATE_LIB_OK'] = 'TRUE'"
   ],
   "id": "fceadacb440c2434",
   "outputs": [],
   "execution_count": 35
  },
  {
   "metadata": {
    "ExecuteTime": {
     "end_time": "2024-09-17T08:55:54.458182Z",
     "start_time": "2024-09-17T08:55:54.194184Z"
    }
   },
   "cell_type": "code",
   "source": [
    "# Loading data\n",
    "(train_images, train_labels), (test_images, test_labels) = fashion_mnist.load_data()"
   ],
   "id": "33f435091ffea0c3",
   "outputs": [],
   "execution_count": 36
  },
  {
   "metadata": {
    "ExecuteTime": {
     "end_time": "2024-09-17T08:55:54.585191Z",
     "start_time": "2024-09-17T08:55:54.459183Z"
    }
   },
   "cell_type": "code",
   "source": [
    "# Normalizing images\n",
    "train_images = train_images / 255.0\n",
    "test_images = test_images / 255.0"
   ],
   "id": "1242f73e41658fd",
   "outputs": [],
   "execution_count": 37
  },
  {
   "metadata": {
    "ExecuteTime": {
     "end_time": "2024-09-17T08:55:54.601301Z",
     "start_time": "2024-09-17T08:55:54.587184Z"
    }
   },
   "cell_type": "code",
   "source": [
    "# Reshape images to include the channel dimension\n",
    "train_images = np.expand_dims(train_images, axis=-1)\n",
    "test_images = np.expand_dims(test_images, axis=-1)"
   ],
   "id": "c77da62a9a022146",
   "outputs": [],
   "execution_count": 38
  },
  {
   "metadata": {
    "ExecuteTime": {
     "end_time": "2024-09-17T08:55:54.617306Z",
     "start_time": "2024-09-17T08:55:54.602296Z"
    }
   },
   "cell_type": "code",
   "source": [
    "# Define the data augmentation pipeline\n",
    "\n",
    "datagen = ImageDataGenerator(\n",
    "    rotation_range=20,\n",
    "    width_shift_range=0.2,\n",
    "    height_shift_range=0.2,\n",
    "    shear_range=0.2,\n",
    "    zoom_range=0.2,\n",
    "    horizontal_flip=True,\n",
    "    fill_mode='nearest'\n",
    ")"
   ],
   "id": "5fa9f7a26a8de8bf",
   "outputs": [],
   "execution_count": 39
  },
  {
   "metadata": {
    "ExecuteTime": {
     "end_time": "2024-09-17T08:55:54.665371Z",
     "start_time": "2024-09-17T08:55:54.618303Z"
    }
   },
   "cell_type": "code",
   "source": [
    "# Training NN model\n",
    "model = keras.Sequential([\n",
    "    keras.layers.Conv2D(32, kernel_size=(3, 3), activation='relu', input_shape=(28, 28, 1)),\n",
    "    keras.layers.MaxPooling2D(pool_size=(2, 2)),\n",
    "    keras.layers.Conv2D(64, kernel_size=(3, 3), activation='relu'),\n",
    "    keras.layers.MaxPooling2D(pool_size=(2, 2)),\n",
    "    keras.layers.Flatten(),\n",
    "    keras.layers.Dense(64, activation='relu'),\n",
    "    keras.layers.Dense(10, activation='softmax')\n",
    "])"
   ],
   "id": "157bf1636005cb4d",
   "outputs": [],
   "execution_count": 40
  },
  {
   "metadata": {
    "ExecuteTime": {
     "end_time": "2024-09-17T08:55:54.681137Z",
     "start_time": "2024-09-17T08:55:54.666300Z"
    }
   },
   "cell_type": "code",
   "source": [
    "# Compiling model with optimizer loss metrics\n",
    "model.compile(optimizer='adam', loss='sparse_categorical_crossentropy', metrics=['accuracy'])"
   ],
   "id": "40b14537c6192109",
   "outputs": [],
   "execution_count": 41
  },
  {
   "metadata": {
    "ExecuteTime": {
     "end_time": "2024-09-17T08:55:54.697197Z",
     "start_time": "2024-09-17T08:55:54.682144Z"
    }
   },
   "cell_type": "code",
   "source": [
    "# Define early stopping\n",
    "early_stopping = EarlyStopping(\n",
    "    monitor='val_loss',      \n",
    "    patience=3,               \n",
    "    restore_best_weights=True \n",
    ")"
   ],
   "id": "a852965b081321ad",
   "outputs": [],
   "execution_count": 42
  },
  {
   "metadata": {
    "ExecuteTime": {
     "end_time": "2024-09-17T09:00:37.582064Z",
     "start_time": "2024-09-17T08:55:54.699195Z"
    }
   },
   "cell_type": "code",
   "source": [
    "# Train the model\n",
    "history = model.fit(datagen.flow(train_images, train_labels, batch_size=32), validation_data=(test_images, test_labels), epochs=30, callbacks=[early_stopping])"
   ],
   "id": "a48bc9239a71ae68",
   "outputs": [
    {
     "name": "stdout",
     "output_type": "stream",
     "text": [
      "Epoch 1/30\n",
      "1875/1875 [==============================] - 22s 12ms/step - loss: 0.9254 - accuracy: 0.6585 - val_loss: 0.6107 - val_accuracy: 0.7672\n",
      "Epoch 2/30\n",
      "1875/1875 [==============================] - 19s 10ms/step - loss: 0.6826 - accuracy: 0.7444 - val_loss: 0.5158 - val_accuracy: 0.8044\n",
      "Epoch 3/30\n",
      "1875/1875 [==============================] - 17s 9ms/step - loss: 0.6159 - accuracy: 0.7707 - val_loss: 0.5592 - val_accuracy: 0.7893\n",
      "Epoch 4/30\n",
      "1875/1875 [==============================] - 18s 10ms/step - loss: 0.5731 - accuracy: 0.7869 - val_loss: 0.4652 - val_accuracy: 0.8312\n",
      "Epoch 5/30\n",
      "1875/1875 [==============================] - 18s 10ms/step - loss: 0.5405 - accuracy: 0.8002 - val_loss: 0.4743 - val_accuracy: 0.8273\n",
      "Epoch 6/30\n",
      "1875/1875 [==============================] - 20s 11ms/step - loss: 0.5211 - accuracy: 0.8079 - val_loss: 0.4442 - val_accuracy: 0.8357\n",
      "Epoch 7/30\n",
      "1875/1875 [==============================] - 19s 10ms/step - loss: 0.4960 - accuracy: 0.8161 - val_loss: 0.4609 - val_accuracy: 0.8316\n",
      "Epoch 8/30\n",
      "1875/1875 [==============================] - 19s 10ms/step - loss: 0.4854 - accuracy: 0.8204 - val_loss: 0.4224 - val_accuracy: 0.8454\n",
      "Epoch 9/30\n",
      "1875/1875 [==============================] - 17s 9ms/step - loss: 0.4738 - accuracy: 0.8241 - val_loss: 0.4236 - val_accuracy: 0.8492\n",
      "Epoch 10/30\n",
      "1875/1875 [==============================] - 18s 10ms/step - loss: 0.4640 - accuracy: 0.8280 - val_loss: 0.4381 - val_accuracy: 0.8383\n",
      "Epoch 11/30\n",
      "1875/1875 [==============================] - 19s 10ms/step - loss: 0.4586 - accuracy: 0.8300 - val_loss: 0.4161 - val_accuracy: 0.8498\n",
      "Epoch 12/30\n",
      "1875/1875 [==============================] - 20s 11ms/step - loss: 0.4504 - accuracy: 0.8323 - val_loss: 0.4021 - val_accuracy: 0.8559\n",
      "Epoch 13/30\n",
      "1875/1875 [==============================] - 19s 10ms/step - loss: 0.4400 - accuracy: 0.8365 - val_loss: 0.4330 - val_accuracy: 0.8438\n",
      "Epoch 14/30\n",
      "1875/1875 [==============================] - 19s 10ms/step - loss: 0.4370 - accuracy: 0.8364 - val_loss: 0.4275 - val_accuracy: 0.8411\n",
      "Epoch 15/30\n",
      "1875/1875 [==============================] - 18s 10ms/step - loss: 0.4358 - accuracy: 0.8394 - val_loss: 0.4607 - val_accuracy: 0.8393\n"
     ]
    }
   ],
   "execution_count": 43
  },
  {
   "metadata": {
    "ExecuteTime": {
     "end_time": "2024-09-17T09:00:38.300064Z",
     "start_time": "2024-09-17T09:00:37.583064Z"
    }
   },
   "cell_type": "code",
   "source": [
    "# Evaluate the model on test data\n",
    "test_loss, test_acc = model.evaluate(test_images, test_labels, verbose=2)\n",
    "print(f'Test accuracy:, {test_acc:.2f}')\n",
    "print(f'Test loss:, {test_loss:.2f}')"
   ],
   "id": "7f24402d314b6ccf",
   "outputs": [
    {
     "name": "stdout",
     "output_type": "stream",
     "text": [
      "313/313 - 1s - loss: 0.4021 - accuracy: 0.8559 - 654ms/epoch - 2ms/step\n",
      "Test accuracy:, 0.86\n",
      "Test loss:, 0.40\n"
     ]
    }
   ],
   "execution_count": 44
  }
 ],
 "metadata": {
  "kernelspec": {
   "display_name": "Python 3",
   "language": "python",
   "name": "python3"
  },
  "language_info": {
   "codemirror_mode": {
    "name": "ipython",
    "version": 2
   },
   "file_extension": ".py",
   "mimetype": "text/x-python",
   "name": "python",
   "nbconvert_exporter": "python",
   "pygments_lexer": "ipython2",
   "version": "2.7.6"
  }
 },
 "nbformat": 4,
 "nbformat_minor": 5
}
