{
 "cells": [
  {
   "cell_type": "code",
   "id": "initial_id",
   "metadata": {
    "collapsed": true,
    "ExecuteTime": {
     "end_time": "2024-09-18T08:10:34.616386Z",
     "start_time": "2024-09-18T08:10:31.976240Z"
    }
   },
   "source": [
    "# Import libraries\n",
    "import tensorflow as tf\n",
    "import pandas as pd\n",
    "import numpy as np\n",
    "import matplotlib.pyplot as plt\n",
    "from sklearn.model_selection import train_test_split"
   ],
   "outputs": [],
   "execution_count": 2
  },
  {
   "metadata": {
    "ExecuteTime": {
     "end_time": "2024-09-18T08:10:36.203414Z",
     "start_time": "2024-09-18T08:10:34.618408Z"
    }
   },
   "cell_type": "code",
   "source": [
    "# Loading data\n",
    "train_data = pd.read_csv('train.csv')\n",
    "test_data = pd.read_csv('test.csv')"
   ],
   "id": "1781d3af8a78d49",
   "outputs": [],
   "execution_count": 3
  },
  {
   "metadata": {
    "ExecuteTime": {
     "end_time": "2024-09-18T08:10:36.218415Z",
     "start_time": "2024-09-18T08:10:36.204407Z"
    }
   },
   "cell_type": "code",
   "source": "train_data.shape , test_data.shape",
   "id": "96c1d41c5ee13578",
   "outputs": [
    {
     "data": {
      "text/plain": [
       "((42000, 785), (28000, 784))"
      ]
     },
     "execution_count": 4,
     "metadata": {},
     "output_type": "execute_result"
    }
   ],
   "execution_count": 4
  },
  {
   "metadata": {
    "ExecuteTime": {
     "end_time": "2024-09-18T08:10:36.295651Z",
     "start_time": "2024-09-18T08:10:36.219410Z"
    }
   },
   "cell_type": "code",
   "source": [
    "# Separate labels and features\n",
    "X = train_data.drop(columns=['label'], axis=1)\n",
    "y = train_data['label']"
   ],
   "id": "818e865744713a47",
   "outputs": [],
   "execution_count": 5
  },
  {
   "metadata": {
    "ExecuteTime": {
     "end_time": "2024-09-18T08:10:36.482663Z",
     "start_time": "2024-09-18T08:10:36.297657Z"
    }
   },
   "cell_type": "code",
   "source": [
    "# Normalize features\n",
    "X = X.astype('float32') / 255.0\n",
    "\n",
    "test_data = test_data.astype('float32') / 255.0"
   ],
   "id": "d2a6c80cc28b3174",
   "outputs": [],
   "execution_count": 6
  },
  {
   "metadata": {
    "ExecuteTime": {
     "end_time": "2024-09-18T08:10:36.619833Z",
     "start_time": "2024-09-18T08:10:36.483657Z"
    }
   },
   "cell_type": "code",
   "source": [
    "# Splitting data \n",
    "X_train, X_test, y_train, y_test = train_test_split(X, y, test_size=0.2, random_state=2)"
   ],
   "id": "5cce364a7a09f6be",
   "outputs": [],
   "execution_count": 7
  },
  {
   "metadata": {
    "ExecuteTime": {
     "end_time": "2024-09-18T08:10:36.634755Z",
     "start_time": "2024-09-18T08:10:36.621758Z"
    }
   },
   "cell_type": "code",
   "source": [
    "# Convert dataframes to numpy arrays\n",
    "X_train = X_train.values\n",
    "X_test = X_test.values\n",
    "y_train = y_train.values\n",
    "y_test = y_test.values\n",
    "test_data = test_data.values"
   ],
   "id": "b096e8bf12462fff",
   "outputs": [],
   "execution_count": 8
  },
  {
   "metadata": {
    "ExecuteTime": {
     "end_time": "2024-09-18T08:10:36.649754Z",
     "start_time": "2024-09-18T08:10:36.635756Z"
    }
   },
   "cell_type": "code",
   "source": [
    "# Reshape numpy arrays for 2D format 28x28\n",
    "\n",
    "X_train = X_train.reshape(-1, 28, 28, 1)\n",
    "X_test = X_test.reshape(-1, 28, 28, 1)\n",
    "\n",
    "test_data = test_data.reshape(-1, 28, 28, 1)"
   ],
   "id": "afd83f52e8a793a",
   "outputs": [],
   "execution_count": 9
  },
  {
   "metadata": {
    "ExecuteTime": {
     "end_time": "2024-09-18T08:10:36.771760Z",
     "start_time": "2024-09-18T08:10:36.651755Z"
    }
   },
   "cell_type": "code",
   "source": [
    "# Visualising data and labels\n",
    "plt.imshow(X_train[3], cmap='gray')\n",
    "plt.title(y_train[3])\n",
    "plt.axis('off')\n",
    "plt.show()"
   ],
   "id": "3bad67caf463b6b0",
   "outputs": [
    {
     "data": {
      "text/plain": [
       "<Figure size 640x480 with 1 Axes>"
      ],
      "image/png": "[encoded data removed]"
     },
     "metadata": {},
     "output_type": "display_data"
    }
   ],
   "execution_count": 10
  },
  {
   "metadata": {
    "ExecuteTime": {
     "end_time": "2024-09-18T08:10:36.787809Z",
     "start_time": "2024-09-18T08:10:36.772755Z"
    }
   },
   "cell_type": "code",
   "source": [
    "# Import libraries\n",
    "from tensorflow.keras.models import Sequential\n",
    "from tensorflow.keras.layers import Dense, Flatten, Conv2D, MaxPooling2D, Dropout, BatchNormalization\n",
    "from tensorflow.keras.utils import to_categorical\n",
    "from sklearn.metrics import accuracy_score"
   ],
   "id": "59e209b80af8eba8",
   "outputs": [],
   "execution_count": 11
  },
  {
   "metadata": {
    "ExecuteTime": {
     "end_time": "2024-09-18T08:10:36.803803Z",
     "start_time": "2024-09-18T08:10:36.789803Z"
    }
   },
   "cell_type": "code",
   "source": [
    "# One hot encoding for labels\n",
    "Y_train_cat = to_categorical(y_train)\n",
    "Y_test_cat = to_categorical(y_test)"
   ],
   "id": "691974a2f2467d8c",
   "outputs": [],
   "execution_count": 12
  },
  {
   "metadata": {
    "ExecuteTime": {
     "end_time": "2024-09-18T08:10:36.930809Z",
     "start_time": "2024-09-18T08:10:36.804803Z"
    }
   },
   "cell_type": "code",
   "source": [
    "# Define Convolutional NN \n",
    "model = Sequential([\n",
    "    Conv2D(32, (3, 3), activation='relu', input_shape=(28, 28, 1)),\n",
    "    BatchNormalization(),\n",
    "    MaxPooling2D(pool_size=(2, 2)),\n",
    "    \n",
    "    Conv2D(64, (3, 3), activation='relu'),\n",
    "    BatchNormalization(),\n",
    "    MaxPooling2D(pool_size=(2, 2)),\n",
    "    \n",
    "    Conv2D(64, (3, 3), activation='relu'),\n",
    "    BatchNormalization(),\n",
    "    \n",
    "    Flatten(),\n",
    "    \n",
    "    Dense(64, activation='relu'),\n",
    "    Dropout(0.5),\n",
    "    Dense(10, activation='softmax')\n",
    "])\n"
   ],
   "id": "409f03caaddff7f9",
   "outputs": [],
   "execution_count": 13
  },
  {
   "metadata": {
    "ExecuteTime": {
     "end_time": "2024-09-18T08:10:36.945802Z",
     "start_time": "2024-09-18T08:10:36.931803Z"
    }
   },
   "cell_type": "code",
   "source": [
    "# Compiling model\n",
    "model.compile(optimizer='adam', loss='categorical_crossentropy', metrics=['accuracy'])"
   ],
   "id": "730c620e378526ee",
   "outputs": [],
   "execution_count": 14
  },
  {
   "metadata": {
    "ExecuteTime": {
     "end_time": "2024-09-18T08:11:30.753802Z",
     "start_time": "2024-09-18T08:10:36.947803Z"
    }
   },
   "cell_type": "code",
   "source": [
    "# Training the model\n",
    "history = model.fit(\n",
    "    X_train, Y_train_cat,\n",
    "    epochs=10,\n",
    "    batch_size=32,\n",
    "    validation_split=0.2,\n",
    "    verbose = 1,\n",
    ")"
   ],
   "id": "39b019e63b57fe85",
   "outputs": [
    {
     "name": "stdout",
     "output_type": "stream",
     "text": [
      "Epoch 1/10\n",
      "840/840 [==============================] - 6s 6ms/step - loss: 0.2742 - accuracy: 0.9157 - val_loss: 0.0641 - val_accuracy: 0.9795\n",
      "Epoch 2/10\n",
      "840/840 [==============================] - 5s 6ms/step - loss: 0.1006 - accuracy: 0.9708 - val_loss: 0.0613 - val_accuracy: 0.9804\n",
      "Epoch 3/10\n",
      "840/840 [==============================] - 5s 6ms/step - loss: 0.0788 - accuracy: 0.9775 - val_loss: 0.0612 - val_accuracy: 0.9835\n",
      "Epoch 4/10\n",
      "840/840 [==============================] - 5s 6ms/step - loss: 0.0622 - accuracy: 0.9808 - val_loss: 0.0446 - val_accuracy: 0.9876\n",
      "Epoch 5/10\n",
      "840/840 [==============================] - 5s 6ms/step - loss: 0.0565 - accuracy: 0.9832 - val_loss: 0.0490 - val_accuracy: 0.9868\n",
      "Epoch 6/10\n",
      "840/840 [==============================] - 5s 6ms/step - loss: 0.0452 - accuracy: 0.9859 - val_loss: 0.0474 - val_accuracy: 0.9866\n",
      "Epoch 7/10\n",
      "840/840 [==============================] - 5s 6ms/step - loss: 0.0419 - accuracy: 0.9872 - val_loss: 0.0756 - val_accuracy: 0.9807\n",
      "Epoch 8/10\n",
      "840/840 [==============================] - 5s 6ms/step - loss: 0.0381 - accuracy: 0.9881 - val_loss: 0.0486 - val_accuracy: 0.9890\n",
      "Epoch 9/10\n",
      "840/840 [==============================] - 7s 8ms/step - loss: 0.0343 - accuracy: 0.9895 - val_loss: 0.0517 - val_accuracy: 0.9863\n",
      "Epoch 10/10\n",
      "840/840 [==============================] - 5s 6ms/step - loss: 0.0295 - accuracy: 0.9908 - val_loss: 0.0479 - val_accuracy: 0.9887\n"
     ]
    }
   ],
   "execution_count": 15
  },
  {
   "metadata": {
    "ExecuteTime": {
     "end_time": "2024-09-18T08:11:31.998803Z",
     "start_time": "2024-09-18T08:11:30.754803Z"
    }
   },
   "cell_type": "code",
   "source": [
    "# Evaluating model\n",
    "test_loss, test_accuracy = model.evaluate(X_test, Y_test_cat, verbose=2)\n",
    "print(f'Test accuracy:, {test_accuracy:.2f}')"
   ],
   "id": "2b4cc6531639604f",
   "outputs": [
    {
     "name": "stdout",
     "output_type": "stream",
     "text": [
      "263/263 - 1s - loss: 0.0453 - accuracy: 0.9898 - 1s/epoch - 4ms/step\n",
      "Test accuracy:, 0.99\n"
     ]
    }
   ],
   "execution_count": 16
  },
  {
   "metadata": {
    "ExecuteTime": {
     "end_time": "2024-09-18T08:12:18.097806Z",
     "start_time": "2024-09-18T08:11:32.000803Z"
    }
   },
   "cell_type": "code",
   "source": [
    "# Predictions for test_data\n",
    "\n",
    "predictions = model.predict(test_data)\n",
    "predicted_labels = np.argmax(predictions, axis=1)"
   ],
   "id": "dd8b54427745c480",
   "outputs": [
    {
     "name": "stdout",
     "output_type": "stream",
     "text": [
      "875/875 [==============================] - 46s 52ms/step\n"
     ]
    }
   ],
   "execution_count": 17
  }
 ],
 "metadata": {
  "kernelspec": {
   "display_name": "Python 3",
   "language": "python",
   "name": "python3"
  },
  "language_info": {
   "codemirror_mode": {
    "name": "ipython",
    "version": 2
   },
   "file_extension": ".py",
   "mimetype": "text/x-python",
   "name": "python",
   "nbconvert_exporter": "python",
   "pygments_lexer": "ipython2",
   "version": "2.7.6"
  }
 },
 "nbformat": 4,
 "nbformat_minor": 5
}
