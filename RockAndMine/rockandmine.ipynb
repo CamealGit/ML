{
 "cells": [
  {
   "cell_type": "code",
   "id": "initial_id",
   "metadata": {
    "collapsed": true,
    "ExecuteTime": {
     "end_time": "2024-08-22T12:34:53.675320Z",
     "start_time": "2024-08-22T12:34:53.669319Z"
    }
   },
   "source": [
    "import pandas as pd\n",
    "from sklearn.model_selection import train_test_split\n",
    "from sklearn.linear_model import LogisticRegression\n",
    "from sklearn.neighbors import KNeighborsClassifier\n",
    "from sklearn.ensemble import RandomForestClassifier\n",
    "from sklearn.metrics import accuracy_score\n",
    "import numpy as np\n",
    "from sklearn.tree import DecisionTreeClassifier"
   ],
   "execution_count": 117,
   "outputs": []
  },
  {
   "metadata": {
    "ExecuteTime": {
     "end_time": "2024-08-22T12:34:53.691322Z",
     "start_time": "2024-08-22T12:34:53.677318Z"
    }
   },
   "cell_type": "code",
   "source": [
    "# Importing data\n",
    "sonar_data = pd.read_csv('sonardata.csv')\n",
    "print(sonar_data.head())\n",
    "\n"
   ],
   "id": "5362b273ebc2dd88",
   "execution_count": 118,
   "outputs": []
  },
  {
   "metadata": {
    "ExecuteTime": {
     "end_time": "2024-08-22T12:34:53.707320Z",
     "start_time": "2024-08-22T12:34:53.692323Z"
    }
   },
   "cell_type": "code",
   "source": "sonar_data.columns",
   "id": "fbe5c89b578795dd",
   "execution_count": 119,
   "outputs": []
  },
  {
   "metadata": {
    "ExecuteTime": {
     "end_time": "2024-08-22T12:34:53.723323Z",
     "start_time": "2024-08-22T12:34:53.708320Z"
    }
   },
   "cell_type": "code",
   "source": [
    "# Splitting data\n",
    "\n",
    "X = sonar_data.drop(columns='R', axis=1)\n",
    "Y = sonar_data['R']"
   ],
   "id": "ad271ed29f72d58d",
   "execution_count": 120,
   "outputs": []
  },
  {
   "metadata": {
    "ExecuteTime": {
     "end_time": "2024-08-22T12:34:53.739321Z",
     "start_time": "2024-08-22T12:34:53.726322Z"
    }
   },
   "cell_type": "code",
   "source": "X_train, X_test, Y_train, Y_test = train_test_split(X, Y, test_size=0.2, random_state=11)",
   "id": "b39085ae05db33fa",
   "execution_count": 121,
   "outputs": []
  },
  {
   "metadata": {
    "ExecuteTime": {
     "end_time": "2024-08-22T12:34:56.998907Z",
     "start_time": "2024-08-22T12:34:56.866902Z"
    }
   },
   "cell_type": "code",
   "source": [
    "# Fitting models\n",
    "\n",
    "model = LogisticRegression(max_iter=1000)\n",
    "model_knn = KNeighborsClassifier(n_neighbors=5)\n",
    "model_tree = RandomForestClassifier(n_estimators=100)\n",
    "\n",
    "model.fit(X_train, Y_train)\n",
    "model_knn.fit(X_train, Y_train)\n",
    "model_tree.fit(X_train, Y_train)"
   ],
   "id": "d85b77451ce98fb6",
   "execution_count": 128,
   "outputs": []
  },
  {
   "metadata": {
    "ExecuteTime": {
     "end_time": "2024-08-22T12:34:58.528310Z",
     "start_time": "2024-08-22T12:34:58.500276Z"
    }
   },
   "cell_type": "code",
   "source": [
    "# Predictions\n",
    "\n",
    "y_pred = model.predict(X_test)\n",
    "y_pred_knn = model_knn.predict(X_test)\n",
    "y_pred_tree = model_tree.predict(X_test)"
   ],
   "id": "c906221cd70e28c1",
   "execution_count": 129,
   "outputs": []
  },
  {
   "metadata": {
    "ExecuteTime": {
     "end_time": "2024-08-22T12:35:01.470480Z",
     "start_time": "2024-08-22T12:35:01.450482Z"
    }
   },
   "cell_type": "code",
   "source": [
    "# Accuracy\n",
    "\n",
    "accuracy = accuracy_score(Y_test, y_pred)\n",
    "accuracy_knn = accuracy_score(Y_test, y_pred_knn)\n",
    "accuracy_tree = accuracy_score(Y_test, y_pred_tree)\n",
    "print(f\"{accuracy:.2f}\")\n",
    "print(f\"{accuracy_knn:.2f}\")\n",
    "print(f\"{accuracy_tree:.2f}\")"
   ],
   "id": "df7a857f3610ed33",
   "execution_count": 131,
   "outputs": []
  },
  {
   "metadata": {
    "ExecuteTime": {
     "end_time": "2024-08-22T12:36:18.247942Z",
     "start_time": "2024-08-22T12:36:18.228944Z"
    }
   },
   "cell_type": "code",
   "source": [
    "#Test\n",
    "\n",
    "input_data =  (0.0352,0.0116,0.0191,0.0469,0.0737,0.1185,0.1683,0.1541,0.1466,0.2912,0.2328,0.2237,0.2470,0.1560,0.3491,0.3308,0.2299,0.2203,0.2493,0.4128,0.3158,0.6191,0.5854,0.3395,0.2561,0.5599,0.8145,0.6941,0.6985,0.8660,0.5930,0.3664,0.6750,0.8697,0.7837,0.7552,0.5789,0.4713,0.1252,0.6087,0.7322,0.5977,0.3431,0.1803,0.2378,0.3424,0.2303,0.0689,0.0216,0.0469,0.0426,0.0346,0.0158,0.0154,0.0109,0.0048,0.0095,0.0015,0.0073,0.0067)"
   ],
   "id": "61d8f15b862332b0",
   "execution_count": 132,
   "outputs": []
  },
  {
   "metadata": {
    "ExecuteTime": {
     "end_time": "2024-08-22T12:37:04.506725Z",
     "start_time": "2024-08-22T12:37:04.489767Z"
    }
   },
   "cell_type": "code",
   "source": [
    "input_data_df = pd.DataFrame([input_data], columns=X.columns)\n",
    "predictions = model.predict(input_data_df)\n",
    "predictions_knn = model_knn.predict(input_data_df)\n",
    "predictions_tree = model_tree.predict(input_data_df)"
   ],
   "id": "5eee104fde0940d",
   "execution_count": 136,
   "outputs": []
  },
  {
   "metadata": {
    "ExecuteTime": {
     "end_time": "2024-08-22T12:37:05.347844Z",
     "start_time": "2024-08-22T12:37:05.340842Z"
    }
   },
   "cell_type": "code",
   "source": [
    "print(predictions)\n",
    "print(predictions_knn)\n",
    "print(predictions_tree)\n",
    "if predictions == \"R\":\n",
    "    print(\"Its a Rock\")\n",
    "else: \n",
    "    print(\"Its a Mine\")"
   ],
   "id": "db04000ccf43fd0c",
   "execution_count": 137,
   "outputs": []
  }
 ],
 "metadata": {
  "kernelspec": {
   "display_name": "Python 3",
   "language": "python",
   "name": "python3"
  },
  "language_info": {
   "codemirror_mode": {
    "name": "ipython",
    "version": 2
   },
   "file_extension": ".py",
   "mimetype": "text/x-python",
   "name": "python",
   "nbconvert_exporter": "python",
   "pygments_lexer": "ipython2",
   "version": "2.7.6"
  }
 },
 "nbformat": 4,
 "nbformat_minor": 5
}
