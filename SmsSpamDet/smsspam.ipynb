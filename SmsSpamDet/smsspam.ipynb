{
 "cells": [
  {
   "cell_type": "code",
   "id": "initial_id",
   "metadata": {
    "collapsed": true,
    "ExecuteTime": {
     "end_time": "2024-09-20T09:02:28.671182Z",
     "start_time": "2024-09-20T09:02:28.665182Z"
    }
   },
   "source": [
    "import pandas as pd\n",
    "import re\n",
    "import nltk\n",
    "from nltk.tokenize import word_tokenize\n",
    "from nltk.corpus import stopwords\n",
    "from collections import Counter"
   ],
   "execution_count": 199,
   "outputs": []
  },
  {
   "metadata": {
    "ExecuteTime": {
     "end_time": "2024-09-20T09:02:28.687181Z",
     "start_time": "2024-09-20T09:02:28.673186Z"
    }
   },
   "cell_type": "code",
   "source": [
    "nltk.download('punkt_tab')\n",
    "nltk.download('stopwords')\n",
    "\n",
    "stop_words = set(stopwords.words('english'))"
   ],
   "id": "b03e9c7b7fef682c",
   "execution_count": 200,
   "outputs": []
  },
  {
   "metadata": {
    "ExecuteTime": {
     "end_time": "2024-09-20T09:02:28.703182Z",
     "start_time": "2024-09-20T09:02:28.689183Z"
    }
   },
   "cell_type": "code",
   "source": [
    "# Loading data and change column names\n",
    "data = pd.read_csv('spam.csv', encoding='ISO-8859-1', usecols=['v1', 'v2'])\n",
    "data.columns = ['label', 'message']"
   ],
   "id": "c48a514ecd48ff7b",
   "execution_count": 201,
   "outputs": []
  },
  {
   "metadata": {
    "ExecuteTime": {
     "end_time": "2024-09-20T09:02:28.719183Z",
     "start_time": "2024-09-20T09:02:28.704183Z"
    }
   },
   "cell_type": "code",
   "source": "data ",
   "id": "838eb875988c8120",
   "execution_count": 202,
   "outputs": []
  },
  {
   "metadata": {
    "ExecuteTime": {
     "end_time": "2024-09-20T09:02:28.750181Z",
     "start_time": "2024-09-20T09:02:28.721183Z"
    }
   },
   "cell_type": "code",
   "source": [
    "# Cleaning text function\n",
    "def clean_text(text):\n",
    "    text = text.lower()\n",
    "    text = re.sub(r'\\d+', '', text)\n",
    "    text = re.sub(r'[^\\w\\s]', '', text)\n",
    "    text = text.strip()\n",
    "    return text\n",
    "\n",
    "data['message'] = data['message'].apply(clean_text)"
   ],
   "id": "8c919526850c3160",
   "execution_count": 203,
   "outputs": []
  },
  {
   "metadata": {
    "ExecuteTime": {
     "end_time": "2024-09-20T09:02:29.101189Z",
     "start_time": "2024-09-20T09:02:28.752183Z"
    }
   },
   "cell_type": "code",
   "source": "data['tokens'] = data['message'].apply(word_tokenize)",
   "id": "325e05e1d8418dc7",
   "execution_count": 204,
   "outputs": []
  },
  {
   "metadata": {
    "ExecuteTime": {
     "end_time": "2024-09-20T09:02:29.117181Z",
     "start_time": "2024-09-20T09:02:29.102183Z"
    }
   },
   "cell_type": "code",
   "source": "data['filtered_tokens'] = data['tokens'].apply(lambda x: [word for word in x if word not in stop_words])",
   "id": "96dbfb46fe0bd97",
   "execution_count": 205,
   "outputs": []
  },
  {
   "metadata": {
    "ExecuteTime": {
     "end_time": "2024-09-20T09:02:29.133187Z",
     "start_time": "2024-09-20T09:02:29.118182Z"
    }
   },
   "cell_type": "code",
   "source": [
    "all_words = [word for tokens in data['filtered_tokens'] for word in tokens]\n",
    "word_counts = Counter(all_words)"
   ],
   "id": "186b76638dc28f0a",
   "execution_count": 206,
   "outputs": []
  },
  {
   "metadata": {
    "ExecuteTime": {
     "end_time": "2024-09-20T09:02:29.149183Z",
     "start_time": "2024-09-20T09:02:29.134182Z"
    }
   },
   "cell_type": "code",
   "source": "print(word_counts.most_common(10))",
   "id": "58a0c071dd142938",
   "execution_count": 207,
   "outputs": []
  },
  {
   "metadata": {
    "ExecuteTime": {
     "end_time": "2024-09-20T09:02:29.165203Z",
     "start_time": "2024-09-20T09:02:29.150182Z"
    }
   },
   "cell_type": "code",
   "source": [
    "from sklearn.feature_extraction.text import CountVectorizer\n",
    "from sklearn.model_selection import train_test_split\n",
    "from sklearn.naive_bayes import MultinomialNB\n",
    "from sklearn.metrics import classification_report, accuracy_score"
   ],
   "id": "63858fe9b7a00c08",
   "execution_count": 208,
   "outputs": []
  },
  {
   "metadata": {
    "ExecuteTime": {
     "end_time": "2024-09-20T09:02:29.213288Z",
     "start_time": "2024-09-20T09:02:29.166212Z"
    }
   },
   "cell_type": "code",
   "source": [
    "vectorizer = CountVectorizer(tokenizer = lambda x: x, preprocessor = lambda x: x)\n",
    "X = vectorizer.fit_transform(data['filtered_tokens'])\n",
    "y = data['label']"
   ],
   "id": "a6b6a1a71cb0bacc",
   "execution_count": 209,
   "outputs": []
  },
  {
   "metadata": {
    "ExecuteTime": {
     "end_time": "2024-09-20T09:02:29.229289Z",
     "start_time": "2024-09-20T09:02:29.214290Z"
    }
   },
   "cell_type": "code",
   "source": "X_train, X_test, y_train, y_test = train_test_split(X, y, test_size=0.2, random_state=2)",
   "id": "828a0b5b7155e51e",
   "execution_count": 210,
   "outputs": []
  },
  {
   "metadata": {
    "ExecuteTime": {
     "end_time": "2024-09-20T09:02:29.245289Z",
     "start_time": "2024-09-20T09:02:29.230289Z"
    }
   },
   "cell_type": "code",
   "source": [
    "model = MultinomialNB()\n",
    "model.fit(X_train, y_train)"
   ],
   "id": "8576019d6707ee4e",
   "execution_count": 211,
   "outputs": []
  },
  {
   "metadata": {
    "ExecuteTime": {
     "end_time": "2024-09-20T09:02:29.261289Z",
     "start_time": "2024-09-20T09:02:29.246289Z"
    }
   },
   "cell_type": "code",
   "source": "y_pred = model.predict(X_test)",
   "id": "87fbbc10b467f6dd",
   "execution_count": 212,
   "outputs": []
  },
  {
   "metadata": {
    "ExecuteTime": {
     "end_time": "2024-09-20T09:02:29.293291Z",
     "start_time": "2024-09-20T09:02:29.264291Z"
    }
   },
   "cell_type": "code",
   "source": [
    "accuracy = accuracy_score(y_test, y_pred)\n",
    "report = classification_report(y_test, y_pred)"
   ],
   "id": "905d3a80c7005efc",
   "execution_count": 213,
   "outputs": []
  },
  {
   "metadata": {
    "ExecuteTime": {
     "end_time": "2024-09-20T09:02:29.308291Z",
     "start_time": "2024-09-20T09:02:29.295289Z"
    }
   },
   "cell_type": "code",
   "source": [
    "print(f'Accuracy: {accuracy:.2f}')\n",
    "print(f'Report: {report}')"
   ],
   "id": "9a26da2536b15a5c",
   "execution_count": 214,
   "outputs": []
  }
 ],
 "metadata": {
  "kernelspec": {
   "display_name": "Python 3",
   "language": "python",
   "name": "python3"
  },
  "language_info": {
   "codemirror_mode": {
    "name": "ipython",
    "version": 2
   },
   "file_extension": ".py",
   "mimetype": "text/x-python",
   "name": "python",
   "nbconvert_exporter": "python",
   "pygments_lexer": "ipython2",
   "version": "2.7.6"
  }
 },
 "nbformat": 4,
 "nbformat_minor": 5
}
