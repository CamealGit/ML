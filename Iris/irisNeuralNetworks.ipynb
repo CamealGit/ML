{
 "cells": [
  {
   "cell_type": "code",
   "id": "initial_id",
   "metadata": {
    "collapsed": true,
    "ExecuteTime": {
     "end_time": "2024-08-22T12:54:29.658998Z",
     "start_time": "2024-08-22T12:54:29.652998Z"
    }
   },
   "source": [
    "from sklearn.datasets import load_iris\n",
    "import pandas as pd\n",
    "from sklearn.preprocessing import StandardScaler\n",
    "from sklearn.model_selection import train_test_split\n",
    "from tensorflow.keras.utils import to_categorical\n",
    "from tensorflow.keras.models import Sequential\n",
    "from tensorflow.keras.layers import Dense\n",
    "import numpy as np"
   ],
   "outputs": [],
   "execution_count": 21
  },
  {
   "metadata": {
    "ExecuteTime": {
     "end_time": "2024-08-22T12:54:29.673998Z",
     "start_time": "2024-08-22T12:54:29.662001Z"
    }
   },
   "cell_type": "code",
   "source": [
    "iris = load_iris()\n",
    "\n",
    "X = iris.data\n",
    "y = iris.target\n",
    "\n",
    "y = to_categorical(y)"
   ],
   "id": "b84b67fabf9bdd30",
   "outputs": [],
   "execution_count": 22
  },
  {
   "metadata": {
    "ExecuteTime": {
     "end_time": "2024-08-22T12:54:29.688999Z",
     "start_time": "2024-08-22T12:54:29.674998Z"
    }
   },
   "cell_type": "code",
   "source": "X_train, X_test, y_train, y_test = train_test_split(X, y, test_size=0.2, random_state=42)",
   "id": "e53a863217841715",
   "outputs": [],
   "execution_count": 23
  },
  {
   "metadata": {
    "ExecuteTime": {
     "end_time": "2024-08-22T12:54:29.703999Z",
     "start_time": "2024-08-22T12:54:29.690999Z"
    }
   },
   "cell_type": "code",
   "source": "scaler = StandardScaler()",
   "id": "ec077eabbb836c8d",
   "outputs": [],
   "execution_count": 24
  },
  {
   "metadata": {
    "ExecuteTime": {
     "end_time": "2024-08-22T12:54:29.718998Z",
     "start_time": "2024-08-22T12:54:29.706999Z"
    }
   },
   "cell_type": "code",
   "source": [
    "X_train = scaler.fit_transform(X_train)\n",
    "X_test = scaler.transform(X_test)"
   ],
   "id": "43344c4dde5cbce2",
   "outputs": [],
   "execution_count": 25
  },
  {
   "metadata": {
    "ExecuteTime": {
     "end_time": "2024-08-22T12:54:29.749071Z",
     "start_time": "2024-08-22T12:54:29.721001Z"
    }
   },
   "cell_type": "code",
   "source": [
    "model = Sequential()\n",
    "model.add(Dense(10, input_shape=(4,), activation='relu'))\n",
    "model.add(Dense(10, activation='relu'))\n",
    "model.add(Dense(3, activation='softmax'))"
   ],
   "id": "644d096f96999d48",
   "outputs": [],
   "execution_count": 26
  },
  {
   "metadata": {
    "ExecuteTime": {
     "end_time": "2024-08-22T12:54:29.764998Z",
     "start_time": "2024-08-22T12:54:29.750024Z"
    }
   },
   "cell_type": "code",
   "source": "model.compile(loss='categorical_crossentropy', optimizer='adam', metrics=['accuracy'])",
   "id": "76bd96a3e7191ef5",
   "outputs": [],
   "execution_count": 27
  },
  {
   "metadata": {
    "ExecuteTime": {
     "end_time": "2024-08-22T12:54:31.202997Z",
     "start_time": "2024-08-22T12:54:29.765999Z"
    }
   },
   "cell_type": "code",
   "source": "model.fit(X_train, y_train, epochs=20, batch_size=5, validation_split=0.2)",
   "id": "3e504170f671861f",
   "outputs": [
    {
     "name": "stdout",
     "output_type": "stream",
     "text": [
      "Epoch 1/20\n",
      "20/20 [==============================] - 0s 11ms/step - loss: 1.0113 - accuracy: 0.3854 - val_loss: 1.0100 - val_accuracy: 0.5000\n",
      "Epoch 2/20\n",
      "20/20 [==============================] - 0s 2ms/step - loss: 0.9358 - accuracy: 0.5312 - val_loss: 0.9470 - val_accuracy: 0.6250\n",
      "Epoch 3/20\n",
      "20/20 [==============================] - 0s 2ms/step - loss: 0.8709 - accuracy: 0.5417 - val_loss: 0.8952 - val_accuracy: 0.6667\n",
      "Epoch 4/20\n",
      "20/20 [==============================] - 0s 2ms/step - loss: 0.8116 - accuracy: 0.6042 - val_loss: 0.8506 - val_accuracy: 0.7083\n",
      "Epoch 5/20\n",
      "20/20 [==============================] - 0s 2ms/step - loss: 0.7576 - accuracy: 0.6458 - val_loss: 0.8030 - val_accuracy: 0.7500\n",
      "Epoch 6/20\n",
      "20/20 [==============================] - 0s 3ms/step - loss: 0.7104 - accuracy: 0.6771 - val_loss: 0.7545 - val_accuracy: 0.7917\n",
      "Epoch 7/20\n",
      "20/20 [==============================] - 0s 2ms/step - loss: 0.6706 - accuracy: 0.7083 - val_loss: 0.7188 - val_accuracy: 0.8333\n",
      "Epoch 8/20\n",
      "20/20 [==============================] - 0s 2ms/step - loss: 0.6384 - accuracy: 0.6979 - val_loss: 0.6774 - val_accuracy: 0.8333\n",
      "Epoch 9/20\n",
      "20/20 [==============================] - 0s 2ms/step - loss: 0.6100 - accuracy: 0.7396 - val_loss: 0.6445 - val_accuracy: 0.8750\n",
      "Epoch 10/20\n",
      "20/20 [==============================] - 0s 2ms/step - loss: 0.5845 - accuracy: 0.7917 - val_loss: 0.6204 - val_accuracy: 0.8750\n",
      "Epoch 11/20\n",
      "20/20 [==============================] - 0s 2ms/step - loss: 0.5608 - accuracy: 0.8125 - val_loss: 0.5913 - val_accuracy: 0.8750\n",
      "Epoch 12/20\n",
      "20/20 [==============================] - 0s 2ms/step - loss: 0.5392 - accuracy: 0.8125 - val_loss: 0.5680 - val_accuracy: 0.8750\n",
      "Epoch 13/20\n",
      "20/20 [==============================] - 0s 2ms/step - loss: 0.5161 - accuracy: 0.8333 - val_loss: 0.5393 - val_accuracy: 0.8750\n",
      "Epoch 14/20\n",
      "20/20 [==============================] - 0s 2ms/step - loss: 0.4949 - accuracy: 0.8542 - val_loss: 0.5201 - val_accuracy: 0.9167\n",
      "Epoch 15/20\n",
      "20/20 [==============================] - 0s 3ms/step - loss: 0.4755 - accuracy: 0.8542 - val_loss: 0.4930 - val_accuracy: 0.9167\n",
      "Epoch 16/20\n",
      "20/20 [==============================] - 0s 2ms/step - loss: 0.4581 - accuracy: 0.8438 - val_loss: 0.4690 - val_accuracy: 0.9167\n",
      "Epoch 17/20\n",
      "20/20 [==============================] - 0s 2ms/step - loss: 0.4408 - accuracy: 0.8438 - val_loss: 0.4508 - val_accuracy: 0.9167\n",
      "Epoch 18/20\n",
      "20/20 [==============================] - 0s 2ms/step - loss: 0.4244 - accuracy: 0.8750 - val_loss: 0.4377 - val_accuracy: 0.9167\n",
      "Epoch 19/20\n",
      "20/20 [==============================] - 0s 2ms/step - loss: 0.4081 - accuracy: 0.8750 - val_loss: 0.4183 - val_accuracy: 0.9167\n",
      "Epoch 20/20\n",
      "20/20 [==============================] - 0s 2ms/step - loss: 0.3932 - accuracy: 0.8750 - val_loss: 0.4040 - val_accuracy: 0.9167\n"
     ]
    },
    {
     "data": {
      "text/plain": [
       "<keras.callbacks.History at 0x2e2372fc670>"
      ]
     },
     "execution_count": 28,
     "metadata": {},
     "output_type": "execute_result"
    }
   ],
   "execution_count": 28
  },
  {
   "metadata": {
    "ExecuteTime": {
     "end_time": "2024-08-22T12:54:31.280997Z",
     "start_time": "2024-08-22T12:54:31.204997Z"
    }
   },
   "cell_type": "code",
   "source": [
    "loss, accuracy = model.evaluate(X_test, y_test)\n",
    "print(f\"Loss: , {loss:.2f}\")\n",
    "print(f\"Accuracy: , {accuracy:.2f}\")"
   ],
   "id": "a35f1687182f3011",
   "outputs": [
    {
     "name": "stdout",
     "output_type": "stream",
     "text": [
      "1/1 [==============================] - 0s 20ms/step - loss: 0.3301 - accuracy: 0.9333\n",
      "Loss: , 0.33\n",
      "Accuracy: , 0.93\n"
     ]
    }
   ],
   "execution_count": 29
  },
  {
   "metadata": {
    "ExecuteTime": {
     "end_time": "2024-08-22T12:56:16.939579Z",
     "start_time": "2024-08-22T12:56:16.886578Z"
    }
   },
   "cell_type": "code",
   "source": [
    "predictions = model.predict(X_test) \n",
    "print(np.round(predictions[:5], 3))"
   ],
   "id": "773496a7bccc4a0e",
   "outputs": [
    {
     "name": "stdout",
     "output_type": "stream",
     "text": [
      "1/1 [==============================] - 0s 16ms/step\n",
      "[[0.159 0.472 0.369]\n",
      " [0.992 0.002 0.005]\n",
      " [0.013 0.071 0.915]\n",
      " [0.142 0.435 0.423]\n",
      " [0.109 0.424 0.467]]\n"
     ]
    }
   ],
   "execution_count": 32
  }
 ],
 "metadata": {
  "kernelspec": {
   "display_name": "Python 3",
   "language": "python",
   "name": "python3"
  },
  "language_info": {
   "codemirror_mode": {
    "name": "ipython",
    "version": 2
   },
   "file_extension": ".py",
   "mimetype": "text/x-python",
   "name": "python",
   "nbconvert_exporter": "python",
   "pygments_lexer": "ipython2",
   "version": "2.7.6"
  }
 },
 "nbformat": 4,
 "nbformat_minor": 5
}
