{
 "cells": [
  {
   "cell_type": "code",
   "id": "initial_id",
   "metadata": {
    "collapsed": true,
    "ExecuteTime": {
     "end_time": "2024-09-06T07:37:19.535229Z",
     "start_time": "2024-09-06T07:37:17.289228Z"
    }
   },
   "source": [
    "from sklearn.datasets import load_iris\n",
    "import pandas as pd\n",
    "from sklearn.preprocessing import StandardScaler\n",
    "from sklearn.model_selection import train_test_split\n",
    "from tensorflow.keras.utils import to_categorical\n",
    "from tensorflow.keras.models import Sequential\n",
    "from tensorflow.keras.layers import Dense\n",
    "import numpy as np"
   ],
   "outputs": [],
   "execution_count": 1
  },
  {
   "metadata": {
    "ExecuteTime": {
     "end_time": "2024-09-06T07:37:20.233920Z",
     "start_time": "2024-09-06T07:37:20.222920Z"
    }
   },
   "cell_type": "code",
   "source": [
    "iris = load_iris()\n",
    "\n",
    "X = iris.data\n",
    "y = iris.target\n",
    "\n",
    "y = to_categorical(y)"
   ],
   "id": "b84b67fabf9bdd30",
   "outputs": [],
   "execution_count": 2
  },
  {
   "metadata": {
    "ExecuteTime": {
     "end_time": "2024-09-06T07:37:21.161398Z",
     "start_time": "2024-09-06T07:37:21.151398Z"
    }
   },
   "cell_type": "code",
   "source": "X_train, X_test, y_train, y_test = train_test_split(X, y, test_size=0.2, random_state=42)",
   "id": "e53a863217841715",
   "outputs": [],
   "execution_count": 3
  },
  {
   "metadata": {
    "ExecuteTime": {
     "end_time": "2024-09-06T07:37:21.913539Z",
     "start_time": "2024-09-06T07:37:21.905538Z"
    }
   },
   "cell_type": "code",
   "source": "scaler = StandardScaler()",
   "id": "ec077eabbb836c8d",
   "outputs": [],
   "execution_count": 4
  },
  {
   "metadata": {
    "ExecuteTime": {
     "end_time": "2024-09-06T07:37:22.818788Z",
     "start_time": "2024-09-06T07:37:22.806789Z"
    }
   },
   "cell_type": "code",
   "source": [
    "X_train = scaler.fit_transform(X_train)\n",
    "X_test = scaler.transform(X_test)"
   ],
   "id": "43344c4dde5cbce2",
   "outputs": [],
   "execution_count": 5
  },
  {
   "metadata": {
    "ExecuteTime": {
     "end_time": "2024-09-06T07:37:24.705057Z",
     "start_time": "2024-09-06T07:37:24.611060Z"
    }
   },
   "cell_type": "code",
   "source": [
    "model = Sequential()\n",
    "model.add(Dense(10, input_shape=(4,), activation='relu'))\n",
    "model.add(Dense(10, activation='relu'))\n",
    "model.add(Dense(3, activation='softmax'))"
   ],
   "id": "644d096f96999d48",
   "outputs": [],
   "execution_count": 6
  },
  {
   "metadata": {
    "ExecuteTime": {
     "end_time": "2024-09-06T07:37:25.774919Z",
     "start_time": "2024-09-06T07:37:25.754922Z"
    }
   },
   "cell_type": "code",
   "source": "model.compile(loss='categorical_crossentropy', optimizer='adam', metrics=['accuracy'])",
   "id": "76bd96a3e7191ef5",
   "outputs": [],
   "execution_count": 7
  },
  {
   "metadata": {
    "ExecuteTime": {
     "end_time": "2024-09-06T07:37:29.443598Z",
     "start_time": "2024-09-06T07:37:27.651598Z"
    }
   },
   "cell_type": "code",
   "source": "model.fit(X_train, y_train, epochs=20, batch_size=5, validation_split=0.2)",
   "id": "3e504170f671861f",
   "outputs": [
    {
     "name": "stdout",
     "output_type": "stream",
     "text": [
      "Epoch 1/20\n",
      "20/20 [==============================] - 1s 14ms/step - loss: 1.0181 - accuracy: 0.3646 - val_loss: 1.0696 - val_accuracy: 0.2917\n",
      "Epoch 2/20\n",
      "20/20 [==============================] - 0s 2ms/step - loss: 0.9483 - accuracy: 0.4062 - val_loss: 1.0094 - val_accuracy: 0.3750\n",
      "Epoch 3/20\n",
      "20/20 [==============================] - 0s 3ms/step - loss: 0.8876 - accuracy: 0.5208 - val_loss: 0.9553 - val_accuracy: 0.5833\n",
      "Epoch 4/20\n",
      "20/20 [==============================] - 0s 2ms/step - loss: 0.8357 - accuracy: 0.6250 - val_loss: 0.9092 - val_accuracy: 0.7500\n",
      "Epoch 5/20\n",
      "20/20 [==============================] - 0s 2ms/step - loss: 0.7899 - accuracy: 0.7083 - val_loss: 0.8664 - val_accuracy: 0.7500\n",
      "Epoch 6/20\n",
      "20/20 [==============================] - 0s 2ms/step - loss: 0.7443 - accuracy: 0.7500 - val_loss: 0.8276 - val_accuracy: 0.8333\n",
      "Epoch 7/20\n",
      "20/20 [==============================] - 0s 2ms/step - loss: 0.7060 - accuracy: 0.7708 - val_loss: 0.7859 - val_accuracy: 0.8333\n",
      "Epoch 8/20\n",
      "20/20 [==============================] - 0s 2ms/step - loss: 0.6686 - accuracy: 0.7708 - val_loss: 0.7551 - val_accuracy: 0.8333\n",
      "Epoch 9/20\n",
      "20/20 [==============================] - 0s 2ms/step - loss: 0.6352 - accuracy: 0.7708 - val_loss: 0.7239 - val_accuracy: 0.8333\n",
      "Epoch 10/20\n",
      "20/20 [==============================] - 0s 2ms/step - loss: 0.6051 - accuracy: 0.7708 - val_loss: 0.6957 - val_accuracy: 0.8333\n",
      "Epoch 11/20\n",
      "20/20 [==============================] - 0s 2ms/step - loss: 0.5771 - accuracy: 0.7812 - val_loss: 0.6689 - val_accuracy: 0.8333\n",
      "Epoch 12/20\n",
      "20/20 [==============================] - 0s 3ms/step - loss: 0.5526 - accuracy: 0.7917 - val_loss: 0.6400 - val_accuracy: 0.8333\n",
      "Epoch 13/20\n",
      "20/20 [==============================] - 0s 3ms/step - loss: 0.5309 - accuracy: 0.7917 - val_loss: 0.6152 - val_accuracy: 0.8333\n",
      "Epoch 14/20\n",
      "20/20 [==============================] - 0s 2ms/step - loss: 0.5098 - accuracy: 0.7917 - val_loss: 0.5969 - val_accuracy: 0.8333\n",
      "Epoch 15/20\n",
      "20/20 [==============================] - 0s 2ms/step - loss: 0.4898 - accuracy: 0.7917 - val_loss: 0.5758 - val_accuracy: 0.8333\n",
      "Epoch 16/20\n",
      "20/20 [==============================] - 0s 2ms/step - loss: 0.4726 - accuracy: 0.7917 - val_loss: 0.5525 - val_accuracy: 0.8333\n",
      "Epoch 17/20\n",
      "20/20 [==============================] - 0s 2ms/step - loss: 0.4547 - accuracy: 0.7917 - val_loss: 0.5340 - val_accuracy: 0.8333\n",
      "Epoch 18/20\n",
      "20/20 [==============================] - 0s 2ms/step - loss: 0.4401 - accuracy: 0.7917 - val_loss: 0.5264 - val_accuracy: 0.8333\n",
      "Epoch 19/20\n",
      "20/20 [==============================] - 0s 2ms/step - loss: 0.4244 - accuracy: 0.7917 - val_loss: 0.5149 - val_accuracy: 0.8333\n",
      "Epoch 20/20\n",
      "20/20 [==============================] - 0s 2ms/step - loss: 0.4114 - accuracy: 0.8021 - val_loss: 0.4997 - val_accuracy: 0.8333\n"
     ]
    },
    {
     "data": {
      "text/plain": [
       "<keras.callbacks.History at 0x18c43ee5b40>"
      ]
     },
     "execution_count": 8,
     "metadata": {},
     "output_type": "execute_result"
    }
   ],
   "execution_count": 8
  },
  {
   "metadata": {
    "ExecuteTime": {
     "end_time": "2024-09-06T07:37:31.357065Z",
     "start_time": "2024-09-06T07:37:31.293552Z"
    }
   },
   "cell_type": "code",
   "source": [
    "loss, accuracy = model.evaluate(X_test, y_test)\n",
    "print(f\"Loss: , {loss:.2f}\")\n",
    "print(f\"Accuracy: , {accuracy:.2f}\")"
   ],
   "id": "a35f1687182f3011",
   "outputs": [
    {
     "name": "stdout",
     "output_type": "stream",
     "text": [
      "1/1 [==============================] - 0s 16ms/step - loss: 0.3285 - accuracy: 0.9000\n",
      "Loss: , 0.33\n",
      "Accuracy: , 0.90\n"
     ]
    }
   ],
   "execution_count": 9
  },
  {
   "metadata": {
    "ExecuteTime": {
     "end_time": "2024-09-06T07:37:32.586431Z",
     "start_time": "2024-09-06T07:37:32.475436Z"
    }
   },
   "cell_type": "code",
   "source": [
    "predictions = model.predict(X_test) \n",
    "print(np.round(predictions[:5], 3))"
   ],
   "id": "773496a7bccc4a0e",
   "outputs": [
    {
     "name": "stdout",
     "output_type": "stream",
     "text": [
      "1/1 [==============================] - 0s 60ms/step\n",
      "[[0.138 0.472 0.39 ]\n",
      " [0.982 0.016 0.002]\n",
      " [0.018 0.121 0.861]\n",
      " [0.145 0.417 0.438]\n",
      " [0.103 0.329 0.568]]\n"
     ]
    }
   ],
   "execution_count": 10
  },
  {
   "metadata": {},
   "cell_type": "code",
   "outputs": [],
   "execution_count": null,
   "source": "",
   "id": "7f5312be3ba83ec3"
  }
 ],
 "metadata": {
  "kernelspec": {
   "display_name": "Python 3",
   "language": "python",
   "name": "python3"
  },
  "language_info": {
   "codemirror_mode": {
    "name": "ipython",
    "version": 2
   },
   "file_extension": ".py",
   "mimetype": "text/x-python",
   "name": "python",
   "nbconvert_exporter": "python",
   "pygments_lexer": "ipython2",
   "version": "2.7.6"
  }
 },
 "nbformat": 4,
 "nbformat_minor": 5
}
