{
 "cells": [
  {
   "cell_type": "code",
   "id": "initial_id",
   "metadata": {
    "collapsed": true,
    "ExecuteTime": {
     "end_time": "2024-09-10T10:00:41.593434Z",
     "start_time": "2024-09-10T10:00:41.589434Z"
    }
   },
   "source": [
    "from matplotlib import pyplot as plt\n",
    "from sklearn.datasets import load_iris\n",
    "import pandas as pd\n",
    "from sklearn.preprocessing import StandardScaler\n",
    "from sklearn.model_selection import train_test_split\n",
    "from tensorflow.keras.utils import to_categorical\n",
    "from tensorflow.keras.models import Sequential\n",
    "from tensorflow.keras.layers import Dense\n",
    "import numpy as np"
   ],
   "outputs": [],
   "execution_count": 141
  },
  {
   "metadata": {
    "ExecuteTime": {
     "end_time": "2024-09-10T10:00:41.609433Z",
     "start_time": "2024-09-10T10:00:41.596433Z"
    }
   },
   "cell_type": "code",
   "source": [
    "iris = load_iris()\n",
    "\n",
    "X = iris.data\n",
    "y = iris.target\n",
    "\n",
    "y = to_categorical(y)\n"
   ],
   "id": "b84b67fabf9bdd30",
   "outputs": [],
   "execution_count": 142
  },
  {
   "metadata": {
    "ExecuteTime": {
     "end_time": "2024-09-10T10:00:41.624433Z",
     "start_time": "2024-09-10T10:00:41.611433Z"
    }
   },
   "cell_type": "code",
   "source": [
    "df = pd.DataFrame(iris.data, columns=iris.feature_names)\n",
    "df.describe()"
   ],
   "id": "3a11307845b5d732",
   "outputs": [
    {
     "data": {
      "text/plain": [
       "       sepal length (cm)  sepal width (cm)  petal length (cm)  \\\n",
       "count         150.000000        150.000000         150.000000   \n",
       "mean            5.843333          3.057333           3.758000   \n",
       "std             0.828066          0.435866           1.765298   \n",
       "min             4.300000          2.000000           1.000000   \n",
       "25%             5.100000          2.800000           1.600000   \n",
       "50%             5.800000          3.000000           4.350000   \n",
       "75%             6.400000          3.300000           5.100000   \n",
       "max             7.900000          4.400000           6.900000   \n",
       "\n",
       "       petal width (cm)  \n",
       "count        150.000000  \n",
       "mean           1.199333  \n",
       "std            0.762238  \n",
       "min            0.100000  \n",
       "25%            0.300000  \n",
       "50%            1.300000  \n",
       "75%            1.800000  \n",
       "max            2.500000  "
      ],
      "text/html": [
       "<div>\n",
       "<style scoped>\n",
       "    .dataframe tbody tr th:only-of-type {\n",
       "        vertical-align: middle;\n",
       "    }\n",
       "\n",
       "    .dataframe tbody tr th {\n",
       "        vertical-align: top;\n",
       "    }\n",
       "\n",
       "    .dataframe thead th {\n",
       "        text-align: right;\n",
       "    }\n",
       "</style>\n",
       "<table border=\"1\" class=\"dataframe\">\n",
       "  <thead>\n",
       "    <tr style=\"text-align: right;\">\n",
       "      <th></th>\n",
       "      <th>sepal length (cm)</th>\n",
       "      <th>sepal width (cm)</th>\n",
       "      <th>petal length (cm)</th>\n",
       "      <th>petal width (cm)</th>\n",
       "    </tr>\n",
       "  </thead>\n",
       "  <tbody>\n",
       "    <tr>\n",
       "      <th>count</th>\n",
       "      <td>150.000000</td>\n",
       "      <td>150.000000</td>\n",
       "      <td>150.000000</td>\n",
       "      <td>150.000000</td>\n",
       "    </tr>\n",
       "    <tr>\n",
       "      <th>mean</th>\n",
       "      <td>5.843333</td>\n",
       "      <td>3.057333</td>\n",
       "      <td>3.758000</td>\n",
       "      <td>1.199333</td>\n",
       "    </tr>\n",
       "    <tr>\n",
       "      <th>std</th>\n",
       "      <td>0.828066</td>\n",
       "      <td>0.435866</td>\n",
       "      <td>1.765298</td>\n",
       "      <td>0.762238</td>\n",
       "    </tr>\n",
       "    <tr>\n",
       "      <th>min</th>\n",
       "      <td>4.300000</td>\n",
       "      <td>2.000000</td>\n",
       "      <td>1.000000</td>\n",
       "      <td>0.100000</td>\n",
       "    </tr>\n",
       "    <tr>\n",
       "      <th>25%</th>\n",
       "      <td>5.100000</td>\n",
       "      <td>2.800000</td>\n",
       "      <td>1.600000</td>\n",
       "      <td>0.300000</td>\n",
       "    </tr>\n",
       "    <tr>\n",
       "      <th>50%</th>\n",
       "      <td>5.800000</td>\n",
       "      <td>3.000000</td>\n",
       "      <td>4.350000</td>\n",
       "      <td>1.300000</td>\n",
       "    </tr>\n",
       "    <tr>\n",
       "      <th>75%</th>\n",
       "      <td>6.400000</td>\n",
       "      <td>3.300000</td>\n",
       "      <td>5.100000</td>\n",
       "      <td>1.800000</td>\n",
       "    </tr>\n",
       "    <tr>\n",
       "      <th>max</th>\n",
       "      <td>7.900000</td>\n",
       "      <td>4.400000</td>\n",
       "      <td>6.900000</td>\n",
       "      <td>2.500000</td>\n",
       "    </tr>\n",
       "  </tbody>\n",
       "</table>\n",
       "</div>"
      ]
     },
     "execution_count": 143,
     "metadata": {},
     "output_type": "execute_result"
    }
   ],
   "execution_count": 143
  },
  {
   "metadata": {
    "ExecuteTime": {
     "end_time": "2024-09-10T10:00:41.639433Z",
     "start_time": "2024-09-10T10:00:41.625433Z"
    }
   },
   "cell_type": "code",
   "source": "X_train, X_test, y_train, y_test = train_test_split(X, y, test_size=0.2, random_state=42)",
   "id": "e53a863217841715",
   "outputs": [],
   "execution_count": 144
  },
  {
   "metadata": {
    "ExecuteTime": {
     "end_time": "2024-09-10T10:00:41.654433Z",
     "start_time": "2024-09-10T10:00:41.640434Z"
    }
   },
   "cell_type": "code",
   "source": "scaler = StandardScaler()",
   "id": "ec077eabbb836c8d",
   "outputs": [],
   "execution_count": 145
  },
  {
   "metadata": {
    "ExecuteTime": {
     "end_time": "2024-09-10T10:00:41.669433Z",
     "start_time": "2024-09-10T10:00:41.656433Z"
    }
   },
   "cell_type": "code",
   "source": [
    "X_train = scaler.fit_transform(X_train)\n",
    "X_test = scaler.transform(X_test)"
   ],
   "id": "43344c4dde5cbce2",
   "outputs": [],
   "execution_count": 146
  },
  {
   "metadata": {
    "ExecuteTime": {
     "end_time": "2024-09-10T10:00:41.699434Z",
     "start_time": "2024-09-10T10:00:41.670434Z"
    }
   },
   "cell_type": "code",
   "source": [
    "model = Sequential()\n",
    "model.add(Dense(10, input_shape=(4,), activation='relu'))\n",
    "model.add(Dense(10, activation='relu'))\n",
    "model.add(Dense(3, activation='softmax'))"
   ],
   "id": "644d096f96999d48",
   "outputs": [],
   "execution_count": 147
  },
  {
   "metadata": {
    "ExecuteTime": {
     "end_time": "2024-09-10T10:00:41.715436Z",
     "start_time": "2024-09-10T10:00:41.700434Z"
    }
   },
   "cell_type": "code",
   "source": "model.compile(loss='categorical_crossentropy', optimizer='adam', metrics=['accuracy'])",
   "id": "76bd96a3e7191ef5",
   "outputs": [],
   "execution_count": 148
  },
  {
   "metadata": {
    "ExecuteTime": {
     "end_time": "2024-09-10T10:00:44.434432Z",
     "start_time": "2024-09-10T10:00:41.717434Z"
    }
   },
   "cell_type": "code",
   "source": "history = model.fit(X_train, y_train, epochs=60, batch_size=10, validation_split=0.2)",
   "id": "3e504170f671861f",
   "outputs": [
    {
     "name": "stdout",
     "output_type": "stream",
     "text": [
      "Epoch 1/60\n",
      "10/10 [==============================] - 0s 22ms/step - loss: 1.3896 - accuracy: 0.1354 - val_loss: 1.2646 - val_accuracy: 0.2500\n",
      "Epoch 2/60\n",
      "10/10 [==============================] - 0s 4ms/step - loss: 1.3100 - accuracy: 0.2083 - val_loss: 1.2082 - val_accuracy: 0.2500\n",
      "Epoch 3/60\n",
      "10/10 [==============================] - 0s 3ms/step - loss: 1.2411 - accuracy: 0.2708 - val_loss: 1.1564 - val_accuracy: 0.2917\n",
      "Epoch 4/60\n",
      "10/10 [==============================] - 0s 3ms/step - loss: 1.1771 - accuracy: 0.3021 - val_loss: 1.1080 - val_accuracy: 0.3333\n",
      "Epoch 5/60\n",
      "10/10 [==============================] - 0s 4ms/step - loss: 1.1205 - accuracy: 0.3542 - val_loss: 1.0631 - val_accuracy: 0.3750\n",
      "Epoch 6/60\n",
      "10/10 [==============================] - 0s 4ms/step - loss: 1.0665 - accuracy: 0.3750 - val_loss: 1.0180 - val_accuracy: 0.3750\n",
      "Epoch 7/60\n",
      "10/10 [==============================] - 0s 4ms/step - loss: 1.0132 - accuracy: 0.3958 - val_loss: 0.9684 - val_accuracy: 0.4167\n",
      "Epoch 8/60\n",
      "10/10 [==============================] - 0s 4ms/step - loss: 0.9623 - accuracy: 0.4792 - val_loss: 0.9226 - val_accuracy: 0.5000\n",
      "Epoch 9/60\n",
      "10/10 [==============================] - 0s 4ms/step - loss: 0.9118 - accuracy: 0.6458 - val_loss: 0.8765 - val_accuracy: 0.6250\n",
      "Epoch 10/60\n",
      "10/10 [==============================] - 0s 4ms/step - loss: 0.8670 - accuracy: 0.8125 - val_loss: 0.8329 - val_accuracy: 0.7500\n",
      "Epoch 11/60\n",
      "10/10 [==============================] - 0s 4ms/step - loss: 0.8205 - accuracy: 0.8333 - val_loss: 0.7944 - val_accuracy: 0.7917\n",
      "Epoch 12/60\n",
      "10/10 [==============================] - 0s 4ms/step - loss: 0.7766 - accuracy: 0.8229 - val_loss: 0.7571 - val_accuracy: 0.8750\n",
      "Epoch 13/60\n",
      "10/10 [==============================] - 0s 3ms/step - loss: 0.7336 - accuracy: 0.8333 - val_loss: 0.7233 - val_accuracy: 0.9167\n",
      "Epoch 14/60\n",
      "10/10 [==============================] - 0s 5ms/step - loss: 0.6923 - accuracy: 0.8750 - val_loss: 0.6849 - val_accuracy: 0.8750\n",
      "Epoch 15/60\n",
      "10/10 [==============================] - 0s 4ms/step - loss: 0.6499 - accuracy: 0.8958 - val_loss: 0.6489 - val_accuracy: 0.8750\n",
      "Epoch 16/60\n",
      "10/10 [==============================] - 0s 4ms/step - loss: 0.6117 - accuracy: 0.8750 - val_loss: 0.6156 - val_accuracy: 0.8750\n",
      "Epoch 17/60\n",
      "10/10 [==============================] - 0s 4ms/step - loss: 0.5745 - accuracy: 0.8646 - val_loss: 0.5805 - val_accuracy: 0.8750\n",
      "Epoch 18/60\n",
      "10/10 [==============================] - 0s 4ms/step - loss: 0.5424 - accuracy: 0.8438 - val_loss: 0.5407 - val_accuracy: 0.8750\n",
      "Epoch 19/60\n",
      "10/10 [==============================] - 0s 4ms/step - loss: 0.5115 - accuracy: 0.8438 - val_loss: 0.5116 - val_accuracy: 0.9167\n",
      "Epoch 20/60\n",
      "10/10 [==============================] - 0s 4ms/step - loss: 0.4858 - accuracy: 0.8229 - val_loss: 0.4829 - val_accuracy: 0.8750\n",
      "Epoch 21/60\n",
      "10/10 [==============================] - 0s 4ms/step - loss: 0.4620 - accuracy: 0.8229 - val_loss: 0.4635 - val_accuracy: 0.8750\n",
      "Epoch 22/60\n",
      "10/10 [==============================] - 0s 4ms/step - loss: 0.4423 - accuracy: 0.8229 - val_loss: 0.4454 - val_accuracy: 0.8750\n",
      "Epoch 23/60\n",
      "10/10 [==============================] - 0s 4ms/step - loss: 0.4246 - accuracy: 0.8333 - val_loss: 0.4303 - val_accuracy: 0.8750\n",
      "Epoch 24/60\n",
      "10/10 [==============================] - 0s 3ms/step - loss: 0.4099 - accuracy: 0.8333 - val_loss: 0.4205 - val_accuracy: 0.9167\n",
      "Epoch 25/60\n",
      "10/10 [==============================] - 0s 4ms/step - loss: 0.3962 - accuracy: 0.8333 - val_loss: 0.4057 - val_accuracy: 0.9167\n",
      "Epoch 26/60\n",
      "10/10 [==============================] - 0s 4ms/step - loss: 0.3833 - accuracy: 0.8438 - val_loss: 0.3949 - val_accuracy: 0.9167\n",
      "Epoch 27/60\n",
      "10/10 [==============================] - 0s 3ms/step - loss: 0.3720 - accuracy: 0.8542 - val_loss: 0.3843 - val_accuracy: 0.9167\n",
      "Epoch 28/60\n",
      "10/10 [==============================] - 0s 3ms/step - loss: 0.3616 - accuracy: 0.8542 - val_loss: 0.3752 - val_accuracy: 0.9167\n",
      "Epoch 29/60\n",
      "10/10 [==============================] - 0s 4ms/step - loss: 0.3523 - accuracy: 0.9062 - val_loss: 0.3693 - val_accuracy: 0.9167\n",
      "Epoch 30/60\n",
      "10/10 [==============================] - 0s 3ms/step - loss: 0.3426 - accuracy: 0.9062 - val_loss: 0.3583 - val_accuracy: 0.9167\n",
      "Epoch 31/60\n",
      "10/10 [==============================] - 0s 3ms/step - loss: 0.3340 - accuracy: 0.9062 - val_loss: 0.3497 - val_accuracy: 0.9167\n",
      "Epoch 32/60\n",
      "10/10 [==============================] - 0s 4ms/step - loss: 0.3263 - accuracy: 0.9062 - val_loss: 0.3401 - val_accuracy: 0.9167\n",
      "Epoch 33/60\n",
      "10/10 [==============================] - 0s 4ms/step - loss: 0.3184 - accuracy: 0.9062 - val_loss: 0.3360 - val_accuracy: 0.9167\n",
      "Epoch 34/60\n",
      "10/10 [==============================] - 0s 4ms/step - loss: 0.3107 - accuracy: 0.9062 - val_loss: 0.3278 - val_accuracy: 0.9167\n",
      "Epoch 35/60\n",
      "10/10 [==============================] - 0s 3ms/step - loss: 0.3042 - accuracy: 0.9062 - val_loss: 0.3216 - val_accuracy: 0.9167\n",
      "Epoch 36/60\n",
      "10/10 [==============================] - 0s 3ms/step - loss: 0.2974 - accuracy: 0.9062 - val_loss: 0.3161 - val_accuracy: 0.9167\n",
      "Epoch 37/60\n",
      "10/10 [==============================] - 0s 3ms/step - loss: 0.2921 - accuracy: 0.9271 - val_loss: 0.3143 - val_accuracy: 0.9167\n",
      "Epoch 38/60\n",
      "10/10 [==============================] - 0s 3ms/step - loss: 0.2847 - accuracy: 0.9375 - val_loss: 0.3040 - val_accuracy: 0.9167\n",
      "Epoch 39/60\n",
      "10/10 [==============================] - 0s 4ms/step - loss: 0.2788 - accuracy: 0.9271 - val_loss: 0.2973 - val_accuracy: 0.9167\n",
      "Epoch 40/60\n",
      "10/10 [==============================] - 0s 4ms/step - loss: 0.2729 - accuracy: 0.9479 - val_loss: 0.2934 - val_accuracy: 0.9167\n",
      "Epoch 41/60\n",
      "10/10 [==============================] - 0s 4ms/step - loss: 0.2664 - accuracy: 0.9479 - val_loss: 0.2853 - val_accuracy: 0.9167\n",
      "Epoch 42/60\n",
      "10/10 [==============================] - 0s 4ms/step - loss: 0.2607 - accuracy: 0.9479 - val_loss: 0.2811 - val_accuracy: 0.9583\n",
      "Epoch 43/60\n",
      "10/10 [==============================] - 0s 4ms/step - loss: 0.2552 - accuracy: 0.9479 - val_loss: 0.2736 - val_accuracy: 0.9583\n",
      "Epoch 44/60\n",
      "10/10 [==============================] - 0s 4ms/step - loss: 0.2486 - accuracy: 0.9479 - val_loss: 0.2720 - val_accuracy: 0.9583\n",
      "Epoch 45/60\n",
      "10/10 [==============================] - 0s 4ms/step - loss: 0.2429 - accuracy: 0.9479 - val_loss: 0.2682 - val_accuracy: 0.9583\n",
      "Epoch 46/60\n",
      "10/10 [==============================] - 0s 4ms/step - loss: 0.2390 - accuracy: 0.9479 - val_loss: 0.2573 - val_accuracy: 0.9583\n",
      "Epoch 47/60\n",
      "10/10 [==============================] - 0s 4ms/step - loss: 0.2313 - accuracy: 0.9479 - val_loss: 0.2544 - val_accuracy: 0.9583\n",
      "Epoch 48/60\n",
      "10/10 [==============================] - 0s 4ms/step - loss: 0.2266 - accuracy: 0.9479 - val_loss: 0.2541 - val_accuracy: 0.9583\n",
      "Epoch 49/60\n",
      "10/10 [==============================] - 0s 4ms/step - loss: 0.2211 - accuracy: 0.9479 - val_loss: 0.2443 - val_accuracy: 0.9583\n",
      "Epoch 50/60\n",
      "10/10 [==============================] - 0s 3ms/step - loss: 0.2157 - accuracy: 0.9479 - val_loss: 0.2424 - val_accuracy: 0.9583\n",
      "Epoch 51/60\n",
      "10/10 [==============================] - 0s 3ms/step - loss: 0.2105 - accuracy: 0.9479 - val_loss: 0.2374 - val_accuracy: 0.9583\n",
      "Epoch 52/60\n",
      "10/10 [==============================] - 0s 3ms/step - loss: 0.2060 - accuracy: 0.9479 - val_loss: 0.2355 - val_accuracy: 0.9583\n",
      "Epoch 53/60\n",
      "10/10 [==============================] - 0s 3ms/step - loss: 0.2004 - accuracy: 0.9479 - val_loss: 0.2338 - val_accuracy: 0.9583\n",
      "Epoch 54/60\n",
      "10/10 [==============================] - 0s 4ms/step - loss: 0.1960 - accuracy: 0.9479 - val_loss: 0.2286 - val_accuracy: 0.9583\n",
      "Epoch 55/60\n",
      "10/10 [==============================] - 0s 4ms/step - loss: 0.1917 - accuracy: 0.9479 - val_loss: 0.2224 - val_accuracy: 0.9583\n",
      "Epoch 56/60\n",
      "10/10 [==============================] - 0s 3ms/step - loss: 0.1879 - accuracy: 0.9375 - val_loss: 0.2288 - val_accuracy: 0.9583\n",
      "Epoch 57/60\n",
      "10/10 [==============================] - 0s 4ms/step - loss: 0.1839 - accuracy: 0.9375 - val_loss: 0.2210 - val_accuracy: 0.9583\n",
      "Epoch 58/60\n",
      "10/10 [==============================] - 0s 3ms/step - loss: 0.1783 - accuracy: 0.9375 - val_loss: 0.2215 - val_accuracy: 0.9583\n",
      "Epoch 59/60\n",
      "10/10 [==============================] - 0s 3ms/step - loss: 0.1739 - accuracy: 0.9375 - val_loss: 0.2110 - val_accuracy: 0.9583\n",
      "Epoch 60/60\n",
      "10/10 [==============================] - 0s 4ms/step - loss: 0.1699 - accuracy: 0.9375 - val_loss: 0.2042 - val_accuracy: 0.9583\n"
     ]
    }
   ],
   "execution_count": 149
  },
  {
   "metadata": {
    "ExecuteTime": {
     "end_time": "2024-09-10T10:00:44.510432Z",
     "start_time": "2024-09-10T10:00:44.435433Z"
    }
   },
   "cell_type": "code",
   "source": [
    "loss, accuracy = model.evaluate(X_test, y_test)\n",
    "print(f\"Loss: , {loss:.2f}\")\n",
    "print(f\"Accuracy: , {accuracy:.2f}\")"
   ],
   "id": "a35f1687182f3011",
   "outputs": [
    {
     "name": "stdout",
     "output_type": "stream",
     "text": [
      "1/1 [==============================] - 0s 20ms/step - loss: 0.1326 - accuracy: 1.0000\n",
      "Loss: , 0.13\n",
      "Accuracy: , 1.00\n"
     ]
    }
   ],
   "execution_count": 150
  },
  {
   "metadata": {
    "ExecuteTime": {
     "end_time": "2024-09-10T10:00:44.634432Z",
     "start_time": "2024-09-10T10:00:44.512432Z"
    }
   },
   "cell_type": "code",
   "source": [
    "y_pred = model.predict(X_test)\n",
    "print(np.round(y_pred[:5], 3))"
   ],
   "id": "f375f98c1f7e37b7",
   "outputs": [
    {
     "name": "stdout",
     "output_type": "stream",
     "text": [
      "1/1 [==============================] - 0s 65ms/step\n",
      "[[0.016 0.803 0.181]\n",
      " [0.981 0.018 0.001]\n",
      " [0.    0.01  0.99 ]\n",
      " [0.014 0.619 0.367]\n",
      " [0.008 0.699 0.293]]\n"
     ]
    }
   ],
   "execution_count": 151
  },
  {
   "metadata": {
    "ExecuteTime": {
     "end_time": "2024-09-10T10:01:38.830377Z",
     "start_time": "2024-09-10T10:01:38.742370Z"
    }
   },
   "cell_type": "code",
   "source": [
    "plt.plot(history.history['loss'])\n",
    "plt.plot(history.history['val_loss'])\n",
    "plt.xlabel(\"Epochs\")\n",
    "plt.ylabel(\"Loss\")"
   ],
   "id": "8747676e1660e2a3",
   "outputs": [
    {
     "data": {
      "text/plain": [
       "Text(0, 0.5, 'Loss')"
      ]
     },
     "execution_count": 154,
     "metadata": {},
     "output_type": "execute_result"
    },
    {
     "data": {
      "text/plain": [
       "<Figure size 640x480 with 1 Axes>"
      ],
      "image/png": "[encoded data removed]"
     },
     "metadata": {},
     "output_type": "display_data"
    }
   ],
   "execution_count": 154
  }
 ],
 "metadata": {
  "kernelspec": {
   "display_name": "Python 3",
   "language": "python",
   "name": "python3"
  },
  "language_info": {
   "codemirror_mode": {
    "name": "ipython",
    "version": 2
   },
   "file_extension": ".py",
   "mimetype": "text/x-python",
   "name": "python",
   "nbconvert_exporter": "python",
   "pygments_lexer": "ipython2",
   "version": "2.7.6"
  }
 },
 "nbformat": 4,
 "nbformat_minor": 5
}
