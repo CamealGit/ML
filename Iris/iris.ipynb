{
 "cells": [
  {
   "cell_type": "code",
   "id": "initial_id",
   "metadata": {
    "collapsed": true,
    "ExecuteTime": {
     "end_time": "2024-08-07T09:43:53.106108Z",
     "start_time": "2024-08-07T09:43:53.090103Z"
    }
   },
   "source": [
    "from sklearn.datasets import load_iris\n",
    "import pandas as pd\n",
    "import seaborn as sns\n",
    "import matplotlib.pyplot as plt\n",
    "from sklearn.model_selection import train_test_split\n",
    "from sklearn.neighbors import KNeighborsClassifier\n",
    "from sklearn.metrics import accuracy_score"
   ],
   "execution_count": 73,
   "outputs": []
  },
  {
   "metadata": {
    "ExecuteTime": {
     "end_time": "2024-08-07T09:43:53.122174Z",
     "start_time": "2024-08-07T09:43:53.108103Z"
    }
   },
   "cell_type": "code",
   "source": [
    "data = load_iris()\n",
    "print(data.feature_names)\n",
    "print(data.target_names)\n",
    "df = pd.DataFrame(data=data.data, columns=data.feature_names)"
   ],
   "id": "ed0a659d2633bb53",
   "execution_count": 74,
   "outputs": []
  },
  {
   "metadata": {
    "ExecuteTime": {
     "end_time": "2024-08-07T09:43:53.138276Z",
     "start_time": "2024-08-07T09:43:53.123167Z"
    }
   },
   "cell_type": "code",
   "source": "df['species'] = data.target",
   "id": "c888c80cf5b198da",
   "execution_count": 75,
   "outputs": []
  },
  {
   "metadata": {
    "ExecuteTime": {
     "end_time": "2024-08-07T09:43:53.153172Z",
     "start_time": "2024-08-07T09:43:53.140170Z"
    }
   },
   "cell_type": "code",
   "source": "print(df.head())",
   "id": "4f1f4d0bf528fd41",
   "execution_count": 76,
   "outputs": []
  },
  {
   "metadata": {
    "ExecuteTime": {
     "end_time": "2024-08-07T09:44:19.151539Z",
     "start_time": "2024-08-07T09:44:19.141500Z"
    }
   },
   "cell_type": "code",
   "source": [
    "model = KNeighborsClassifier(n_neighbors=5)\n",
    "X = data.data\n",
    "y = data.target\n",
    "X_train, X_test, y_train, y_test = train_test_split(X, y, test_size=0.2, random_state=10)"
   ],
   "id": "7b0bfa9bf9597232",
   "execution_count": 81,
   "outputs": []
  },
  {
   "metadata": {
    "ExecuteTime": {
     "end_time": "2024-08-07T09:43:53.184918Z",
     "start_time": "2024-08-07T09:43:53.170923Z"
    }
   },
   "cell_type": "code",
   "source": "model.fit(X_train, y_train)",
   "id": "3ab484a3e94ee89c",
   "execution_count": 78,
   "outputs": []
  },
  {
   "metadata": {
    "ExecuteTime": {
     "end_time": "2024-08-07T09:43:53.200187Z",
     "start_time": "2024-08-07T09:43:53.185920Z"
    }
   },
   "cell_type": "code",
   "source": "y_pred = model.predict(X_test)",
   "id": "5ac50bcd25a24dfa",
   "execution_count": 79,
   "outputs": []
  },
  {
   "metadata": {
    "ExecuteTime": {
     "end_time": "2024-08-07T09:43:53.215915Z",
     "start_time": "2024-08-07T09:43:53.201187Z"
    }
   },
   "cell_type": "code",
   "source": [
    "accuracy = accuracy_score(y_test, y_pred)\n",
    "print(accuracy)"
   ],
   "id": "4b024b072fe5fa5",
   "execution_count": 80,
   "outputs": []
  }
 ],
 "metadata": {
  "kernelspec": {
   "display_name": "Python 3",
   "language": "python",
   "name": "python3"
  },
  "language_info": {
   "codemirror_mode": {
    "name": "ipython",
    "version": 2
   },
   "file_extension": ".py",
   "mimetype": "text/x-python",
   "name": "python",
   "nbconvert_exporter": "python",
   "pygments_lexer": "ipython2",
   "version": "2.7.6"
  }
 },
 "nbformat": 4,
 "nbformat_minor": 5
}
