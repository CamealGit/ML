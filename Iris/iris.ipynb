{
 "cells": [
  {
   "cell_type": "code",
   "id": "initial_id",
   "metadata": {
    "collapsed": true,
    "ExecuteTime": {
     "end_time": "2024-08-22T12:50:14.899649Z",
     "start_time": "2024-08-22T12:50:14.892651Z"
    }
   },
   "source": [
    "from sklearn.datasets import load_iris\n",
    "import pandas as pd\n",
    "import seaborn as sns\n",
    "import matplotlib.pyplot as plt\n",
    "from sklearn.model_selection import train_test_split\n",
    "from sklearn.neighbors import KNeighborsClassifier\n",
    "from sklearn.metrics import accuracy_score"
   ],
   "execution_count": 20,
   "outputs": []
  },
  {
   "metadata": {
    "ExecuteTime": {
     "end_time": "2024-08-22T12:50:14.914650Z",
     "start_time": "2024-08-22T12:50:14.901650Z"
    }
   },
   "cell_type": "code",
   "source": [
    "data = load_iris()\n",
    "print(data.feature_names)\n",
    "print(data.target_names)\n",
    "df = pd.DataFrame(data=data.data, columns=data.feature_names)"
   ],
   "id": "ed0a659d2633bb53",
   "execution_count": 21,
   "outputs": []
  },
  {
   "metadata": {
    "ExecuteTime": {
     "end_time": "2024-08-22T12:50:14.929649Z",
     "start_time": "2024-08-22T12:50:14.916650Z"
    }
   },
   "cell_type": "code",
   "source": "df['species'] = data.target",
   "id": "c888c80cf5b198da",
   "execution_count": 22,
   "outputs": []
  },
  {
   "metadata": {
    "ExecuteTime": {
     "end_time": "2024-08-22T12:50:14.944648Z",
     "start_time": "2024-08-22T12:50:14.930648Z"
    }
   },
   "cell_type": "code",
   "source": "print(df.head())",
   "id": "4f1f4d0bf528fd41",
   "execution_count": 23,
   "outputs": []
  },
  {
   "metadata": {
    "ExecuteTime": {
     "end_time": "2024-08-22T12:50:14.959657Z",
     "start_time": "2024-08-22T12:50:14.946650Z"
    }
   },
   "cell_type": "code",
   "source": [
    "model = KNeighborsClassifier(n_neighbors=5)\n",
    "X = data.data\n",
    "y = data.target\n",
    "X_train, X_test, y_train, y_test = train_test_split(X, y, test_size=0.2, random_state=10)"
   ],
   "id": "7b0bfa9bf9597232",
   "execution_count": 24,
   "outputs": []
  },
  {
   "metadata": {
    "ExecuteTime": {
     "end_time": "2024-08-22T12:50:14.975748Z",
     "start_time": "2024-08-22T12:50:14.960648Z"
    }
   },
   "cell_type": "code",
   "source": "model.fit(X_train, y_train)",
   "id": "3ab484a3e94ee89c",
   "execution_count": 25,
   "outputs": []
  },
  {
   "metadata": {
    "ExecuteTime": {
     "end_time": "2024-08-22T12:50:14.991748Z",
     "start_time": "2024-08-22T12:50:14.976744Z"
    }
   },
   "cell_type": "code",
   "source": "y_pred = model.predict(X_test)",
   "id": "5ac50bcd25a24dfa",
   "execution_count": 26,
   "outputs": []
  },
  {
   "metadata": {
    "ExecuteTime": {
     "end_time": "2024-08-22T12:50:15.007786Z",
     "start_time": "2024-08-22T12:50:14.992752Z"
    }
   },
   "cell_type": "code",
   "source": [
    "accuracy = accuracy_score(y_test, y_pred)\n",
    "print(accuracy)"
   ],
   "id": "4b024b072fe5fa5",
   "execution_count": 27,
   "outputs": []
  }
 ],
 "metadata": {
  "kernelspec": {
   "display_name": "Python 3",
   "language": "python",
   "name": "python3"
  },
  "language_info": {
   "codemirror_mode": {
    "name": "ipython",
    "version": 2
   },
   "file_extension": ".py",
   "mimetype": "text/x-python",
   "name": "python",
   "nbconvert_exporter": "python",
   "pygments_lexer": "ipython2",
   "version": "2.7.6"
  }
 },
 "nbformat": 4,
 "nbformat_minor": 5
}
